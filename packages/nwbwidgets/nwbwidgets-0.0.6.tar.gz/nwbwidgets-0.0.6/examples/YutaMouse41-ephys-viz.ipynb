{
 "cells": [
  {
   "cell_type": "markdown",
   "metadata": {},
   "source": [
    "## YutaMouse41-ephys-viz\n",
    "\n",
    "To use this notebook you will need to install the ephys_viz package.\n",
    "\n",
    "Roughly speaking that involves installing ephys_viz from PyPI and installing the reactpoya_jup notebook and/or lab extensions.\n",
    "\n",
    "See: https://github.com/flatironinstitute/ephys-viz"
   ]
  },
  {
   "cell_type": "code",
   "execution_count": 1,
   "metadata": {},
   "outputs": [
    {
     "name": "stdout",
     "output_type": "stream",
     "text": [
      "Initialized ephys_viz for Jupyter notebooks.\n"
     ]
    }
   ],
   "source": [
    "# Imports and initialization of ephys-viz in this notebook\n",
    "import pynwb\n",
    "from pynwb import NWBHDF5IO\n",
    "from nwbwidgets import nwb2widget\n",
    "import ephys_viz as ev\n",
    "from nwbwidgets.ephys_viz_interface import ephys_viz_neurodata_vis_spec as vis_spec\n",
    "ev.init_jupyter()"
   ]
  },
  {
   "cell_type": "code",
   "execution_count": 2,
   "metadata": {},
   "outputs": [],
   "source": [
    "# You need to have an .nwb file on your computer\n",
    "file_name = '/Users/bendichter/Desktop/Buzsaki/SenzaiBuzsaki2017/YutaMouse45/YutaMouse45-160301.nwb'"
   ]
  },
  {
   "cell_type": "code",
   "execution_count": 3,
   "metadata": {},
   "outputs": [],
   "source": [
    "# Lazy-load the nwb file\n",
    "nwb_io = NWBHDF5IO(file_name, mode='r')\n",
    "nwb = nwb_io.read()"
   ]
  },
  {
   "cell_type": "code",
   "execution_count": 4,
   "metadata": {},
   "outputs": [
    {
     "data": {
      "application/vnd.jupyter.widget-view+json": {
       "model_id": "aa5f96f3a2e84e72bc0115e2072e5407",
       "version_major": 2,
       "version_minor": 0
      },
      "text/plain": [
       "ReactopyaJupyterWidget()"
      ]
     },
     "metadata": {},
     "output_type": "display_data"
    }
   ],
   "source": [
    "# Display the LFP using ephys-viz\n",
    "nwb2widget(nwb.fields['processing']['ecephys']['LFP'], vis_spec)"
   ]
  },
  {
   "cell_type": "code",
   "execution_count": 5,
   "metadata": {},
   "outputs": [
    {
     "data": {
      "application/vnd.jupyter.widget-view+json": {
       "model_id": "9db63a9556864b1f8cafc22c7aeb46de",
       "version_major": 2,
       "version_minor": 0
      },
      "text/plain": [
       "VBox(children=(HBox(children=(Label(value='session_description:', layout=Layout(max_height='40px', max_width='…"
      ]
     },
     "metadata": {},
     "output_type": "display_data"
    }
   ],
   "source": [
    "# The ephys-viz widget is integrated into nwbwidgets\n",
    "nwb2widget(nwb, vis_spec)"
   ]
  },
  {
   "cell_type": "code",
   "execution_count": 6,
   "metadata": {},
   "outputs": [
    {
     "data": {
      "application/vnd.jupyter.widget-view+json": {
       "model_id": "ff778637d0fc46cf922c8459358288d9",
       "version_major": 2,
       "version_minor": 0
      },
      "text/plain": [
       "ReactopyaJupyterWidget()"
      ]
     },
     "metadata": {},
     "output_type": "display_data"
    }
   ],
   "source": [
    "ev.NWBFile(path='/Users/bendichter/Desktop/Buzsaki/SenzaiBuzsaki2017/YutaMouse45/YutaMouse45-160301.nwb').show()"
   ]
  },
  {
   "cell_type": "code",
   "execution_count": null,
   "metadata": {},
   "outputs": [],
   "source": []
  }
 ],
 "metadata": {
  "kernelspec": {
   "display_name": "Python 3",
   "language": "python",
   "name": "python3"
  },
  "language_info": {
   "codemirror_mode": {
    "name": "ipython",
    "version": 3
   },
   "file_extension": ".py",
   "mimetype": "text/x-python",
   "name": "python",
   "nbconvert_exporter": "python",
   "pygments_lexer": "ipython3",
   "version": "3.7.3"
  }
 },
 "nbformat": 4,
 "nbformat_minor": 4
}
