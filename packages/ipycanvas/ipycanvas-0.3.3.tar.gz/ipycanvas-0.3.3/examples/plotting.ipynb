{
 "cells": [
  {
   "cell_type": "markdown",
   "metadata": {},
   "source": [
    "# Custom plotting library fully in Python!"
   ]
  },
  {
   "cell_type": "code",
   "execution_count": null,
   "metadata": {},
   "outputs": [],
   "source": [
    "from math import pi\n",
    "\n",
    "import numpy as np\n",
    "\n",
    "import branca\n",
    "\n",
    "from ipywidgets import VBox, IntSlider\n",
    "\n",
    "from ipycanvas import Canvas, hold_canvas"
   ]
  },
  {
   "cell_type": "code",
   "execution_count": null,
   "metadata": {},
   "outputs": [],
   "source": [
    "def init_2d_plot(x, y, color=None, scheme=branca.colormap.linear.RdBu_11, canvas=None, canvas_size=(800, 600), padding=0.1):\n",
    "    if canvas is None:\n",
    "        canvas = Canvas(size=canvas_size)\n",
    "    else:\n",
    "        canvas.size = canvas_size\n",
    "\n",
    "    padding_x = padding * canvas_size[0]\n",
    "    padding_y = padding * canvas_size[1]\n",
    "\n",
    "    drawarea = (drawarea_min_x, drawarea_min_y, drawarea_max_x, drawarea_max_y) = (padding_x, padding_y, canvas_size[0] - 2 * padding_x, canvas_size[1] - 2 * padding_y)\n",
    "\n",
    "    min_x, min_y, max_x, max_y = np.min(x), np.min(y), np.max(x), np.max(y)\n",
    "\n",
    "    dx = max_x - min_x\n",
    "    dy = max_y - min_y\n",
    "\n",
    "    # Turns a data coordinate into pixel coordinate\n",
    "    scale_x = lambda x: drawarea_max_x * (x - min_x) / dx + drawarea_min_x\n",
    "    scale_y = lambda y: drawarea_max_y * (1 - (y - min_y) / dy) + drawarea_min_y\n",
    "\n",
    "    # Turns a pixel coordinate into data coordinate\n",
    "    unscale_x = lambda sx: (sx - drawarea_min_x) * dx / drawarea_max_x + min_x\n",
    "    unscale_y = lambda sy: (1 - ((sy - drawarea_min_y) / drawarea_max_y)) * dy + min_y\n",
    "\n",
    "    colormap = None\n",
    "    if color is not None:\n",
    "        colormap = scheme.scale(np.min(color), np.max(color))        \n",
    "\n",
    "    return canvas, drawarea, scale_x, scale_y, unscale_x, unscale_y, colormap"
   ]
  },
  {
   "cell_type": "code",
   "execution_count": null,
   "metadata": {},
   "outputs": [],
   "source": [
    "def draw_background(canvas, drawarea, unscale_x, unscale_y):\n",
    "    drawarea_min_x, drawarea_min_y, drawarea_max_x, drawarea_max_y = drawarea\n",
    "\n",
    "    # Draw background\n",
    "    canvas.fill_style = '#f7f7f7'\n",
    "    canvas.global_alpha = 0.3\n",
    "    canvas.fill_rect(drawarea_min_x, drawarea_min_y, drawarea_max_x, drawarea_max_y)\n",
    "    canvas.global_alpha = 1\n",
    "\n",
    "    # Draw grid and ticks\n",
    "    n_lines = 10\n",
    "    canvas.fill_style = 'black'\n",
    "    canvas.stroke_style = '#8c8c8c'\n",
    "    canvas.line_width = 1\n",
    "    canvas.begin_path()\n",
    "\n",
    "    for i in range(n_lines):\n",
    "        j = i / (n_lines - 1)\n",
    "        line_x = drawarea_max_x * j + drawarea_min_x\n",
    "        line_y = drawarea_max_y * j + drawarea_min_y\n",
    "\n",
    "        # Line on the y axis\n",
    "        canvas.move_to(line_x, drawarea_min_y)\n",
    "        canvas.line_to(line_x, drawarea_max_y + drawarea_min_y)\n",
    "\n",
    "        # Line on the x axis\n",
    "        canvas.move_to(drawarea_min_x, line_y)\n",
    "        canvas.line_to(drawarea_max_x + drawarea_min_x, line_y)\n",
    "\n",
    "        # Draw y tick\n",
    "        canvas.text_align = 'right'\n",
    "        canvas.text_baseline = 'middle'\n",
    "        canvas.fill_text('{0:.2e}'.format(unscale_y(line_y)), drawarea_min_x * 0.95, line_y)\n",
    "\n",
    "        # Draw x tick\n",
    "        canvas.text_align = 'center'\n",
    "        canvas.text_baseline = 'top'\n",
    "        canvas.fill_text('{0:.2e}'.format(unscale_x(line_x)), line_x, drawarea_max_y + drawarea_min_y + drawarea_min_y * 0.05)\n",
    "\n",
    "    canvas.stroke()\n",
    "    canvas.close_path()"
   ]
  },
  {
   "cell_type": "code",
   "execution_count": null,
   "metadata": {},
   "outputs": [],
   "source": [
    "def scatter_plot(x, y, size, color, scheme=branca.colormap.linear.RdBu_11, stroke_color='black', canvas=None):\n",
    "    canvas, drawarea, scale_x, scale_y, unscale_x, unscale_y, colormap = init_2d_plot(x, y, color, scheme, canvas=canvas)\n",
    "\n",
    "    with hold_canvas(canvas):\n",
    "        canvas.clear()\n",
    "        canvas.save()\n",
    "\n",
    "        draw_background(canvas, drawarea, unscale_x, unscale_y)\n",
    "\n",
    "        # Draw scatter\n",
    "        n_marks = min(x.shape[0], y.shape[0], size.shape[0], color.shape[0])\n",
    "\n",
    "        canvas.stroke_style = stroke_color\n",
    "\n",
    "        for idx in range(n_marks):\n",
    "            canvas.fill_style = colormap(color[idx])\n",
    "            \n",
    "            mark_x = scale_x(x[idx])\n",
    "            mark_y = scale_y(y[idx])\n",
    "            mark_size = size[idx]\n",
    "\n",
    "            canvas.fill_arc(mark_x, mark_y, mark_size, 0, 2 * pi)\n",
    "            canvas.stroke_arc(mark_x, mark_y, mark_size, 0, 2 * pi)\n",
    "\n",
    "        canvas.restore()\n",
    "\n",
    "    return canvas"
   ]
  },
  {
   "cell_type": "code",
   "execution_count": null,
   "metadata": {},
   "outputs": [],
   "source": [
    "def line_plot(x, y, line_color='#749cb8', line_width=2, canvas=None):\n",
    "    canvas, drawarea, scale_x, scale_y, unscale_x, unscale_y, _ = init_2d_plot(x, y, canvas=canvas)\n",
    "\n",
    "    with hold_canvas(canvas):\n",
    "        canvas.clear()\n",
    "        canvas.save()\n",
    "\n",
    "        draw_background(canvas, drawarea, unscale_x, unscale_y)\n",
    "\n",
    "        # Draw lines\n",
    "        n_points = min(x.shape[0], y.shape[0])\n",
    "\n",
    "        canvas.begin_path()\n",
    "        canvas.stroke_style = line_color\n",
    "        canvas.line_width = line_width\n",
    "        canvas.line_join = 'bevel'\n",
    "        canvas.line_cap = 'round'\n",
    "        canvas.move_to(scale_x(x[0]), scale_y(y[0]))\n",
    "        for idx in range(1, n_points):\n",
    "            canvas.line_to(\n",
    "                scale_x(x[idx]), scale_y(y[idx])\n",
    "            )\n",
    "\n",
    "        canvas.stroke()\n",
    "        canvas.close_path()\n",
    "        \n",
    "        canvas.restore()\n",
    "\n",
    "    return canvas"
   ]
  },
  {
   "cell_type": "code",
   "execution_count": null,
   "metadata": {},
   "outputs": [],
   "source": [
    "def heatmap_plot(x, y, color, scheme=branca.colormap.linear.RdBu_11, canvas=None):\n",
    "    canvas, drawarea, scale_x, scale_y, unscale_x, unscale_y, colormap = init_2d_plot(x, y, color, scheme, canvas=canvas)\n",
    "\n",
    "    outof_x_bound = lambda idx: True if idx >= x.shape[0] or idx < 0 else False\n",
    "    outof_y_bound = lambda idx: True if idx >= y.shape[0] or idx < 0 else False\n",
    "\n",
    "    with hold_canvas(canvas):\n",
    "        canvas.clear()\n",
    "        canvas.save()\n",
    "\n",
    "        draw_background(canvas, drawarea, unscale_x, unscale_y)\n",
    "\n",
    "        # Draw heatmap\n",
    "        n_marks = min(x.shape[0], y.shape[0])\n",
    "\n",
    "        for x_idx in range(1, color.shape[0] - 1):\n",
    "            for y_idx in range(1, color.shape[1] - 1):\n",
    "                canvas.fill_style = colormap(color[x_idx][y_idx])\n",
    "\n",
    "                rect_center = (scale_x(x[x_idx]), scale_y(y[y_idx]))\n",
    "                neighbours_x = (scale_x(x[x_idx - 1]), scale_x(x[x_idx + 1]))\n",
    "                neighbours_y = (scale_y(y[y_idx - 1]), scale_y(y[y_idx + 1]))\n",
    "\n",
    "                rect_top_left_corner = ((neighbours_x[0] + rect_center[0]) / 2, (neighbours_y[0] + rect_center[1]) / 2)\n",
    "                rect_low_right_corner = ((neighbours_x[1] + rect_center[0]) / 2, (neighbours_y[1] + rect_center[1]) / 2)\n",
    "\n",
    "                width = rect_low_right_corner[0] - rect_top_left_corner[0]\n",
    "                height = rect_low_right_corner[1] - rect_top_left_corner[1]\n",
    "\n",
    "                canvas.fill_rect(\n",
    "                    rect_top_left_corner[0], rect_top_left_corner[1],\n",
    "                    width, height\n",
    "                )\n",
    "\n",
    "        canvas.restore()\n",
    "\n",
    "    return canvas"
   ]
  },
  {
   "cell_type": "markdown",
   "metadata": {},
   "source": [
    "# Scatter plot"
   ]
  },
  {
   "cell_type": "code",
   "execution_count": null,
   "metadata": {},
   "outputs": [],
   "source": [
    "n_points = 1_000"
   ]
  },
  {
   "cell_type": "code",
   "execution_count": null,
   "metadata": {},
   "outputs": [],
   "source": [
    "x = np.random.rand(n_points)\n",
    "y = np.random.rand(n_points)\n",
    "sizes = np.random.randint(2, 8, n_points)\n",
    "colors = np.random.rand(n_points) * 10 - 2\n",
    "\n",
    "plot = scatter_plot(x, y, sizes, colors, branca.colormap.linear.viridis, stroke_color='white')\n",
    "plot"
   ]
  },
  {
   "cell_type": "markdown",
   "metadata": {},
   "source": [
    "### Because it's a Canvas, you can draw on top of it! "
   ]
  },
  {
   "cell_type": "code",
   "execution_count": null,
   "metadata": {},
   "outputs": [],
   "source": [
    "plot.stroke_style = 'red'\n",
    "plot.line_width = 2\n",
    "plot.stroke_rect(200, 300, 50, 100)"
   ]
  },
  {
   "cell_type": "markdown",
   "metadata": {},
   "source": [
    "# Line plot"
   ]
  },
  {
   "cell_type": "code",
   "execution_count": null,
   "metadata": {},
   "outputs": [],
   "source": [
    "x = np.linspace(0, 20, 500)\n",
    "y = np.sin(x)\n",
    "\n",
    "line_plot(x, y, line_width=3)"
   ]
  },
  {
   "cell_type": "code",
   "execution_count": null,
   "metadata": {},
   "outputs": [],
   "source": [
    "slider = IntSlider(min=1, max=10, step=1)\n",
    "\n",
    "x = np.linspace(-20, 20, 500)\n",
    "y = np.power(x, slider.value)\n",
    "\n",
    "power_plot = line_plot(x, y, line_color='#32a852', line_width=3)\n",
    "\n",
    "def on_slider_change(change):\n",
    "    y = np.power(x, slider.value)\n",
    "\n",
    "    line_plot(x, y, line_color='#32a852', line_width=3, canvas=power_plot)\n",
    "\n",
    "slider.observe(on_slider_change, 'value')\n",
    "\n",
    "VBox((power_plot, slider))"
   ]
  },
  {
   "cell_type": "code",
   "execution_count": null,
   "metadata": {},
   "outputs": [],
   "source": [
    "n = 1_000\n",
    "x = np.linspace(0, 100, n)\n",
    "y = np.cumsum(np.random.randn(n))\n",
    "\n",
    "line_plot(x, y, line_width=3)"
   ]
  },
  {
   "cell_type": "markdown",
   "metadata": {},
   "source": [
    "# Heatmap"
   ]
  },
  {
   "cell_type": "code",
   "execution_count": null,
   "metadata": {},
   "outputs": [],
   "source": [
    "x = np.linspace(-5, 5, 100)\n",
    "y = np.linspace(-5, 5, 100)\n",
    "x_grid, y_grid = np.meshgrid(x, y)\n",
    "color = np.sin(x_grid + y_grid**2) + np.cos(x_grid**2 + y_grid**2)\n",
    "\n",
    "heatmap_plot(x, y, color, scheme=branca.colormap.linear.RdYlBu_05)"
   ]
  }
 ],
 "metadata": {
  "kernelspec": {
   "display_name": "Python 3",
   "language": "python",
   "name": "python3"
  },
  "language_info": {
   "codemirror_mode": {
    "name": "ipython",
    "version": 3
   },
   "file_extension": ".py",
   "mimetype": "text/x-python",
   "name": "python",
   "nbconvert_exporter": "python",
   "pygments_lexer": "ipython3",
   "version": "3.7.3"
  }
 },
 "nbformat": 4,
 "nbformat_minor": 4
}
