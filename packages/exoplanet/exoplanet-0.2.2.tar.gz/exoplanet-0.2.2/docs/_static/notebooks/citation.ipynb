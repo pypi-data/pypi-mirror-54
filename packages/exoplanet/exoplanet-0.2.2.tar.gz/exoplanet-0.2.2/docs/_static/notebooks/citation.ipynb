{
 "cells": [
  {
   "cell_type": "code",
   "execution_count": 1,
   "metadata": {},
   "outputs": [],
   "source": [
    "%run notebook_setup"
   ]
  },
  {
   "cell_type": "markdown",
   "metadata": {},
   "source": [
    "# Citing exoplanet & its dependencies"
   ]
  },
  {
   "cell_type": "markdown",
   "metadata": {},
   "source": [
    "The *exoplanet* package is mostly just glue that connects many other ideas and software.\n",
    "In a situation like this, it can be easy to forget about the important infrastructure upon which our science is built.\n",
    "In order to make sure that you can easily give credit where credit is due, we have tried to make it as painless as possible to work out which citations are expected for a model fit using *exoplanet* by including a :func:`exoplanet.citations.get_citations_for_model` function that introspects the current PyMC3 model and constructs a list of citations for the functions used in that model.\n",
    "\n",
    "For example, you might compute a quadratically limb darkened light curve using `starry` (via the :class:`exoplanet.light_curve.StarryLightCurve` class):"
   ]
  },
  {
   "cell_type": "code",
   "execution_count": 2,
   "metadata": {},
   "outputs": [],
   "source": [
    "import pymc3 as pm\n",
    "import exoplanet as xo\n",
    "\n",
    "with pm.Model() as model:\n",
    "    u = xo.distributions.QuadLimbDark(\"u\")\n",
    "    orbit = xo.orbits.KeplerianOrbit(period=10.0)\n",
    "    light_curve = xo.LimbDarkLightCurve(u)\n",
    "    transit = light_curve.get_light_curve(r=0.1, orbit=orbit, t=[0.0, 0.1])\n",
    "\n",
    "    txt, bib = xo.citations.get_citations_for_model()"
   ]
  },
  {
   "cell_type": "markdown",
   "metadata": {},
   "source": [
    "The :func:`exoplanet.citations.get_citations_for_model` function would generate an acknowledgement that cites:\n",
    "\n",
    "* [PyMC3](https://docs.pymc.io/#citing-pymc3): for the inference engine and modeling framework,\n",
    "* [Theano](http://deeplearning.net/software/theano/citation.html): for the numerical infrastructure,\n",
    "* [AstroPy](http://www.astropy.org/acknowledging.html): for units and constants,\n",
    "* [Kipping (2013)](https://arxiv.org/abs/1308.0009): for the reparameterization of the limb darkening parameters for a quadratic law, and\n",
    "* [Luger, et al. (2018)](https://arxiv.org/abs/1810.06559): for the light curve calculation.\n",
    "\n",
    "The first output from :func:`exoplanet.citations.get_citations_for_model` gives the acknowledgement text:"
   ]
  },
  {
   "cell_type": "code",
   "execution_count": 3,
   "metadata": {},
   "outputs": [
    {
     "name": "stdout",
     "output_type": "stream",
     "text": [
      "This research made use of \\textsf{exoplanet} \\citep{exoplanet} and its\n",
      "dependencies \\citep{exoplanet:agol19, exoplanet:astropy13, exoplanet:astropy18,\n",
      "exoplanet:exoplanet, exoplanet:kipping13, exoplanet:luger18, exoplanet:pymc3,\n",
      "exoplanet:theano}.\n"
     ]
    }
   ],
   "source": [
    "print(txt)"
   ]
  },
  {
   "cell_type": "markdown",
   "metadata": {},
   "source": [
    "And the second output is a string with BibTeX entries for each of the citations in the acknowledgement text:"
   ]
  },
  {
   "cell_type": "code",
   "execution_count": 4,
   "metadata": {},
   "outputs": [
    {
     "name": "stdout",
     "output_type": "stream",
     "text": [
      "\n",
      "@misc{exoplanet:exoplanet,\n",
      "  author = {Daniel Foreman-Mackey and Ian Czekala and Rodrigo Luger and\n",
      "            Eric Agol and Geert Barentsen and Tom Barclay},\n",
      "   title = {dfm/exoplanet: exoplanet v0.2.1},\n",
      "   month = sep,\n",
      "    year = 2019,\n",
      "     doi = {10.5281/zenodo.3462740},\n",
      "     url = {https://doi.org/10.5281/zenodo.3462740}\n",
      "}\n",
      "\n",
      "\n",
      "@article{exoplanet:pymc3,\n",
      "    title={Probabilistic programming in Python using PyMC3},\n",
      "   author={Salvatier, John and Wiecki, Thomas V and Fonnesbeck, Christopher},\n",
      "  journal={PeerJ Computer Science},\n",
      "   volume={2},\n",
      "    pages={e55},\n",
      "     year={2016},\n",
      "publisher={PeerJ Inc.}\n",
      "}\n",
      "\n",
      "\n",
      "@article{exoplanet:theano,\n",
      "    title=\"{Theano: A {Python} framework for fast computation of mathematical\n",
      "            expressions}\",\n",
      "   author={{Theano Development Team}},\n",
      "  journal={arXiv e-prints},\n",
      "   volume={abs/1605.02688},\n",
      "     year=2016,\n",
      "    month=may,\n",
      "      url={http://arxiv.org/abs/1605.02688}\n",
      "}\n",
      "\n",
      "\n",
      "@ARTICLE{exoplanet:kipping13,\n",
      "   author = {{Kipping}, D.~M.},\n",
      "    title = \"{Efficient, uninformative sampling of limb darkening coefficients\n",
      "              for two-parameter laws}\",\n",
      "  journal = {\\mnras},\n",
      "     year = 2013,\n",
      "    month = nov,\n",
      "   volume = 435,\n",
      "    pages = {2152-2160},\n",
      "      doi = {10.1093/mnras/stt1435},\n",
      "   adsurl = {http://adsabs.harvard.edu/abs/2013MNRAS.435.2152K},\n",
      "  adsnote = {Provided by the SAO/NASA Astrophysics Data System}\n",
      "}\n",
      "\n",
      "\n",
      "@article{exoplanet:astropy13,\n",
      "   author = {{Astropy Collaboration} and {Robitaille}, T.~P. and {Tollerud},\n",
      "             E.~J. and {Greenfield}, P. and {Droettboom}, M. and {Bray}, E. and\n",
      "             {Aldcroft}, T. and {Davis}, M. and {Ginsburg}, A. and\n",
      "             {Price-Whelan}, A.~M. and {Kerzendorf}, W.~E. and {Conley}, A. and\n",
      "             {Crighton}, N. and {Barbary}, K. and {Muna}, D. and {Ferguson}, H.\n",
      "             and {Grollier}, F. and {Parikh}, M.~M. and {Nair}, P.~H. and\n",
      "             {Unther}, H.~M. and {Deil}, C. and {Woillez}, J. and {Conseil}, S.\n",
      "             and {Kramer}, R. and {Turner}, J.~E.~H. and {Singer}, L. and\n",
      "             {Fox}, R. and {Weaver}, B.~A. and {Zabalza}, V. and {Edwards},\n",
      "             Z.~I. and {Azalee Bostroem}, K. and {Burke}, D.~J. and {Casey},\n",
      "             A.~R. and {Crawford}, S.~M. and {Dencheva}, N. and {Ely}, J. and\n",
      "             {Jenness}, T. and {Labrie}, K. and {Lim}, P.~L. and\n",
      "             {Pierfederici}, F. and {Pontzen}, A. and {Ptak}, A. and {Refsdal},\n",
      "             B. and {Servillat}, M. and {Streicher}, O.},\n",
      "    title = \"{Astropy: A community Python package for astronomy}\",\n",
      "  journal = {\\aap},\n",
      "     year = 2013,\n",
      "    month = oct,\n",
      "   volume = 558,\n",
      "    pages = {A33},\n",
      "      doi = {10.1051/0004-6361/201322068},\n",
      "   adsurl = {http://adsabs.harvard.edu/abs/2013A%26A...558A..33A},\n",
      "  adsnote = {Provided by the SAO/NASA Astrophysics Data System}\n",
      "}\n",
      "\n",
      "@article{exoplanet:astropy18,\n",
      "   author = {{Astropy Collaboration} and {Price-Whelan}, A.~M. and\n",
      "             {Sip{\\H o}cz}, B.~M. and {G{\\\"u}nther}, H.~M. and {Lim}, P.~L. and\n",
      "             {Crawford}, S.~M. and {Conseil}, S. and {Shupe}, D.~L. and\n",
      "             {Craig}, M.~W. and {Dencheva}, N. and {Ginsburg}, A. and\n",
      "             {VanderPlas}, J.~T. and {Bradley}, L.~D. and\n",
      "             {P{\\'e}rez-Su{\\'a}rez}, D. and {de Val-Borro}, M.\n",
      "             and {Aldcroft}, T.~L. and {Cruz}, K.~L. and {Robitaille}, T.~P.\n",
      "             and {Tollerud}, E.~J. and {Ardelean}, C. and {Babej}, T. and\n",
      "             {Bach}, Y.~P. and {Bachetti}, M. and {Bakanov}, A.~V. and\n",
      "             {Bamford}, S.~P. and {Barentsen}, G. and {Barmby}, P. and\n",
      "             {Baumbach}, A. and {Berry}, K.~L.  and {Biscani}, F. and\n",
      "             {Boquien}, M. and {Bostroem}, K.~A. and {Bouma}, L.~G. and\n",
      "             {Brammer}, G.~B. and {Bray}, E.~M. and {Breytenbach}, H. and\n",
      "             {Buddelmeijer}, H. and {Burke}, D.~J. and {Calderone}, G. and\n",
      "             {Cano Rodr{\\'{\\i}}guez}, J.~L. and {Cara}, M. and {Cardoso},\n",
      "             J.~V.~M. and {Cheedella}, S. and {Copin}, Y. and {Corrales}, L.\n",
      "             and {Crichton}, D. and {D'Avella}, D. and {Deil}, C. and\n",
      "             {Depagne}, {\\'E}. and {Dietrich}, J.~P. and {Donath}, A. and\n",
      "             {Droettboom}, M. and {Earl}, N. and {Erben}, T. and {Fabbro}, S.\n",
      "             and {Ferreira}, L.~A. and {Finethy}, T. and {Fox}, R.~T. and\n",
      "             {Garrison}, L.~H. and {Gibbons}, S.~L.~J. and {Goldstein}, D.~A.\n",
      "             and {Gommers}, R. and {Greco}, J.~P. and {Greenfield}, P. and\n",
      "             {Groener}, A.~M. and {Grollier}, F. and {Hagen}, A. and {Hirst},\n",
      "             P. and {Homeier}, D. and {Horton}, A.~J. and {Hosseinzadeh}, G.\n",
      "             and {Hu}, L. and {Hunkeler}, J.~S. and {Ivezi{\\'c}}, {\\v Z}. and\n",
      "             {Jain}, A. and {Jenness}, T. and {Kanarek}, G. and {Kendrew}, S.\n",
      "             and {Kern}, N.~S. and {Kerzendorf}, W.~E. and {Khvalko}, A. and\n",
      "             {King}, J. and {Kirkby}, D. and {Kulkarni}, A.~M. and {Kumar}, A.\n",
      "             and {Lee}, A.  and {Lenz}, D.  and {Littlefair}, S.~P. and {Ma},\n",
      "             Z. and {Macleod}, D.~M. and {Mastropietro}, M. and {McCully}, C.\n",
      "             and {Montagnac}, S. and {Morris}, B.~M. and {Mueller}, M. and\n",
      "             {Mumford}, S.~J. and {Muna}, D. and {Murphy}, N.~A. and {Nelson},\n",
      "             S. and {Nguyen}, G.~H. and {Ninan}, J.~P. and {N{\\\"o}the}, M. and\n",
      "             {Ogaz}, S. and {Oh}, S. and {Parejko}, J.~K.  and {Parley}, N. and\n",
      "             {Pascual}, S. and {Patil}, R. and {Patil}, A.~A.  and {Plunkett},\n",
      "             A.~L. and {Prochaska}, J.~X. and {Rastogi}, T. and {Reddy Janga},\n",
      "             V. and {Sabater}, J.  and {Sakurikar}, P. and {Seifert}, M. and\n",
      "             {Sherbert}, L.~E. and {Sherwood-Taylor}, H. and {Shih}, A.~Y. and\n",
      "             {Sick}, J. and {Silbiger}, M.~T. and {Singanamalla}, S. and\n",
      "             {Singer}, L.~P. and {Sladen}, P.~H. and {Sooley}, K.~A. and\n",
      "             {Sornarajah}, S. and {Streicher}, O. and {Teuben}, P. and\n",
      "             {Thomas}, S.~W. and {Tremblay}, G.~R. and {Turner}, J.~E.~H. and\n",
      "             {Terr{\\'o}n}, V.  and {van Kerkwijk}, M.~H. and {de la Vega}, A.\n",
      "             and {Watkins}, L.~L. and {Weaver}, B.~A. and {Whitmore}, J.~B. and\n",
      "             {Woillez}, J.  and {Zabalza}, V. and {Astropy Contributors}},\n",
      "    title = \"{The Astropy Project: Building an Open-science Project and Status\n",
      "              of the v2.0 Core Package}\",\n",
      "  journal = {\\aj},\n",
      "     year = 2018,\n",
      "    month = sep,\n",
      "   volume = 156,\n",
      "    pages = {123},\n",
      "      doi = {10.3847/1538-3881/aabc4f},\n",
      "   adsurl = {http://adsabs.harvard.edu/abs/2018AJ....156..123A},\n",
      "  adsnote = {Provided by the SAO/NASA Astrophysics Data System}\n",
      "}\n",
      "\n",
      "\n",
      "@article{exoplanet:luger18,\n",
      "   author = {{Luger}, R. and {Agol}, E. and {Foreman-Mackey}, D. and {Fleming},\n",
      "             D.~P. and {Lustig-Yaeger}, J. and {Deitrick}, R.},\n",
      "    title = \"{starry: Analytic Occultation Light Curves}\",\n",
      "  journal = {\\aj},\n",
      "     year = 2019,\n",
      "    month = feb,\n",
      "   volume = 157,\n",
      "    pages = {64},\n",
      "      doi = {10.3847/1538-3881/aae8e5},\n",
      "   adsurl = {http://adsabs.harvard.edu/abs/2019AJ....157...64L},\n",
      "  adsnote = {Provided by the SAO/NASA Astrophysics Data System}\n",
      "}\n",
      "\n",
      "@article{exoplanet:agol19,\n",
      "       author = {{Agol}, Eric and {Luger}, Rodrigo and {Foreman-Mackey}, Daniel},\n",
      "        title = \"{Analytic Planetary Transit Light Curves and Derivatives\n",
      "                  for Stars with Polynomial Limb Darkening}\",\n",
      "      journal = {arXiv e-prints},\n",
      "         year = 2019,\n",
      "        month = aug,\n",
      "       eprint = {1908.03222},\n",
      "          url = {http://arxiv.org/abs/1908.03222}\n",
      "}\n",
      "\n"
     ]
    }
   ],
   "source": [
    "print(bib)"
   ]
  },
  {
   "cell_type": "code",
   "execution_count": 5,
   "metadata": {},
   "outputs": [],
   "source": []
  }
 ],
 "metadata": {
  "kernelspec": {
   "display_name": "Python 3",
   "language": "python",
   "name": "python3"
  },
  "language_info": {
   "codemirror_mode": {
    "name": "ipython",
    "version": 3
   },
   "file_extension": ".py",
   "mimetype": "text/x-python",
   "name": "python",
   "nbconvert_exporter": "python",
   "pygments_lexer": "ipython3",
   "version": "3.6.8"
  }
 },
 "nbformat": 4,
 "nbformat_minor": 2
}
