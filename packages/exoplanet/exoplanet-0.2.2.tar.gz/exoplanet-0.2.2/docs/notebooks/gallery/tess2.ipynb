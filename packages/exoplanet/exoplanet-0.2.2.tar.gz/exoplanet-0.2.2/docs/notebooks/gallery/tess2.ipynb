{
 "cells": [
  {
   "cell_type": "code",
   "execution_count": null,
   "metadata": {},
   "outputs": [],
   "source": [
    "%matplotlib inline"
   ]
  },
  {
   "cell_type": "code",
   "execution_count": null,
   "metadata": {},
   "outputs": [],
   "source": [
    "%run notebook_setup"
   ]
  },
  {
   "cell_type": "markdown",
   "metadata": {},
   "source": [
    "# Fitting LHS 3844b\n",
    "\n",
    "In this tutorial, we will reproduce the fits to the transiting planet in the LHS 3844 system discovered by [Vanderspek et al. (2018)](https://arxiv.org/abs/1809.07242).\n",
    "This is the same as the [Pi Mensae](https://exoplanet.dfm.io/en/latest/tutorials/tess/) on the exoplanet documentation with a few small changes.\n",
    "\n",
    "To start, we need to download the target pixel file:"
   ]
  },
  {
   "cell_type": "code",
   "execution_count": null,
   "metadata": {},
   "outputs": [],
   "source": [
    "import numpy as np\n",
    "from astropy.io import fits\n",
    "import matplotlib.pyplot as plt\n",
    "\n",
    "tpf_url = \"https://archive.stsci.edu/missions/tess/tid/s0001/0000/0004/1015/3553/tess2018206045859-s0001-0000000410153553-0120-s_tp.fits\"\n",
    "with fits.open(tpf_url) as hdus:\n",
    "    tpf = hdus[1].data\n",
    "    tpf_hdr = hdus[1].header\n",
    "\n",
    "texp = tpf_hdr[\"FRAMETIM\"] * tpf_hdr[\"NUM_FRM\"]\n",
    "texp /= 60.0 * 60.0 * 24.0\n",
    "time = tpf[\"TIME\"]\n",
    "flux = tpf[\"FLUX\"][:, :, 1:]\n",
    "m = np.any(np.isfinite(flux), axis=(1, 2)) & (tpf[\"QUALITY\"] == 0)\n",
    "time = np.ascontiguousarray(time[m] - np.min(time[m]), dtype=np.float64)\n",
    "flux = np.ascontiguousarray(flux[m], dtype=np.float64)\n",
    "\n",
    "mean_img = np.median(flux, axis=0)\n",
    "plt.imshow(mean_img.T, cmap=\"gray_r\")\n",
    "plt.title(\"TESS image of LHS 3844\")\n",
    "plt.xticks([])\n",
    "plt.yticks([]);"
   ]
  },
  {
   "cell_type": "markdown",
   "metadata": {},
   "source": [
    "## Aperture selection\n",
    "\n",
    "Next, we'll select an aperture using a hacky method that tries to minimizes the windowed scatter in the lightcurve (something like the CDPP)."
   ]
  },
  {
   "cell_type": "code",
   "execution_count": null,
   "metadata": {},
   "outputs": [],
   "source": [
    "from scipy.signal import savgol_filter\n",
    "\n",
    "# Sort the pixels by median brightness\n",
    "order = np.argsort(mean_img.flatten())[::-1]\n",
    "\n",
    "# A function to estimate the windowed scatter in a lightcurve\n",
    "def estimate_scatter_with_mask(mask):\n",
    "    f = np.sum(flux[:, mask], axis=-1)\n",
    "    smooth = savgol_filter(f, 1001, polyorder=5)\n",
    "    return 1e6 * np.sqrt(np.median((f / smooth - 1) ** 2))\n",
    "\n",
    "\n",
    "# Loop over pixels ordered by brightness and add them one-by-one\n",
    "# to the aperture\n",
    "masks, scatters = [], []\n",
    "for i in range(10, 100):\n",
    "    msk = np.zeros_like(mean_img, dtype=bool)\n",
    "    msk[np.unravel_index(order[:i], mean_img.shape)] = True\n",
    "    scatter = estimate_scatter_with_mask(msk)\n",
    "    masks.append(msk)\n",
    "    scatters.append(scatter)\n",
    "\n",
    "# Choose the aperture that minimizes the scatter\n",
    "pix_mask = masks[np.argmin(scatters)]\n",
    "\n",
    "# Plot the selected aperture\n",
    "plt.imshow(mean_img.T, cmap=\"gray_r\")\n",
    "plt.imshow(pix_mask.T, cmap=\"Reds\", alpha=0.3)\n",
    "plt.title(\"selected aperture\")\n",
    "plt.xticks([])\n",
    "plt.yticks([]);"
   ]
  },
  {
   "cell_type": "markdown",
   "metadata": {},
   "source": [
    "This aperture produces the following light curve:"
   ]
  },
  {
   "cell_type": "code",
   "execution_count": null,
   "metadata": {},
   "outputs": [],
   "source": [
    "plt.figure(figsize=(10, 5))\n",
    "sap_flux = np.sum(flux[:, pix_mask], axis=-1)\n",
    "sap_flux = (sap_flux / np.median(sap_flux) - 1) * 1e3\n",
    "plt.plot(time, sap_flux, \"k\")\n",
    "plt.xlabel(\"time [days]\")\n",
    "plt.ylabel(\"relative flux [ppt]\")\n",
    "plt.title(\"raw light curve\")\n",
    "plt.xlim(time.min(), time.max());"
   ]
  },
  {
   "cell_type": "markdown",
   "metadata": {},
   "source": [
    "## De-trending\n",
    "\n",
    "This doesn't look terrible, but we're still going to want to de-trend it a little bit.\n",
    "We'll use \"pixel-level deconvolution\" (PLD) to de-trend following the method used by [Everest](https://github.com/rodluger/everest).\n",
    "Specifically, we'll use first order PLD plus the top few PCA components of the second order PLD basis."
   ]
  },
  {
   "cell_type": "code",
   "execution_count": null,
   "metadata": {},
   "outputs": [],
   "source": [
    "# Build the first order PLD basis\n",
    "X_pld = np.reshape(flux[:, pix_mask], (len(flux), -1))\n",
    "X_pld = X_pld / np.sum(flux[:, pix_mask], axis=-1)[:, None]\n",
    "\n",
    "# Build the second order PLD basis and run PCA to reduce the number of dimensions\n",
    "X2_pld = np.reshape(X_pld[:, None, :] * X_pld[:, :, None], (len(flux), -1))\n",
    "U, _, _ = np.linalg.svd(X2_pld, full_matrices=False)\n",
    "X2_pld = U[:, : X_pld.shape[1]]\n",
    "\n",
    "# Construct the design matrix and fit for the PLD model\n",
    "X_pld = np.concatenate((np.ones((len(flux), 1)), X_pld, X2_pld), axis=-1)\n",
    "XTX = np.dot(X_pld.T, X_pld)\n",
    "w_pld = np.linalg.solve(XTX, np.dot(X_pld.T, sap_flux))\n",
    "pld_flux = np.dot(X_pld, w_pld)\n",
    "\n",
    "# Plot the de-trended light curve\n",
    "plt.figure(figsize=(10, 5))\n",
    "plt.plot(time, sap_flux - pld_flux, \"k\")\n",
    "plt.xlabel(\"time [days]\")\n",
    "plt.ylabel(\"de-trended flux [ppt]\")\n",
    "plt.title(\"initial de-trended light curve\")\n",
    "plt.xlim(time.min(), time.max());"
   ]
  },
  {
   "cell_type": "markdown",
   "metadata": {},
   "source": [
    "That looks better.\n",
    "\n",
    "## Transit search\n",
    "\n",
    "Now, let's use [the box least squares periodogram from AstroPy](http://docs.astropy.org/en/latest/stats/bls.html)\n",
    "(Note: you'll need AstroPy v3.1 or more recent to use this feature) to estimate the period, phase, and depth of the transit."
   ]
  },
  {
   "cell_type": "code",
   "execution_count": null,
   "metadata": {},
   "outputs": [],
   "source": [
    "from astropy.stats import BoxLeastSquares\n",
    "\n",
    "period_grid = np.exp(np.linspace(np.log(0.1), np.log(15), 50000))\n",
    "duration = 0.015\n",
    "\n",
    "bls = BoxLeastSquares(time, sap_flux - pld_flux)\n",
    "bls_power = bls.power(period_grid, duration, oversample=20)\n",
    "\n",
    "# Save the highest peak as the planet candidate\n",
    "index = np.argmax(bls_power.power)\n",
    "bls_period = bls_power.period[index]\n",
    "bls_t0 = bls_power.transit_time[index]\n",
    "bls_depth = bls_power.depth[index]\n",
    "transit_mask = bls.transit_mask(time, bls_period, 3 * duration, bls_t0)\n",
    "\n",
    "fig, axes = plt.subplots(2, 1, figsize=(10, 10))\n",
    "\n",
    "# Plot the periodogram\n",
    "ax = axes[0]\n",
    "ax.axvline(np.log10(bls_period), color=\"C1\", lw=5, alpha=0.8)\n",
    "ax.plot(np.log10(bls_power.period), bls_power.power, \"k\")\n",
    "ax.annotate(\n",
    "    \"period = {0:.4f} d\".format(bls_period),\n",
    "    (0, 1),\n",
    "    xycoords=\"axes fraction\",\n",
    "    xytext=(5, -5),\n",
    "    textcoords=\"offset points\",\n",
    "    va=\"top\",\n",
    "    ha=\"left\",\n",
    "    fontsize=12,\n",
    ")\n",
    "ax.set_ylabel(\"bls power\")\n",
    "ax.set_yticks([])\n",
    "ax.set_xlim(np.log10(period_grid.min()), np.log10(period_grid.max()))\n",
    "ax.set_xlabel(\"log10(period)\")\n",
    "\n",
    "# Plot the folded transit\n",
    "ax = axes[1]\n",
    "x_fold = (time - bls_t0 + 0.5 * bls_period) % bls_period - 0.5 * bls_period\n",
    "m = np.abs(x_fold) < 0.4\n",
    "ax.plot(x_fold[m], sap_flux[m] - pld_flux[m], \".k\")\n",
    "inds = np.argsort(x_fold[m])\n",
    "ax.plot(x_fold[m][inds], bls.model(time[m], bls_period, duration, bls_t0)[inds])\n",
    "\n",
    "# Overplot the phase binned light curve\n",
    "bins = np.linspace(-0.11, 0.11, 52)\n",
    "denom, _ = np.histogram(x_fold, bins)\n",
    "num, _ = np.histogram(x_fold, bins, weights=sap_flux - pld_flux)\n",
    "denom[num == 0] = 1.0\n",
    "ax.plot(0.5 * (bins[1:] + bins[:-1]), num / denom, color=\"C1\")\n",
    "\n",
    "ax.set_xlim(-0.1, 0.1)\n",
    "ax.set_ylabel(\"de-trended flux [ppt]\")\n",
    "ax.set_xlabel(\"time since transit\");"
   ]
  },
  {
   "cell_type": "markdown",
   "metadata": {},
   "source": [
    "Now that we know where the transits are, it's generally good practice to de-trend the data one more time with the transits masked so that the de-trending doesn't overfit the transits.\n",
    "Let's do that."
   ]
  },
  {
   "cell_type": "code",
   "execution_count": null,
   "metadata": {},
   "outputs": [],
   "source": [
    "m = ~transit_mask\n",
    "XTX = np.dot(X_pld[m].T, X_pld[m])\n",
    "w_pld = np.linalg.solve(XTX, np.dot(X_pld[m].T, sap_flux[m]))\n",
    "pld_flux = np.dot(X_pld, w_pld)\n",
    "\n",
    "x = np.ascontiguousarray(time, dtype=np.float64)\n",
    "y = np.ascontiguousarray(sap_flux - pld_flux, dtype=np.float64)\n",
    "\n",
    "plt.figure(figsize=(10, 5))\n",
    "plt.plot(time, y, \"k\")\n",
    "plt.xlabel(\"time [days]\")\n",
    "plt.ylabel(\"de-trended flux [ppt]\")\n",
    "plt.title(\"final de-trended light curve\")\n",
    "plt.xlim(time.min(), time.max());"
   ]
  },
  {
   "cell_type": "markdown",
   "metadata": {},
   "source": [
    "To confirm that we didn't overfit the transit, we can look at the folded light curve for the PLD model near trasit.\n",
    "This shouldn't have any residual transit signal, and that looks correct here:"
   ]
  },
  {
   "cell_type": "code",
   "execution_count": null,
   "metadata": {},
   "outputs": [],
   "source": [
    "plt.figure(figsize=(10, 5))\n",
    "\n",
    "x_fold = (x - bls_t0 + 0.5 * bls_period) % bls_period - 0.5 * bls_period\n",
    "m = np.abs(x_fold) < 0.3\n",
    "plt.plot(x_fold[m], pld_flux[m], \".k\", ms=4)\n",
    "\n",
    "bins = np.linspace(-0.5, 0.5, 60)\n",
    "denom, _ = np.histogram(x_fold, bins)\n",
    "num, _ = np.histogram(x_fold, bins, weights=pld_flux)\n",
    "denom[num == 0] = 1.0\n",
    "plt.plot(0.5 * (bins[1:] + bins[:-1]), num / denom, color=\"C1\", lw=2)\n",
    "plt.xlim(-0.2, 0.2)\n",
    "plt.xlabel(\"time since transit\")\n",
    "plt.ylabel(\"PLD model flux\");"
   ]
  },
  {
   "cell_type": "markdown",
   "metadata": {},
   "source": [
    "## The transit model in PyMC3\n",
    "\n",
    "The transit model, initialization, and sampling are all the same as in the TESS tutorial on the *exoplanet* docs."
   ]
  },
  {
   "cell_type": "code",
   "execution_count": null,
   "metadata": {},
   "outputs": [],
   "source": [
    "import exoplanet as xo\n",
    "import pymc3 as pm\n",
    "import theano.tensor as tt\n",
    "\n",
    "\n",
    "def build_model(mask=None, start=None):\n",
    "    if mask is None:\n",
    "        mask = np.ones(len(x), dtype=bool)\n",
    "    with pm.Model() as model:\n",
    "\n",
    "        # Parameters for the stellar properties\n",
    "        mean = pm.Normal(\"mean\", mu=0.0, sd=10.0)\n",
    "        u_star = xo.distributions.QuadLimbDark(\"u_star\")\n",
    "\n",
    "        # Stellar parameters from Vanderspek et al (2018)\n",
    "        M_star_vanderspek = 0.151, 0.014\n",
    "        R_star_vanderspek = 0.189, 0.006\n",
    "        m_star = pm.Normal(\"m_star\", mu=M_star_vanderspek[0], sd=M_star_vanderspek[1])\n",
    "        r_star = pm.Normal(\"r_star\", mu=R_star_vanderspek[0], sd=R_star_vanderspek[1])\n",
    "\n",
    "        # Prior to require physical parameters\n",
    "        pm.Potential(\"m_star_prior\", tt.switch(m_star > 0, 0, -np.inf))\n",
    "        pm.Potential(\"r_star_prior\", tt.switch(r_star > 0, 0, -np.inf))\n",
    "\n",
    "        # Orbital parameters for the planets\n",
    "        logP = pm.Normal(\"logP\", mu=np.log(bls_period), sd=1)\n",
    "        t0 = pm.Normal(\"t0\", mu=bls_t0, sd=1)\n",
    "        ror, b = xo.distributions.get_joint_radius_impact(\n",
    "            min_radius=0.01,\n",
    "            max_radius=0.2,\n",
    "            testval_r=np.sqrt(1e-3) * np.sqrt(bls_depth),\n",
    "            testval_b=0.5,\n",
    "        )\n",
    "        ecc = pm.Beta(\"ecc\", alpha=0.867, beta=3.03, testval=0.1)\n",
    "        omega = xo.distributions.Angle(\"omega\")\n",
    "\n",
    "        # Log-uniform prior on ror\n",
    "        pm.Potential(\"ror_prior\", -tt.log(ror))\n",
    "\n",
    "        # Transit jitter & GP parameters\n",
    "        logs2 = pm.Normal(\"logs2\", mu=np.log(np.var(y[mask])), sd=10)\n",
    "        logS0 = pm.Normal(\"logS0\", mu=np.log(np.var(y[mask])), sd=10)\n",
    "        logw0 = pm.Normal(\"logw0\", mu=np.log(2 * np.pi / 10), sd=10)\n",
    "\n",
    "        # Tracking planet parameters\n",
    "        period = pm.Deterministic(\"period\", tt.exp(logP))\n",
    "        r_pl = pm.Deterministic(\"r_pl\", r_star * ror)\n",
    "\n",
    "        # Orbit model\n",
    "        orbit = xo.orbits.KeplerianOrbit(\n",
    "            r_star=r_star,\n",
    "            m_star=m_star,\n",
    "            period=period,\n",
    "            t0=t0,\n",
    "            b=b,\n",
    "            ecc=ecc,\n",
    "            omega=omega,\n",
    "        )\n",
    "\n",
    "        pm.Deterministic(\"a\", orbit.a)\n",
    "        pm.Deterministic(\"rho_star\", orbit.rho_star)\n",
    "\n",
    "        # Compute the model light curve using starry\n",
    "        light_curves = (\n",
    "            xo.StarryLightCurve(u_star, r_star=r_star).get_light_curve(\n",
    "                orbit=orbit, r=r_pl, t=x[mask], texp=texp\n",
    "            )\n",
    "            * 1e3\n",
    "        )\n",
    "        light_curve = pm.math.sum(light_curves, axis=-1) + mean\n",
    "        pm.Deterministic(\"light_curves\", light_curves)\n",
    "\n",
    "        # GP model for the light curve\n",
    "        kernel = xo.gp.terms.SHOTerm(log_S0=logS0, log_w0=logw0, Q=1 / np.sqrt(2))\n",
    "        gp = xo.gp.GP(kernel, x[mask], tt.exp(logs2) + tt.zeros(mask.sum()), J=2)\n",
    "        pm.Potential(\"transit_obs\", gp.log_likelihood(y[mask] - light_curve))\n",
    "        pm.Deterministic(\"gp_pred\", gp.predict())\n",
    "\n",
    "        # Fit for the maximum a posteriori parameters, I've found that I can get\n",
    "        # a better solution by trying different combinations of parameters in turn\n",
    "        if start is None:\n",
    "            start = model.test_point\n",
    "        map_soln = pm.find_MAP(start=start, vars=[logs2, logS0, logw0])\n",
    "        map_soln = pm.find_MAP(start=map_soln, vars=[model.rb])\n",
    "        map_soln = pm.find_MAP(start=map_soln)\n",
    "\n",
    "    return model, map_soln\n",
    "\n",
    "\n",
    "model0, map_soln0 = build_model()"
   ]
  },
  {
   "cell_type": "markdown",
   "metadata": {},
   "source": [
    "Here's how we plot the initial light curve model:"
   ]
  },
  {
   "cell_type": "code",
   "execution_count": null,
   "metadata": {},
   "outputs": [],
   "source": [
    "def plot_light_curve(soln, mask=None):\n",
    "    if mask is None:\n",
    "        mask = np.ones(len(x), dtype=bool)\n",
    "\n",
    "    fig, axes = plt.subplots(3, 1, figsize=(10, 7), sharex=True)\n",
    "\n",
    "    ax = axes[0]\n",
    "    ax.plot(x[mask], y[mask], \"k\", label=\"data\")\n",
    "    gp_mod = soln[\"gp_pred\"] + soln[\"mean\"]\n",
    "    ax.plot(x[mask], gp_mod, color=\"C2\", label=\"gp model\")\n",
    "    ax.legend(fontsize=10)\n",
    "    ax.set_ylabel(\"relative flux [ppt]\")\n",
    "\n",
    "    ax = axes[1]\n",
    "    ax.plot(x[mask], y[mask] - gp_mod, \"k\", label=\"de-trended data\")\n",
    "    for i, l in enumerate(\"b\"):\n",
    "        mod = soln[\"light_curves\"][:, i]\n",
    "        ax.plot(x[mask], mod, label=\"planet {0}\".format(l))\n",
    "    ax.legend(fontsize=10, loc=3)\n",
    "    ax.set_ylabel(\"de-trended flux [ppt]\")\n",
    "\n",
    "    ax = axes[2]\n",
    "    mod = gp_mod + np.sum(soln[\"light_curves\"], axis=-1)\n",
    "    ax.plot(x[mask], y[mask] - mod, \"k\")\n",
    "    ax.axhline(0, color=\"#aaaaaa\", lw=1)\n",
    "    ax.set_ylabel(\"residuals [ppt]\")\n",
    "    ax.set_xlim(x[mask].min(), x[mask].max())\n",
    "    ax.set_xlabel(\"time [days]\")\n",
    "\n",
    "    return fig\n",
    "\n",
    "\n",
    "plot_light_curve(map_soln0);"
   ]
  },
  {
   "cell_type": "markdown",
   "metadata": {},
   "source": [
    "We can do some sigma clipping to remove significant outliers."
   ]
  },
  {
   "cell_type": "code",
   "execution_count": null,
   "metadata": {},
   "outputs": [],
   "source": [
    "mod = (\n",
    "    map_soln0[\"gp_pred\"]\n",
    "    + map_soln0[\"mean\"]\n",
    "    + np.sum(map_soln0[\"light_curves\"], axis=-1)\n",
    ")\n",
    "resid = y - mod\n",
    "rms = np.sqrt(np.median(resid ** 2))\n",
    "mask = np.abs(resid) < 5 * rms\n",
    "\n",
    "plt.figure(figsize=(10, 5))\n",
    "plt.plot(x, resid, \"k\", label=\"data\")\n",
    "plt.plot(x[~mask], resid[~mask], \"xr\", label=\"outliers\")\n",
    "plt.axhline(0, color=\"#aaaaaa\", lw=1)\n",
    "plt.ylabel(\"residuals [ppt]\")\n",
    "plt.xlabel(\"time [days]\")\n",
    "plt.legend(fontsize=12, loc=3)\n",
    "plt.xlim(x.min(), x.max());"
   ]
  },
  {
   "cell_type": "markdown",
   "metadata": {},
   "source": [
    "And then we re-build the model using the data without outliers."
   ]
  },
  {
   "cell_type": "code",
   "execution_count": null,
   "metadata": {},
   "outputs": [],
   "source": [
    "model, map_soln = build_model(mask, map_soln0)\n",
    "plot_light_curve(map_soln, mask);"
   ]
  },
  {
   "cell_type": "markdown",
   "metadata": {},
   "source": [
    "Now that we have the model, we can sample it using a `exoplanet.PyMC3Sampler`:"
   ]
  },
  {
   "cell_type": "code",
   "execution_count": null,
   "metadata": {},
   "outputs": [],
   "source": [
    "np.random.seed(42)\n",
    "sampler = xo.PyMC3Sampler(window=100, start=200, finish=200)\n",
    "with model:\n",
    "    burnin = sampler.tune(\n",
    "        tune=3000, start=map_soln, step_kwargs=dict(target_accept=0.9)\n",
    "    )"
   ]
  },
  {
   "cell_type": "code",
   "execution_count": null,
   "metadata": {},
   "outputs": [],
   "source": [
    "with model:\n",
    "    trace = sampler.sample(draws=2000)"
   ]
  },
  {
   "cell_type": "code",
   "execution_count": null,
   "metadata": {},
   "outputs": [],
   "source": [
    "pm.summary(\n",
    "    trace,\n",
    "    varnames=[\n",
    "        \"logw0\",\n",
    "        \"logS0\",\n",
    "        \"logs2\",\n",
    "        \"omega\",\n",
    "        \"ecc\",\n",
    "        \"rb\",\n",
    "        \"t0\",\n",
    "        \"logP\",\n",
    "        \"r_star\",\n",
    "        \"m_star\",\n",
    "        \"u_star\",\n",
    "        \"mean\",\n",
    "    ],\n",
    ")"
   ]
  },
  {
   "cell_type": "markdown",
   "metadata": {},
   "source": [
    "## Results\n",
    "\n",
    "After sampling, we can make the usual plots.\n",
    "First, let's look at the folded light curve plot:"
   ]
  },
  {
   "cell_type": "code",
   "execution_count": null,
   "metadata": {},
   "outputs": [],
   "source": [
    "# Compute the GP prediction\n",
    "gp_mod = np.median(trace[\"gp_pred\"] + trace[\"mean\"][:, None], axis=0)\n",
    "\n",
    "# Get the posterior median orbital parameters\n",
    "p = np.median(trace[\"period\"])\n",
    "t0 = np.median(trace[\"t0\"])\n",
    "\n",
    "# Plot the folded data\n",
    "x_fold = (x[mask] - t0 + 0.5 * p) % p - 0.5 * p\n",
    "plt.plot(\n",
    "    x_fold * 24.0,\n",
    "    y[mask] - gp_mod,\n",
    "    \".k\",\n",
    "    label=\"data\",\n",
    "    alpha=0.5,\n",
    "    zorder=-1000,\n",
    "    mec=\"none\",\n",
    ")\n",
    "\n",
    "# Overplot the phase binned light curve\n",
    "bins = np.linspace(-0.11, 0.11, 50)\n",
    "denom, _ = np.histogram(x_fold, bins)\n",
    "num, _ = np.histogram(x_fold, bins, weights=y[mask])\n",
    "denom[num == 0] = 1.0\n",
    "plt.plot(\n",
    "    0.5 * (bins[1:] + bins[:-1]) * 24.0, num / denom, \"o\", color=\"C2\", label=\"binned\"\n",
    ")\n",
    "\n",
    "# Plot the folded model\n",
    "inds = np.argsort(x_fold)\n",
    "inds = inds[np.abs(x_fold)[inds] < 0.3]\n",
    "pred = trace[\"light_curves\"][:, inds, 0]\n",
    "pred = np.percentile(pred, [16, 50, 84], axis=0)\n",
    "plt.plot(x_fold[inds] * 24.0, pred[1], color=\"C1\", label=\"model\")\n",
    "art = plt.fill_between(\n",
    "    x_fold[inds] * 24.0, pred[0], pred[2], color=\"C1\", alpha=0.5, zorder=1000\n",
    ")\n",
    "art.set_edgecolor(\"none\")\n",
    "\n",
    "# Annotate the plot with the planet's period\n",
    "txt = \"period = {0:.5f} +/- {1:.5f} hr\".format(\n",
    "    np.mean(trace[\"period\"] * 24.0), np.std(trace[\"period\"] * 24.0)\n",
    ")\n",
    "plt.annotate(\n",
    "    txt,\n",
    "    (0, 0),\n",
    "    xycoords=\"axes fraction\",\n",
    "    xytext=(5, 5),\n",
    "    textcoords=\"offset points\",\n",
    "    ha=\"left\",\n",
    "    va=\"bottom\",\n",
    "    fontsize=12,\n",
    ")\n",
    "\n",
    "plt.legend(fontsize=10, loc=4)\n",
    "plt.xlabel(\"time since transit [hours]\")\n",
    "plt.ylabel(\"de-trended flux\")\n",
    "plt.xlim(-2, 2);"
   ]
  },
  {
   "cell_type": "markdown",
   "metadata": {},
   "source": [
    "And a corner plot of some of the key parameters:"
   ]
  },
  {
   "cell_type": "code",
   "execution_count": null,
   "metadata": {},
   "outputs": [],
   "source": [
    "import corner\n",
    "import astropy.units as u\n",
    "\n",
    "varnames = [\"period\", \"b\", \"ecc\", \"r_pl\"]\n",
    "samples = pm.trace_to_dataframe(trace, varnames=varnames)\n",
    "\n",
    "# Convert the radius to Earth radii\n",
    "samples[\"r_pl\"] = (np.array(samples[\"r_pl__0\"]) * u.R_sun).to(u.R_earth).value\n",
    "del samples[\"r_pl__0\"]\n",
    "samples[\"period\"] *= 24.0\n",
    "\n",
    "corner.corner(\n",
    "    samples[[\"period\", \"r_pl\", \"b__0\", \"ecc\"]],\n",
    "    labels=[\"period [hr]\", \"radius [Earth radii]\", \"impact param\", \"eccentricity\"],\n",
    ");"
   ]
  },
  {
   "cell_type": "code",
   "execution_count": null,
   "metadata": {},
   "outputs": [],
   "source": []
  }
 ],
 "metadata": {
  "kernelspec": {
   "display_name": "Python 3",
   "language": "python",
   "name": "python3"
  },
  "language_info": {
   "codemirror_mode": {
    "name": "ipython",
    "version": 3
   },
   "file_extension": ".py",
   "mimetype": "text/x-python",
   "name": "python",
   "nbconvert_exporter": "python",
   "pygments_lexer": "ipython3",
   "version": "3.6.7"
  }
 },
 "nbformat": 4,
 "nbformat_minor": 2
}
