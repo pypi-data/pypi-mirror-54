{
 "cells": [
  {
   "cell_type": "code",
   "execution_count": null,
   "metadata": {},
   "outputs": [],
   "source": [
    "%matplotlib inline"
   ]
  },
  {
   "cell_type": "code",
   "execution_count": null,
   "metadata": {},
   "outputs": [],
   "source": [
    "%run notebook_setup"
   ]
  },
  {
   "cell_type": "markdown",
   "metadata": {},
   "source": [
    "# Interpolation with PyMC3\n",
    "\n",
    "## A 1D example\n",
    "\n",
    "To start, we'll do a simple 1D example where we have a model evaluated at control points and we interpolate between them to estimate the model value."
   ]
  },
  {
   "cell_type": "code",
   "execution_count": null,
   "metadata": {},
   "outputs": [],
   "source": [
    "import numpy as np\n",
    "import matplotlib.pyplot as plt\n",
    "\n",
    "import exoplanet as xo\n",
    "\n",
    "np.random.seed(42)\n",
    "x = np.sort(np.random.uniform(-5, 5, 25))\n",
    "points = [x]\n",
    "values = x ** 3 - x ** 2\n",
    "\n",
    "interpolator = xo.interp.RegularGridInterpolator(points, values[:, None])\n",
    "\n",
    "t = np.linspace(-6, 6, 5000)\n",
    "plt.plot(t, interpolator.evaluate(t[:, None]).eval(), label=\"interpolation\")\n",
    "plt.plot(x, values, \"o\", label=\"control points\")\n",
    "plt.xlabel(\"x\")\n",
    "plt.ylabel(\"y\")\n",
    "plt.legend(fontsize=12);"
   ]
  },
  {
   "cell_type": "markdown",
   "metadata": {},
   "source": [
    "Here's how we build the PyMC3 model:"
   ]
  },
  {
   "cell_type": "code",
   "execution_count": null,
   "metadata": {},
   "outputs": [],
   "source": [
    "import pymc3 as pm\n",
    "\n",
    "truth = 45.0\n",
    "data_sd = 8.0\n",
    "data_mu = truth + data_sd * np.random.randn()\n",
    "\n",
    "with pm.Model() as model:\n",
    "\n",
    "    # The value passed into the interpolator must have the shape\n",
    "    # (ntest, ndim), but in our case that is (1, 1)\n",
    "    xval = pm.Uniform(\"x\", lower=-8, upper=8, shape=(1, 1))\n",
    "\n",
    "    # Evaluate the interpolated model and extract the scalar value\n",
    "    # we want\n",
    "    mod = pm.Deterministic(\"y\", interpolator.evaluate(xval)[0, 0])\n",
    "\n",
    "    # The usual likelihood\n",
    "    pm.Normal(\"obs\", mu=mod, sd=data_sd, observed=data_mu)\n",
    "\n",
    "    # Sampling!\n",
    "    trace = pm.sample(draws=1000, tune=2000, step_kwargs=dict(target_accept=0.9))"
   ]
  },
  {
   "cell_type": "markdown",
   "metadata": {},
   "source": [
    "And here are the results:"
   ]
  },
  {
   "cell_type": "code",
   "execution_count": null,
   "metadata": {},
   "outputs": [],
   "source": [
    "t = np.linspace(-6, 6, 5000)\n",
    "plt.plot(trace[\"x\"][:, 0, 0], trace[\"y\"], \".k\", alpha=0.1, label=\"posterior samples\")\n",
    "plt.axhline(truth, color=\"k\", lw=3, alpha=0.5, label=\"truth\")\n",
    "plt.plot(t, interpolator.evaluate(t[:, None]).eval(), label=\"interpolation\")\n",
    "plt.xlabel(\"x\")\n",
    "plt.ylabel(\"y\")\n",
    "plt.legend(fontsize=12);"
   ]
  },
  {
   "cell_type": "markdown",
   "metadata": {},
   "source": [
    "## A 2D example\n",
    "\n",
    "In this case, we'll interpolate a 2D function. This one is a hard one because the posterior is a ring, but it demonstrates the principle."
   ]
  },
  {
   "cell_type": "code",
   "execution_count": null,
   "metadata": {},
   "outputs": [],
   "source": [
    "points = [np.linspace(-5, 5, 50), np.linspace(-1, 1, 25)]\n",
    "values = np.exp(\n",
    "    -0.5 * (points[0] ** 2)[:, None]\n",
    "    - 0.5 * (points[1] ** 2 / 0.5)[None, :]\n",
    "    - points[0][:, None] * points[1][None, :]\n",
    ")\n",
    "\n",
    "interpolator = xo.interp.RegularGridInterpolator(points, values[:, :, None], nout=1)\n",
    "\n",
    "plt.pcolor(points[0], points[1], values.T)\n",
    "plt.colorbar()\n",
    "plt.xlabel(\"x\")\n",
    "plt.ylabel(\"y\");"
   ]
  },
  {
   "cell_type": "markdown",
   "metadata": {},
   "source": [
    "Set things up and sample."
   ]
  },
  {
   "cell_type": "code",
   "execution_count": null,
   "metadata": {},
   "outputs": [],
   "source": [
    "import theano.tensor as tt\n",
    "\n",
    "data_mu = 0.6\n",
    "data_sd = 0.1\n",
    "\n",
    "with pm.Model() as model:\n",
    "\n",
    "    xval = pm.Uniform(\"x\", lower=-5, upper=5, shape=(1,))\n",
    "    yval = pm.Uniform(\"y\", lower=-1, upper=1, shape=(1,))\n",
    "    xtest = tt.stack([xval, yval], axis=-1)\n",
    "\n",
    "    mod = interpolator.evaluate(xtest)\n",
    "\n",
    "    # The usual likelihood\n",
    "    pm.Normal(\"obs\", mu=mod, sd=data_sd, observed=data_mu)\n",
    "\n",
    "    # Sampling!\n",
    "    trace = pm.sample(draws=4000, tune=4000, step_kwargs=dict(target_accept=0.9))"
   ]
  },
  {
   "cell_type": "markdown",
   "metadata": {},
   "source": [
    "And here are the results:"
   ]
  },
  {
   "cell_type": "code",
   "execution_count": null,
   "metadata": {},
   "outputs": [],
   "source": [
    "import corner\n",
    "\n",
    "samples = pm.trace_to_dataframe(trace)\n",
    "corner.corner(samples);"
   ]
  },
  {
   "cell_type": "code",
   "execution_count": null,
   "metadata": {},
   "outputs": [],
   "source": []
  }
 ],
 "metadata": {
  "kernelspec": {
   "display_name": "Python 3",
   "language": "python",
   "name": "python3"
  },
  "language_info": {
   "codemirror_mode": {
    "name": "ipython",
    "version": 3
   },
   "file_extension": ".py",
   "mimetype": "text/x-python",
   "name": "python",
   "nbconvert_exporter": "python",
   "pygments_lexer": "ipython3",
   "version": "3.6.8"
  }
 },
 "nbformat": 4,
 "nbformat_minor": 2
}
