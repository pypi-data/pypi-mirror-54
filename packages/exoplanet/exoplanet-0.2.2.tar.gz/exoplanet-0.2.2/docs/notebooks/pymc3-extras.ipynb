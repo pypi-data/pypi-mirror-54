{
 "cells": [
  {
   "cell_type": "code",
   "execution_count": null,
   "metadata": {},
   "outputs": [],
   "source": [
    "%matplotlib inline"
   ]
  },
  {
   "cell_type": "code",
   "execution_count": null,
   "metadata": {},
   "outputs": [],
   "source": [
    "%run notebook_setup"
   ]
  },
  {
   "cell_type": "markdown",
   "metadata": {},
   "source": [
    "# PyMC3 extras"
   ]
  },
  {
   "cell_type": "markdown",
   "metadata": {},
   "source": [
    "*exoplanet* comes bundled with a few utilities that can make it easier to use and debug PyMC3 models for fitting exoplanet data.\n",
    "This tutorial briefly describes these features and their use.\n",
    "\n",
    "## Dense mass matrices\n",
    "\n",
    "The main extra is the :func:`exoplanet.get_dense_nuts_step` function that extends the PyMC3 sampling procedure to include support for learning off-diagonal elements of the mass matrix.\n",
    "This is *very* important for any problems where there are covariances between the parameters (this is true for pretty much all exoplanet models).\n",
    "A thorough discussion of this [can be found elsewhere online](https://dfm.io/posts/pymc3-mass-matrix/), but here is a simple demo where we sample a covariant Gaussian using :func:`exoplanet.get_dense_nuts_step`.\n",
    "\n",
    "First, we generate a random positive definite covariance matrix for the Gaussian:"
   ]
  },
  {
   "cell_type": "code",
   "execution_count": null,
   "metadata": {},
   "outputs": [],
   "source": [
    "import numpy as np\n",
    "\n",
    "ndim = 5\n",
    "np.random.seed(42)\n",
    "L = np.random.randn(ndim, ndim)\n",
    "L[np.diag_indices_from(L)] = 0.1 * np.exp(L[np.diag_indices_from(L)])\n",
    "L[np.triu_indices_from(L, 1)] = 0.0\n",
    "cov = np.dot(L, L.T)"
   ]
  },
  {
   "cell_type": "markdown",
   "metadata": {},
   "source": [
    "And then we can sample this using PyMC3 and :func:`exoplanet.get_dense_nuts_step`:"
   ]
  },
  {
   "cell_type": "code",
   "execution_count": null,
   "metadata": {},
   "outputs": [],
   "source": [
    "import pymc3 as pm\n",
    "import exoplanet as xo\n",
    "\n",
    "with pm.Model() as model:\n",
    "    pm.MvNormal(\"x\", mu=np.zeros(ndim), chol=L, shape=(ndim,))\n",
    "    trace = pm.sample(tune=2000, draws=2000, chains=4, step=xo.get_dense_nuts_step())"
   ]
  },
  {
   "cell_type": "markdown",
   "metadata": {},
   "source": [
    "This is a little more verbose than the standard use of PyMC3, but the performance is several orders of magnitude better than you would get without the mass matrix tuning.\n",
    "As you can see from the `pymc3.summary`, the autocorrelation time of this chain is about 1 as we would expect for a simple problem like this."
   ]
  },
  {
   "cell_type": "code",
   "execution_count": null,
   "metadata": {},
   "outputs": [],
   "source": [
    "pm.summary(trace)"
   ]
  },
  {
   "cell_type": "markdown",
   "metadata": {},
   "source": [
    "## Evaluating model components for specific samples\n",
    "\n",
    "I find that when I'm debugging a PyMC3 model, I often want to inspect the value of some part of the model for a given set of parameters.\n",
    "As far as I can tell, there isn't a simple way to do this in PyMC3, so *exoplanet* comes with a hack for doing this: :func:`exoplanet.eval_in_model`.\n",
    "This function handles the mapping between named PyMC3 variables and the input required by the Theano function that can evaluate the requested variable or tensor.\n",
    "\n",
    "As a demo, let's say that we're fitting a parabola to some data:"
   ]
  },
  {
   "cell_type": "code",
   "execution_count": null,
   "metadata": {},
   "outputs": [],
   "source": [
    "np.random.seed(42)\n",
    "x = np.sort(np.random.uniform(-1, 1, 50))\n",
    "with pm.Model() as model:\n",
    "    logs = pm.Normal(\"logs\", mu=-3.0, sd=1.0)\n",
    "    a0 = pm.Normal(\"a0\")\n",
    "    a1 = pm.Normal(\"a1\")\n",
    "    a2 = pm.Normal(\"a2\")\n",
    "    mod = a0 + a1 * x + a2 * x ** 2\n",
    "\n",
    "    # Sample from the prior\n",
    "    prior_sample = pm.sample_prior_predictive(samples=1)\n",
    "    y = xo.eval_in_model(mod, prior_sample)\n",
    "    y += np.exp(prior_sample[\"logs\"]) * np.random.randn(len(y))\n",
    "\n",
    "    # Add the likelihood\n",
    "    pm.Normal(\"obs\", mu=mod, sd=pm.math.exp(logs), observed=y)\n",
    "\n",
    "    # Fit the data\n",
    "    map_soln = xo.optimize()\n",
    "    trace = pm.sample()"
   ]
  },
  {
   "cell_type": "markdown",
   "metadata": {},
   "source": [
    "After running the fit, it might be interesting to look at the predictions of the model.\n",
    "We could have added a `pymc3.Deterministic` node for eveything, but that can end up taking up a lot of memory and sometimes its useful to be able to experiement with different outputs.\n",
    "Using :func:`exoplanet.utils.eval_in_model` we can, for example, evaluate the maximum a posteriori (MAP) model prediction on a fine grid:"
   ]
  },
  {
   "cell_type": "code",
   "execution_count": null,
   "metadata": {},
   "outputs": [],
   "source": [
    "import matplotlib.pyplot as plt\n",
    "\n",
    "x_grid = np.linspace(-1.1, 1.1, 5000)\n",
    "with model:\n",
    "    pred = xo.eval_in_model(a0 + a1 * x_grid + a2 * x_grid ** 2, map_soln)\n",
    "\n",
    "plt.plot(x, y, \".k\", label=\"data\")\n",
    "plt.plot(x_grid, pred, label=\"map\")\n",
    "plt.legend(fontsize=12)\n",
    "plt.xlabel(\"x\")\n",
    "plt.ylabel(\"y\")\n",
    "plt.xlim(-1.1, 1.1);"
   ]
  },
  {
   "cell_type": "markdown",
   "metadata": {},
   "source": [
    "We can also combine this with :func:`exoplanet.get_samples_from_trace` to plot this prediction for a set of samples in the trace."
   ]
  },
  {
   "cell_type": "code",
   "execution_count": null,
   "metadata": {},
   "outputs": [],
   "source": [
    "samples = np.empty((50, len(x_grid)))\n",
    "with model:\n",
    "    y_grid = a0 + a1 * x_grid + a2 * x_grid ** 2\n",
    "    for i, sample in enumerate(xo.get_samples_from_trace(trace, size=50)):\n",
    "        samples[i] = xo.eval_in_model(y_grid, sample)\n",
    "\n",
    "plt.plot(x, y, \".k\", label=\"data\")\n",
    "plt.plot(x_grid, pred, label=\"map\")\n",
    "plt.plot(x_grid, samples[0], color=\"C1\", alpha=0.1, label=\"posterior\")\n",
    "plt.plot(x_grid, samples[1:].T, color=\"C1\", alpha=0.1)\n",
    "plt.legend(fontsize=12)\n",
    "plt.xlabel(\"x\")\n",
    "plt.ylabel(\"y\")\n",
    "plt.xlim(-1.1, 1.1);"
   ]
  },
  {
   "cell_type": "code",
   "execution_count": null,
   "metadata": {},
   "outputs": [],
   "source": []
  }
 ],
 "metadata": {
  "kernelspec": {
   "display_name": "Python 3",
   "language": "python",
   "name": "python3"
  },
  "language_info": {
   "codemirror_mode": {
    "name": "ipython",
    "version": 3
   },
   "file_extension": ".py",
   "mimetype": "text/x-python",
   "name": "python",
   "nbconvert_exporter": "python",
   "pygments_lexer": "ipython3",
   "version": "3.6.8"
  }
 },
 "nbformat": 4,
 "nbformat_minor": 2
}
