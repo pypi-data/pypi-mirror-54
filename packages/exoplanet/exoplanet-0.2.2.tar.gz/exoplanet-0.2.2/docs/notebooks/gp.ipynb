{
 "cells": [
  {
   "cell_type": "code",
   "execution_count": null,
   "metadata": {},
   "outputs": [],
   "source": [
    "%matplotlib inline"
   ]
  },
  {
   "cell_type": "code",
   "execution_count": null,
   "metadata": {},
   "outputs": [],
   "source": [
    "%run notebook_setup"
   ]
  },
  {
   "cell_type": "markdown",
   "metadata": {},
   "source": [
    "# Scalable Gaussian processes in PyMC3"
   ]
  },
  {
   "cell_type": "markdown",
   "metadata": {},
   "source": [
    "PyMC3 has support for [Gaussian Processes (GPs)](https://docs.pymc.io/gp.html), but this implementation is too slow for many applications in time series astrophysics.\n",
    "So *exoplanet* comes with an implementation of scalable GPs powered by [celerite](https://celerite.readthedocs.io/).\n",
    "More information about the algorithm can be found in the [celerite docs](https://celerite.readthedocs.io/) and in the papers ([Paper 1](https://arxiv.org/abs/1703.09710) and [Paper 2](https://arxiv.org/abs/1801.10156)), but this tutorial will give a hands on demo of how to use celerite in PyMC3."
   ]
  },
  {
   "cell_type": "raw",
   "metadata": {},
   "source": [
    ".. note:: For the best results, we generally recommend the use of the :class:`exoplanet.gp.terms.SHOTerm`, :class:`exoplanet.gp.terms.Matern32Term`, and :class:`exoplanet.gp.terms.RotationTerm` \"terms\" because the other terms tend to have unphysical behavior at high frequency."
   ]
  },
  {
   "cell_type": "markdown",
   "metadata": {},
   "source": [
    "Let's start with the quickstart demo from the [celerite docs](https://celerite.readthedocs.io/en/stable/tutorials/first/).\n",
    "We'll fit the following simulated dataset using the sum of two :class:`exoplanet.gp.terms.SHOTerm` objects.\n",
    "\n",
    "First, generate the simulated data:"
   ]
  },
  {
   "cell_type": "code",
   "execution_count": null,
   "metadata": {},
   "outputs": [],
   "source": [
    "import numpy as np\n",
    "import matplotlib.pyplot as plt\n",
    "\n",
    "np.random.seed(42)\n",
    "\n",
    "t = np.sort(\n",
    "    np.append(np.random.uniform(0, 3.8, 57), np.random.uniform(5.5, 10, 68))\n",
    ")  # The input coordinates must be sorted\n",
    "yerr = np.random.uniform(0.08, 0.22, len(t))\n",
    "y = 0.2 * (t - 5) + np.sin(3 * t + 0.1 * (t - 5) ** 2) + yerr * np.random.randn(len(t))\n",
    "\n",
    "true_t = np.linspace(0, 10, 5000)\n",
    "true_y = 0.2 * (true_t - 5) + np.sin(3 * true_t + 0.1 * (true_t - 5) ** 2)\n",
    "\n",
    "plt.errorbar(t, y, yerr=yerr, fmt=\".k\", capsize=0, label=\"data\")\n",
    "plt.plot(true_t, true_y, \"k\", lw=1.5, alpha=0.3, label=\"truth\")\n",
    "plt.legend(fontsize=12)\n",
    "plt.xlabel(\"t\")\n",
    "plt.ylabel(\"y\")\n",
    "plt.xlim(0, 10)\n",
    "plt.ylim(-2.5, 2.5);"
   ]
  },
  {
   "cell_type": "markdown",
   "metadata": {},
   "source": [
    "This plot shows the simulated data as black points with error bars and\n",
    "the true function is shown as a gray line.\n",
    "\n",
    "Now let's build the PyMC3 model that we'll use to fit the data.\n",
    "We can see that there's some roughly periodic signal in the data as well\n",
    "as a longer term trend. To capture these two features, we will model\n",
    "this as a mixture of two stochastically driven simple harmonic\n",
    "oscillators (SHO) with the power spectrum:\n",
    "\n",
    "$$\n",
    "S(\\omega) = \\sqrt{\\frac{2}{\\pi}}\\frac{S_1\\,{\\omega_1}^4}{(\\omega^2 - {\\omega_1}^2)^2 + 2\\,{\\omega_1}^2\\,\\omega^2}\n",
    "   + \\sqrt{\\frac{2}{\\pi}}\\frac{S_2\\,{\\omega_2}^4}{(\\omega^2 - {\\omega_2}^2)^2 + {\\omega_2}^2\\,\\omega^2/Q^2}\n",
    "$$\n",
    "\n",
    "The first term is :class:`exoplanet.gp.terms.SHOterm` with $Q=1/\\sqrt{2}$ and the second is regular :class:`exoplanet.gp.terms.SHOterm`.\n",
    "This model has 5 free parameters ($S_1$, $\\omega_1$, $S_2$, $\\omega_2$, and $Q$) and they must all be positive so we'll fit for the log of each parameter.\n",
    "Using *exoplanet*, this is how you would build this model,\n",
    "choosing more or less arbitrary initial values for the parameters."
   ]
  },
  {
   "cell_type": "code",
   "execution_count": null,
   "metadata": {},
   "outputs": [],
   "source": [
    "import pymc3 as pm\n",
    "import theano.tensor as tt\n",
    "from exoplanet.gp import terms, GP\n",
    "\n",
    "with pm.Model() as model:\n",
    "\n",
    "    logS1 = pm.Normal(\"logS1\", mu=0.0, sd=15.0, testval=np.log(np.var(y)))\n",
    "    logw1 = pm.Normal(\"logw1\", mu=0.0, sd=15.0, testval=np.log(3.0))\n",
    "    logS2 = pm.Normal(\"logS2\", mu=0.0, sd=15.0, testval=np.log(np.var(y)))\n",
    "    logw2 = pm.Normal(\"logw2\", mu=0.0, sd=15.0, testval=np.log(3.0))\n",
    "    logQ = pm.Normal(\"logQ\", mu=0.0, sd=15.0, testval=0)\n",
    "\n",
    "    # Set up the kernel an GP\n",
    "    kernel = terms.SHOTerm(log_S0=logS1, log_w0=logw1, Q=1.0 / np.sqrt(2))\n",
    "    kernel += terms.SHOTerm(log_S0=logS2, log_w0=logw2, log_Q=logQ)\n",
    "    gp = GP(kernel, t, yerr ** 2)\n",
    "\n",
    "    # Add a custom \"potential\" (log probability function) with the GP likelihood\n",
    "    pm.Potential(\"gp\", gp.log_likelihood(y))"
   ]
  },
  {
   "cell_type": "markdown",
   "metadata": {},
   "source": [
    "A few comments here:\n",
    "\n",
    "1. The `term` interface in *exoplanet* only accepts keyword arguments with names given by the `parameter_names` property of the term. But it will also interpret keyword arguments with the name prefaced by `log_` to be the log of the parameter. For example, in this case, we used `log_S0` as the parameter for each term, but `S0=tt.exp(log_S0)` would have been equivalent. This is useful because many of the parameters are required to be positive so fitting the log of those parameters is often best.\n",
    "2. The third argument to the :class:`exoplanet.gp.GP` constructor should be the *variance* to add along the diagonal, not the standard deviation as in the original [celerite implementation](https://celerite.readthedocs.io).\n",
    "3. Finally, the :class:`exoplanet.gp.GP` constructor takes an optional argument `J` which specifies the width of the problem if it is known at compile time. Just to be confusing, this is actually two times the `J` from [the celerite paper](https://arxiv.org/abs/1703.09710). There are various technical reasons why this is difficult to work out in general and this code will always work if you don't provide a value for `J`, but you can get much better performance (especially for small `J`) if you know what it will be for your problem. In general, most terms cost `J=2` with the exception of a :class:`exoplanet.gp.terms.RealTerm` (which costs `J=1`) and a :class:`exoplanet.gp.terms.RotationTerm` (which costs `J=4`).\n",
    "\n",
    "To start, let's fit for the maximum a posteriori (MAP) parameters and look the the predictions that those make."
   ]
  },
  {
   "cell_type": "code",
   "execution_count": null,
   "metadata": {},
   "outputs": [],
   "source": [
    "import exoplanet as xo\n",
    "\n",
    "with model:\n",
    "    map_soln = xo.optimize(start=model.test_point)"
   ]
  },
  {
   "cell_type": "markdown",
   "metadata": {},
   "source": [
    "We'll use the :func:`exoplanet.eval_in_model` function to evaluate the MAP GP model."
   ]
  },
  {
   "cell_type": "code",
   "execution_count": null,
   "metadata": {},
   "outputs": [],
   "source": [
    "with model:\n",
    "    mu, var = xo.eval_in_model(gp.predict(true_t, return_var=True), map_soln)"
   ]
  },
  {
   "cell_type": "code",
   "execution_count": null,
   "metadata": {},
   "outputs": [],
   "source": [
    "plt.errorbar(t, y, yerr=yerr, fmt=\".k\", capsize=0, label=\"data\")\n",
    "plt.plot(true_t, true_y, \"k\", lw=1.5, alpha=0.3, label=\"truth\")\n",
    "\n",
    "# Plot the prediction and the 1-sigma uncertainty\n",
    "sd = np.sqrt(var)\n",
    "art = plt.fill_between(true_t, mu + sd, mu - sd, color=\"C1\", alpha=0.3)\n",
    "art.set_edgecolor(\"none\")\n",
    "plt.plot(true_t, mu, color=\"C1\", label=\"prediction\")\n",
    "\n",
    "plt.legend(fontsize=12)\n",
    "plt.xlabel(\"t\")\n",
    "plt.ylabel(\"y\")\n",
    "plt.xlim(0, 10)\n",
    "plt.ylim(-2.5, 2.5);"
   ]
  },
  {
   "cell_type": "markdown",
   "metadata": {},
   "source": [
    "Now we can sample this model using PyMC3.\n",
    "There are strong covariances between the parameters so we'll use the custom :func:`exoplanet.get_dense_nuts_step` to fit for these covariances during burn-in."
   ]
  },
  {
   "cell_type": "code",
   "execution_count": null,
   "metadata": {},
   "outputs": [],
   "source": [
    "with model:\n",
    "    trace = pm.sample(\n",
    "        tune=2000, draws=2000, start=map_soln, chains=2, step=xo.get_dense_nuts_step()\n",
    "    )"
   ]
  },
  {
   "cell_type": "markdown",
   "metadata": {},
   "source": [
    "Now we can compute the standard PyMC3 convergence statistics (using `pymc3.summary`) and make a trace plot (using `pymc3.traceplot`)."
   ]
  },
  {
   "cell_type": "code",
   "execution_count": null,
   "metadata": {},
   "outputs": [],
   "source": [
    "pm.traceplot(trace)\n",
    "pm.summary(trace)"
   ]
  },
  {
   "cell_type": "markdown",
   "metadata": {},
   "source": [
    "That all looks pretty good, but I like to make two other results plots: (1) a [corner plot](https://corner.readthedocs.io) and (2) a posterior predictive plot.\n",
    "\n",
    "The corner plot is easy using `pymc3.trace_to_dataframe` and I find it useful for understanding the covariances between parameters when debugging."
   ]
  },
  {
   "cell_type": "code",
   "execution_count": null,
   "metadata": {},
   "outputs": [],
   "source": [
    "import corner\n",
    "\n",
    "samples = pm.trace_to_dataframe(trace)\n",
    "corner.corner(samples);"
   ]
  },
  {
   "cell_type": "markdown",
   "metadata": {},
   "source": [
    "The \"posterior predictive\" plot that I like to make isn't the same as a \"posterior predictive check\" (which can be a good thing to do too).\n",
    "Instead, I like to look at the predictions of the model in the space of the data.\n",
    "We could have saved these predictions using a `pymc3.Deterministic` distribution, but that adds some overhead to each evaluation of the model so instead, we can use :func:`exoplanet.utils.get_samples_from_trace` to loop over a few random samples from the chain and then the :func:`exoplanet.eval_in_model` function to evaluate the prediction just for those samples."
   ]
  },
  {
   "cell_type": "code",
   "execution_count": null,
   "metadata": {},
   "outputs": [],
   "source": [
    "# Generate 50 realizations of the prediction sampling randomly from the chain\n",
    "N_pred = 50\n",
    "pred_mu = np.empty((N_pred, len(true_t)))\n",
    "pred_var = np.empty((N_pred, len(true_t)))\n",
    "with model:\n",
    "    pred = gp.predict(true_t, return_var=True)\n",
    "    for i, sample in enumerate(xo.get_samples_from_trace(trace, size=N_pred)):\n",
    "        pred_mu[i], pred_var[i] = xo.eval_in_model(pred, sample)\n",
    "\n",
    "# Plot the predictions\n",
    "for i in range(len(pred_mu)):\n",
    "    mu = pred_mu[i]\n",
    "    sd = np.sqrt(pred_var[i])\n",
    "    label = None if i else \"prediction\"\n",
    "    art = plt.fill_between(true_t, mu + sd, mu - sd, color=\"C1\", alpha=0.1)\n",
    "    art.set_edgecolor(\"none\")\n",
    "    plt.plot(true_t, mu, color=\"C1\", label=label, alpha=0.1)\n",
    "\n",
    "plt.errorbar(t, y, yerr=yerr, fmt=\".k\", capsize=0, label=\"data\")\n",
    "plt.plot(true_t, true_y, \"k\", lw=1.5, alpha=0.3, label=\"truth\")\n",
    "plt.legend(fontsize=12)\n",
    "plt.xlabel(\"t\")\n",
    "plt.ylabel(\"y\")\n",
    "plt.xlim(0, 10)\n",
    "plt.ylim(-2.5, 2.5);"
   ]
  },
  {
   "cell_type": "markdown",
   "metadata": {},
   "source": [
    "## Citations\n",
    "\n",
    "As described in the :ref:`citation` tutorial, we can use :func:`exoplanet.citations.get_citations_for_model` to construct an acknowledgement and BibTeX listing that includes the relevant citations for this model."
   ]
  },
  {
   "cell_type": "code",
   "execution_count": null,
   "metadata": {},
   "outputs": [],
   "source": [
    "with model:\n",
    "    txt, bib = xo.citations.get_citations_for_model()\n",
    "print(txt)"
   ]
  },
  {
   "cell_type": "code",
   "execution_count": null,
   "metadata": {},
   "outputs": [],
   "source": [
    "print(\"\\n\".join(bib.splitlines()[:10]) + \"\\n...\")"
   ]
  },
  {
   "cell_type": "code",
   "execution_count": null,
   "metadata": {},
   "outputs": [],
   "source": []
  }
 ],
 "metadata": {
  "kernelspec": {
   "display_name": "Python 3",
   "language": "python",
   "name": "python3"
  },
  "language_info": {
   "codemirror_mode": {
    "name": "ipython",
    "version": 3
   },
   "file_extension": ".py",
   "mimetype": "text/x-python",
   "name": "python",
   "nbconvert_exporter": "python",
   "pygments_lexer": "ipython3",
   "version": "3.6.8"
  }
 },
 "nbformat": 4,
 "nbformat_minor": 2
}
