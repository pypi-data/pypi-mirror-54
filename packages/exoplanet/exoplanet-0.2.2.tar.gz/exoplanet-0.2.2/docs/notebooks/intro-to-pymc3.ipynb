{
 "cells": [
  {
   "cell_type": "code",
   "execution_count": null,
   "metadata": {},
   "outputs": [],
   "source": [
    "%matplotlib inline"
   ]
  },
  {
   "cell_type": "code",
   "execution_count": null,
   "metadata": {},
   "outputs": [],
   "source": [
    "%run notebook_setup"
   ]
  },
  {
   "cell_type": "markdown",
   "metadata": {},
   "source": [
    "# A quick intro to PyMC3 for exoplaneteers"
   ]
  },
  {
   "cell_type": "markdown",
   "metadata": {},
   "source": [
    "[Hamiltonian Monte Carlo (HMC)](https://en.wikipedia.org/wiki/Hamiltonian_Monte_Carlo) methods haven't been widely used in astrophysics, but they are the standard methods for probabilistic inference using Markov chain Monte Carlo (MCMC) in many other fields.\n",
    "*exoplanet* is designed to provide the building blocks for fitting many exoplanet datasets using this technology, and this tutorial presents some of the basic features of the [PyMC3](https://docs.pymc.io/) modeling language and inference engine.\n",
    "The [documentation for PyMC3](https://docs.pymc.io/) includes many other tutorials that you should check out to get more familiar with the features that are available.\n",
    "\n",
    "In this tutorial, we will go through two simple examples of fitting some data using PyMC3.\n",
    "The first is the classic fitting a line to data with unknown error bars, and the second is a more relevant example where we fit a radial velocity model to the public radial velocity observations of [51 Peg](https://en.wikipedia.org/wiki/51_Pegasi).\n",
    "You can read more about fitting lines to data [in the bible of line fitting](https://arxiv.org/abs/1008.4686) and you can see another example of fitting the 51 Peg data using HMC (this time using [Stan](http://mc-stan.org)) [here](https://dfm.io/posts/stan-c++/).\n",
    "\n",
    "## Hello world (AKA fitting a line to data)\n",
    "\n",
    "My standard intro to a new modeling language or inference framework is to fit a line to data.\n",
    "So. Let's do that with PyMC3.\n",
    "\n",
    "To start, we'll generate some fake data using a linear model.\n",
    "Feel free to change the random number seed to try out a different dataset."
   ]
  },
  {
   "cell_type": "code",
   "execution_count": null,
   "metadata": {},
   "outputs": [],
   "source": [
    "import numpy as np\n",
    "import matplotlib.pyplot as plt\n",
    "\n",
    "np.random.seed(42)\n",
    "\n",
    "true_m = 0.5\n",
    "true_b = -1.3\n",
    "true_logs = np.log(0.3)\n",
    "\n",
    "x = np.sort(np.random.uniform(0, 5, 50))\n",
    "y = true_b + true_m * x + np.exp(true_logs) * np.random.randn(len(x))\n",
    "\n",
    "plt.plot(x, y, \".k\")\n",
    "plt.ylim(-2, 2)\n",
    "plt.xlabel(\"x\")\n",
    "plt.ylabel(\"y\");"
   ]
  },
  {
   "cell_type": "markdown",
   "metadata": {},
   "source": [
    "To fit a model to these data, our model will have 3 parameters: the slope $m$, the intercept $b$, and the log of the uncertainty $\\log(\\sigma)$.\n",
    "To start, let's choose broad uniform priors on these parameters:\n",
    "\n",
    "$$\n",
    "\\begin{eqnarray}\n",
    "p(m) &=& \\left\\{\\begin{array}{ll}\n",
    "1/10 & \\mathrm{if}\\,-5 < m < 5 \\\\\n",
    "0 & \\mathrm{otherwise} \\\\\n",
    "\\end{array}\\right. \\\\\n",
    "p(b) &=& \\left\\{\\begin{array}{ll}\n",
    "1/10 & \\mathrm{if}\\,-5 < b < 5 \\\\\n",
    "0 & \\mathrm{otherwise} \\\\\n",
    "\\end{array}\\right. \\\\\n",
    "p(\\log(\\sigma)) &=& \\left\\{\\begin{array}{ll}\n",
    "1/10 & \\mathrm{if}\\,-5 < b < 5 \\\\\n",
    "0 & \\mathrm{otherwise} \\\\\n",
    "\\end{array}\\right.\n",
    "\\end{eqnarray}\n",
    "$$\n",
    "\n",
    "Then, the log-likelihood function will be\n",
    "\n",
    "$$\n",
    "\\log p(\\{y_n\\}\\,|\\,m,\\,b,\\,\\log(\\sigma)) = -\\frac{1}{2}\\sum_{n=1}^N \\left[\\frac{(y_n - m\\,x_n - b)^2}{\\sigma^2} + \\log(2\\,\\pi\\,\\sigma^2)\\right]\n",
    "$$\n",
    "\n",
    "[**Note:** the second normalization term is needed in this model because we are fitting for $\\sigma$ and the second term is *not* a constant.]\n",
    "\n",
    "Another way of writing this model that might not be familiar is the following:\n",
    "\n",
    "$$\n",
    "\\begin{eqnarray}\n",
    "m &\\sim& \\mathrm{Uniform}(-5,\\,5) \\\\\n",
    "b &\\sim& \\mathrm{Uniform}(-5,\\,5) \\\\\n",
    "\\log(\\sigma) &\\sim& \\mathrm{Uniform}(-5,\\,5) \\\\\n",
    "y_n &\\sim& \\mathrm{Normal}(m\\,x_n+b,\\,\\sigma)\n",
    "\\end{eqnarray}\n",
    "$$\n",
    "\n",
    "This is the way that a model like this is often defined in statistics and it will be useful when we implement out model in PyMC3 so take a moment to make sure that you understand the notation.\n",
    "\n",
    "Now, let's implement this model in PyMC3.\n",
    "The documentation for the distributions available in PyMC3's modeling language can be [found here](https://docs.pymc.io/api/distributions/continuous.html) and these will come in handy as you go on to write your own models."
   ]
  },
  {
   "cell_type": "code",
   "execution_count": null,
   "metadata": {},
   "outputs": [],
   "source": [
    "import pymc3 as pm\n",
    "\n",
    "with pm.Model() as model:\n",
    "\n",
    "    # Define the priors on each parameter:\n",
    "    m = pm.Uniform(\"m\", lower=-5, upper=5)\n",
    "    b = pm.Uniform(\"b\", lower=-5, upper=5)\n",
    "    logs = pm.Uniform(\"logs\", lower=-5, upper=5)\n",
    "\n",
    "    # Define the likelihood. A few comments:\n",
    "    #  1. For mathematical operations like \"exp\", you can't use\n",
    "    #     numpy. Instead, use the mathematical operations defined\n",
    "    #     in \"pm.math\".\n",
    "    #  2. To condition on data, you use the \"observed\" keyword\n",
    "    #     argument to any distribution. In this case, we want to\n",
    "    #     use the \"Normal\" distribution (look up the docs for\n",
    "    #     this).\n",
    "    pm.Normal(\"obs\", mu=m * x + b, sd=pm.math.exp(logs), observed=y)\n",
    "\n",
    "    # This is how you will sample the model. Take a look at the\n",
    "    # docs to see that other parameters that are available.\n",
    "    trace = pm.sample(draws=1000, tune=1000, chains=2)"
   ]
  },
  {
   "cell_type": "markdown",
   "metadata": {},
   "source": [
    "Now since we now have samples, let's make some diagnostic plots.\n",
    "The first plot to look at is the \"traceplot\" implemented in PyMC3.\n",
    "In this plot, you'll see the marginalized distribution for each parameter on the left and the trace plot (parameter value as a function of step number) on the right.\n",
    "In each panel, you should see two lines with different colors.\n",
    "These are the results of different independent chains and if the results are substantially different in the different chains then there is probably something going wrong."
   ]
  },
  {
   "cell_type": "code",
   "execution_count": null,
   "metadata": {},
   "outputs": [],
   "source": [
    "pm.traceplot(trace, varnames=[\"m\", \"b\", \"logs\"]);"
   ]
  },
  {
   "cell_type": "markdown",
   "metadata": {},
   "source": [
    "It's also good to quantify that \"looking substantially different\" argument.\n",
    "This is implemented in PyMC3 as the \"summary\" function.\n",
    "In this table, some of the key columns to look at are `n_eff` and `Rhat`.\n",
    "* `n_eff` shows an estimate of the number of effective (or independent) samples for that parameter. In this case, `n_eff` should probably be around 500 per chain (there should have been 2 chains run).\n",
    "* `Rhat` shows the [Gelman–Rubin statistic](https://docs.pymc.io/api/diagnostics.html#pymc3.diagnostics.gelman_rubin) and it should be close to 1."
   ]
  },
  {
   "cell_type": "code",
   "execution_count": null,
   "metadata": {},
   "outputs": [],
   "source": [
    "pm.summary(trace, varnames=[\"m\", \"b\", \"logs\"])"
   ]
  },
  {
   "cell_type": "markdown",
   "metadata": {},
   "source": [
    "The last diagnostic plot that we'll make here is the [corner plot made using corner.py](https://corner.readthedocs.io).\n",
    "The easiest way to do this using PyMC3 is to first convert the trace to a [Pandas DataFrame](https://pandas.pydata.org/) and then pass that to `corner.py`."
   ]
  },
  {
   "cell_type": "code",
   "execution_count": null,
   "metadata": {},
   "outputs": [],
   "source": [
    "import corner  # https://corner.readthedocs.io\n",
    "\n",
    "samples = pm.trace_to_dataframe(trace, varnames=[\"m\", \"b\", \"logs\"])\n",
    "corner.corner(samples, truths=[true_m, true_b, true_logs]);"
   ]
  },
  {
   "cell_type": "markdown",
   "metadata": {},
   "source": [
    "**Extra credit:** Here are a few suggestions for things to try out while getting more familiar with PyMC3:\n",
    "\n",
    "1. Try initializing the parameters using the `testval` argument to the distributions. Does this improve performance in this case? It will substantially improve performance in more complicated examples.\n",
    "2. Try changing the priors on the parameters. For example, try the \"uninformative\" prior [recommended by Jake VanderPlas on his blog](http://jakevdp.github.io/blog/2014/06/14/frequentism-and-bayesianism-4-bayesian-in-python/#Prior-on-Slope-and-Intercept).\n",
    "3. What happens as you substantially increase or decrease the simulated noise? Does the performance change significantly? Why?\n",
    "\n",
    "## A more realistic example: radial velocity exoplanets\n",
    "\n",
    "While the above example was cute, it doesn't really fully exploit the power of PyMC3 and it doesn't really show some of the real issues that you will face when you use PyMC3 as an astronomer.\n",
    "To get a better sense of how you might use PyMC3 in Real Life™, let's take a look at a more realistic example: fitting a Keplerian orbit to radial velocity observations.\n",
    "\n",
    "One of the key aspects of this problem that I want to highlight is the fact that PyMC3 (and the underlying model building framework [Theano](http://deeplearning.net/software/theano/)) don't have out-of-the-box support for the root-finding that is required to solve Kepler's equation.\n",
    "As part of the process of computing a Keplerian RV model, we must solve the equation:\n",
    "\n",
    "$$\n",
    "M = E - e\\,\\sin E\n",
    "$$\n",
    "\n",
    "for the eccentric anomaly $E$ given some mean anomaly $M$ and eccentricity $e$.\n",
    "There are commonly accepted methods of solving this equation using [Newton's method](https://en.wikipedia.org/wiki/Newton%27s_method), but if we want to expose that to PyMC3, we have to define a [custom Theano operation](http://deeplearning.net/software/theano/extending/extending_theano.html) with a custom gradient.\n",
    "I won't go into the details of the math (because [I blogged about it](https://dfm.io/posts/stan-c++/)) and I won't go into the details of the implementation (because [you can take a look at it on GitHub](https://github.com/dfm/exoplanet/tree/master/exoplanet/theano_ops/kepler)).\n",
    "So, for this tutorial, we'll use the custom Kepler solver that is implemented as part of *exoplanet* and fit the publicly available radial velocity observations of the famous exoplanetary system 51 Peg using PyMC3.\n",
    "\n",
    "First, we need to download the data from the exoplanet archive:"
   ]
  },
  {
   "cell_type": "code",
   "execution_count": null,
   "metadata": {},
   "outputs": [],
   "source": [
    "import requests\n",
    "import pandas as pd\n",
    "import matplotlib.pyplot as plt\n",
    "\n",
    "# Download the dataset from the Exoplanet Archive:\n",
    "url = \"https://exoplanetarchive.ipac.caltech.edu/data/ExoData/0113/0113357/data/UID_0113357_RVC_001.tbl\"\n",
    "r = requests.get(url)\n",
    "if r.status_code != requests.codes.ok:\n",
    "    r.raise_for_status()\n",
    "data = np.array(\n",
    "    [\n",
    "        l.split()\n",
    "        for l in r.text.splitlines()\n",
    "        if not l.startswith(\"\\\\\") and not l.startswith(\"|\")\n",
    "    ],\n",
    "    dtype=float,\n",
    ")\n",
    "t, rv, rv_err = data.T\n",
    "t -= np.mean(t)\n",
    "\n",
    "# Plot the observations \"folded\" on the published period:\n",
    "# Butler et al. (2006) https://arxiv.org/abs/astro-ph/0607493\n",
    "lit_period = 4.230785\n",
    "plt.errorbar((t % lit_period) / lit_period, rv, yerr=rv_err, fmt=\".k\", capsize=0)\n",
    "plt.xlim(0, 1)\n",
    "plt.ylim(-110, 110)\n",
    "plt.annotate(\n",
    "    \"period = {0:.6f} days\".format(lit_period),\n",
    "    xy=(1, 0),\n",
    "    xycoords=\"axes fraction\",\n",
    "    xytext=(-5, 5),\n",
    "    textcoords=\"offset points\",\n",
    "    ha=\"right\",\n",
    "    va=\"bottom\",\n",
    "    fontsize=12,\n",
    ")\n",
    "plt.ylabel(\"radial velocity [m/s]\")\n",
    "plt.xlabel(\"phase\");"
   ]
  },
  {
   "cell_type": "markdown",
   "metadata": {},
   "source": [
    "Now, here's the implementation of a radial velocity model in PyMC3.\n",
    "Some of this will look familiar after the Hello World example, but things are a bit more complicated now.\n",
    "Take a minute to take a look through this and see if you can follow it.\n",
    "There's a lot going on, so I want to point out a few things to pay attention to:\n",
    "\n",
    "1. All of the mathematical operations (for example `exp` and `sqrt`) are being performed using Theano instead of NumPy.\n",
    "2. All of the parameters have initial guesses provided. This is an example where this makes a big difference because some of the parameters (like period) are very tightly constrained.\n",
    "3. Some of the lines are wrapped in `Deterministic` distributions. This can be useful because it allows us to track values as the chain progresses even if they're not parameters. For example, after sampling, we will have a sample for `bkg` (the background RV trend) for each step in the chain. This can be especially useful for making plots of the results.\n",
    "4. Similarly, at the end of the model definition, we compute the RV curve for a single orbit on a fine grid. This can be very useful for diagnosing fits gone wrong.\n",
    "5. For parameters that specify angles (like $\\omega$, called `w` in the model below), it can be inefficient to sample in the angle directly because of the fact that the value wraps around at $2\\pi$. Instead, it can be better to sample the unit vector specified by the angle. In practice, this can be achieved by sampling a 2-vector from an isotropic Gaussian and normalizing the components by the norm. This is implemented as part of *exoplanet* in the :class:`exoplanet.distributions.Angle` class."
   ]
  },
  {
   "cell_type": "code",
   "execution_count": null,
   "metadata": {},
   "outputs": [],
   "source": [
    "import theano.tensor as tt\n",
    "\n",
    "from exoplanet.orbits import get_true_anomaly\n",
    "from exoplanet.distributions import Angle\n",
    "\n",
    "with pm.Model() as model:\n",
    "\n",
    "    # Parameters\n",
    "    logK = pm.Uniform(\n",
    "        \"logK\",\n",
    "        lower=0,\n",
    "        upper=np.log(200),\n",
    "        testval=np.log(0.5 * (np.max(rv) - np.min(rv))),\n",
    "    )\n",
    "    logP = pm.Uniform(\"logP\", lower=0, upper=np.log(10), testval=np.log(lit_period))\n",
    "    phi = pm.Uniform(\"phi\", lower=0, upper=2 * np.pi, testval=0.1)\n",
    "    e = pm.Uniform(\"e\", lower=0, upper=1, testval=0.1)\n",
    "    w = Angle(\"w\")\n",
    "    logjitter = pm.Uniform(\n",
    "        \"logjitter\", lower=-10, upper=5, testval=np.log(np.mean(rv_err))\n",
    "    )\n",
    "    rv0 = pm.Normal(\"rv0\", mu=0.0, sd=10.0, testval=0.0)\n",
    "    rvtrend = pm.Normal(\"rvtrend\", mu=0.0, sd=10.0, testval=0.0)\n",
    "\n",
    "    # Deterministic transformations\n",
    "    n = 2 * np.pi * tt.exp(-logP)\n",
    "    P = pm.Deterministic(\"P\", tt.exp(logP))\n",
    "    K = pm.Deterministic(\"K\", tt.exp(logK))\n",
    "    cosw = tt.cos(w)\n",
    "    sinw = tt.sin(w)\n",
    "    s2 = tt.exp(2 * logjitter)\n",
    "    t0 = (phi + w) / n\n",
    "\n",
    "    # The RV model\n",
    "    bkg = pm.Deterministic(\"bkg\", rv0 + rvtrend * t / 365.25)\n",
    "    M = n * t - (phi + w)\n",
    "\n",
    "    # This is the line that uses the custom Kepler solver\n",
    "    f = get_true_anomaly(M, e + tt.zeros_like(M))\n",
    "    rvmodel = pm.Deterministic(\n",
    "        \"rvmodel\", bkg + K * (cosw * (tt.cos(f) + e) - sinw * tt.sin(f))\n",
    "    )\n",
    "\n",
    "    # Condition on the observations\n",
    "    err = tt.sqrt(rv_err ** 2 + tt.exp(2 * logjitter))\n",
    "    pm.Normal(\"obs\", mu=rvmodel, sd=err, observed=rv)\n",
    "\n",
    "    # Compute the phased RV signal\n",
    "    phase = np.linspace(0, 1, 500)\n",
    "    M_pred = 2 * np.pi * phase - (phi + w)\n",
    "    f_pred = get_true_anomaly(M_pred, e + tt.zeros_like(M_pred))\n",
    "    rvphase = pm.Deterministic(\n",
    "        \"rvphase\", K * (cosw * (tt.cos(f_pred) + e) - sinw * tt.sin(f_pred))\n",
    "    )"
   ]
  },
  {
   "cell_type": "markdown",
   "metadata": {},
   "source": [
    "In this case, I've found that it is useful to first optimize the parameters to find the \"maximum a posteriori\" (MAP) parameters and then start the sampler from there.\n",
    "This is useful here because MCMC is not designed to *find* the maximum of the posterior; it's just meant to sample the shape of the posterior.\n",
    "The performance of all MCMC methods can be really bad when the initialization isn't good (especially when some parameters are very well constrained).\n",
    "To find the maximum a posteriori parameters using PyMC3, you can use the :func:`exoplanet.optimize` function:"
   ]
  },
  {
   "cell_type": "code",
   "execution_count": null,
   "metadata": {},
   "outputs": [],
   "source": [
    "from exoplanet import optimize\n",
    "\n",
    "with model:\n",
    "    map_params = optimize()"
   ]
  },
  {
   "cell_type": "markdown",
   "metadata": {},
   "source": [
    "Let's make a plot to check that this initialization looks reasonable.\n",
    "In the top plot, we're looking at the RV observations as a function of time with the initial guess for the long-term trend overplotted in blue.\n",
    "In the lower panel, we plot the \"folded\" curve where we have wrapped the observations onto the best-fit period and the prediction for a single overplotted in orange. \n",
    "If this doesn't look good, try adjusting the initial guesses for the parameters and see if you can get a better fit.\n",
    "\n",
    "**Exercise:** Try changing the initial guesses for the parameters (as specified by the `testval` argument) and see how sensitive the results are to these values. Are there some parameters that are less important? Why is this?"
   ]
  },
  {
   "cell_type": "code",
   "execution_count": null,
   "metadata": {},
   "outputs": [],
   "source": [
    "fig, axes = plt.subplots(2, 1, figsize=(8, 8))\n",
    "\n",
    "period = map_params[\"P\"]\n",
    "\n",
    "ax = axes[0]\n",
    "ax.errorbar(t, rv, yerr=rv_err, fmt=\".k\")\n",
    "ax.plot(t, map_params[\"bkg\"], color=\"C0\", lw=1)\n",
    "ax.set_ylim(-110, 110)\n",
    "ax.set_ylabel(\"radial velocity [m/s]\")\n",
    "ax.set_xlabel(\"time [days]\")\n",
    "\n",
    "ax = axes[1]\n",
    "ax.errorbar(t % period, rv - map_params[\"bkg\"], yerr=rv_err, fmt=\".k\")\n",
    "ax.plot(phase * period, map_params[\"rvphase\"], color=\"C1\", lw=1)\n",
    "ax.set_ylim(-110, 110)\n",
    "ax.set_ylabel(\"radial velocity [m/s]\")\n",
    "ax.set_xlabel(\"phase [days]\")\n",
    "\n",
    "plt.tight_layout()"
   ]
  },
  {
   "cell_type": "markdown",
   "metadata": {},
   "source": [
    "Now let's sample the posterior starting from our MAP estimate."
   ]
  },
  {
   "cell_type": "code",
   "execution_count": null,
   "metadata": {},
   "outputs": [],
   "source": [
    "with model:\n",
    "    trace = pm.sample(draws=2000, tune=1000, start=map_params, chains=2)"
   ]
  },
  {
   "cell_type": "markdown",
   "metadata": {},
   "source": [
    "As above, it's always a good idea to take a look at the summary statistics for the chain.\n",
    "If everything went as planned, there should be more than 1000 effective samples per chain and the Rhat values should be close to 1.\n",
    "(Not too bad for less than 30 seconds of run time!)"
   ]
  },
  {
   "cell_type": "code",
   "execution_count": null,
   "metadata": {},
   "outputs": [],
   "source": [
    "pm.summary(\n",
    "    trace, varnames=[\"logK\", \"logP\", \"phi\", \"e\", \"w\", \"logjitter\", \"rv0\", \"rvtrend\"]\n",
    ")"
   ]
  },
  {
   "cell_type": "markdown",
   "metadata": {},
   "source": [
    "Similarly, we can make the corner plot again for this model."
   ]
  },
  {
   "cell_type": "code",
   "execution_count": null,
   "metadata": {},
   "outputs": [],
   "source": [
    "samples = pm.trace_to_dataframe(trace, varnames=[\"K\", \"P\", \"e\", \"w\"])\n",
    "corner.corner(samples);"
   ]
  },
  {
   "cell_type": "markdown",
   "metadata": {},
   "source": [
    "Finally, the last plot that we'll make here is of the posterior predictive density.\n",
    "In this case, this means that we want to look at the distribution of predicted models that are consistent with the data.\n",
    "As above, the top plot shows the raw observations as black error bars and the RV trend model is overplotted in blue.\n",
    "But, this time, the blue line is actually composed of 25 lines that are samples from the posterior over trends that are consistent with the data.\n",
    "In the bottom panel, the orange lines indicate the same 25 posterior samples for the RV curve of one orbit."
   ]
  },
  {
   "cell_type": "code",
   "execution_count": null,
   "metadata": {},
   "outputs": [],
   "source": [
    "fig, axes = plt.subplots(2, 1, figsize=(8, 8))\n",
    "\n",
    "period = map_params[\"P\"]\n",
    "\n",
    "ax = axes[0]\n",
    "ax.errorbar(t, rv, yerr=rv_err, fmt=\".k\")\n",
    "ax.set_ylabel(\"radial velocity [m/s]\")\n",
    "ax.set_xlabel(\"time [days]\")\n",
    "\n",
    "ax = axes[1]\n",
    "ax.errorbar(t % period, rv - map_params[\"bkg\"], yerr=rv_err, fmt=\".k\")\n",
    "ax.set_ylabel(\"radial velocity [m/s]\")\n",
    "ax.set_xlabel(\"phase [days]\")\n",
    "\n",
    "for i in np.random.randint(len(trace) * trace.nchains, size=25):\n",
    "    axes[0].plot(t, trace[\"bkg\"][i], color=\"C0\", lw=1, alpha=0.3)\n",
    "    axes[1].plot(phase * period, trace[\"rvphase\"][i], color=\"C1\", lw=1, alpha=0.3)\n",
    "\n",
    "axes[0].set_ylim(-110, 110)\n",
    "axes[1].set_ylim(-110, 110)\n",
    "\n",
    "plt.tight_layout()"
   ]
  },
  {
   "cell_type": "code",
   "execution_count": null,
   "metadata": {},
   "outputs": [],
   "source": []
  }
 ],
 "metadata": {
  "kernelspec": {
   "display_name": "Python 3",
   "language": "python",
   "name": "python3"
  },
  "language_info": {
   "codemirror_mode": {
    "name": "ipython",
    "version": 3
   },
   "file_extension": ".py",
   "mimetype": "text/x-python",
   "name": "python",
   "nbconvert_exporter": "python",
   "pygments_lexer": "ipython3",
   "version": "3.6.8"
  }
 },
 "nbformat": 4,
 "nbformat_minor": 2
}
