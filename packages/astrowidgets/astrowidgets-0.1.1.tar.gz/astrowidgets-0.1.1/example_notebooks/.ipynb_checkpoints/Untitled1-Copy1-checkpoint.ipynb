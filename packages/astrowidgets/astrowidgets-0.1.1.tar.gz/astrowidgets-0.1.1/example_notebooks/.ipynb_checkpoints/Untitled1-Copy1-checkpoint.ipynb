{
 "cells": [
  {
   "cell_type": "code",
   "execution_count": 1,
   "metadata": {},
   "outputs": [],
   "source": [
    "from astropy.nddata import CCDData\n",
    "from astrowidgets import ImageWidget\n",
    "import ipywidgets as widgets"
   ]
  },
  {
   "cell_type": "code",
   "execution_count": 2,
   "metadata": {},
   "outputs": [
    {
     "data": {
      "application/vnd.jupyter.widget-view+json": {
       "model_id": "372b5c933313441f8c4ee03eb6041c23",
       "version_major": 2,
       "version_minor": 0
      },
      "text/plain": [
       "ImageWidget(children=(Image(value=b'', format='jpeg', height='500', layout=\"Layout(margin='0')\", width='500'),…"
      ]
     },
     "metadata": {},
     "output_type": "display_data"
    }
   ],
   "source": [
    "image = ImageWidget()\n",
    "display(image)"
   ]
  },
  {
   "cell_type": "code",
   "execution_count": 3,
   "metadata": {},
   "outputs": [
    {
     "name": "stderr",
     "output_type": "stream",
     "text": [
      "WARNING: FITSFixedWarning: RADECSYS= 'FK5 ' / Equatorial coordinate system \n",
      "the RADECSYS keyword is deprecated, use RADESYSa. [astropy.wcs.wcs]\n",
      "WARNING: Some non-standard WCS keywords were excluded: A_ORDER, A_0_2, A_1_1, A_2_0, B_ORDER, B_0_2, B_1_1, B_2_0, AP_ORDER, AP_0_0, AP_0_1, AP_0_2, AP_1_0, AP_1_1, AP_2_0, BP_ORDER, BP_0_0, BP_0_1, BP_0_2, BP_1_0, BP_1_1, BP_2_0 Use the ``relax`` kwarg to control this. [astropy.wcs.wcs]\n"
     ]
    }
   ],
   "source": [
    "ccd = CCDData.read('https://zenodo.org/record/3356833/files/kelt-16-b-S001-R001-C084-r.fit.bz2?download=1')\n",
    "image.load_nddata(ccd)"
   ]
  },
  {
   "cell_type": "markdown",
   "metadata": {},
   "source": [
    "### Aside: you can upload data sets to Zenodo"
   ]
  },
  {
   "cell_type": "markdown",
   "metadata": {},
   "source": [
    "## Where is Kelt-16?"
   ]
  },
  {
   "cell_type": "code",
   "execution_count": 4,
   "metadata": {},
   "outputs": [],
   "source": [
    "from astropy.coordinates import SkyCoord\n",
    "image.center_on(SkyCoord.from_name('kelt-16'))"
   ]
  },
  {
   "cell_type": "code",
   "execution_count": 5,
   "metadata": {},
   "outputs": [
    {
     "data": {
      "text/plain": [
       "1"
      ]
     },
     "execution_count": 5,
     "metadata": {},
     "output_type": "execute_result"
    }
   ],
   "source": [
    "image.zoom_level"
   ]
  },
  {
   "cell_type": "code",
   "execution_count": 6,
   "metadata": {},
   "outputs": [],
   "source": [
    "image.zoom_level = 6"
   ]
  },
  {
   "cell_type": "code",
   "execution_count": 7,
   "metadata": {},
   "outputs": [],
   "source": [
    "image.start_marking(marker_name='exoplanets')"
   ]
  },
  {
   "cell_type": "code",
   "execution_count": 8,
   "metadata": {},
   "outputs": [],
   "source": [
    "image.stop_marking()"
   ]
  },
  {
   "cell_type": "code",
   "execution_count": 9,
   "metadata": {},
   "outputs": [
    {
     "data": {
      "text/plain": [
       "{'type': 'circle', 'color': 'cyan', 'radius': 20}"
      ]
     },
     "execution_count": 9,
     "metadata": {},
     "output_type": "execute_result"
    }
   ],
   "source": [
    "image.marker"
   ]
  },
  {
   "cell_type": "code",
   "execution_count": 10,
   "metadata": {},
   "outputs": [],
   "source": [
    "image.marker = {'type': 'cross', 'color': 'red', 'radius': 20}\n",
    "image.start_marking(marker_name='not exoplanets')"
   ]
  },
  {
   "cell_type": "code",
   "execution_count": 11,
   "metadata": {},
   "outputs": [],
   "source": [
    "image.stop_marking()"
   ]
  },
  {
   "cell_type": "markdown",
   "metadata": {},
   "source": [
    "### I am lost in the image, can I zoom to fit? "
   ]
  },
  {
   "cell_type": "code",
   "execution_count": 12,
   "metadata": {},
   "outputs": [],
   "source": [
    "image.zoom_level = 'fit'"
   ]
  },
  {
   "cell_type": "markdown",
   "metadata": {},
   "source": [
    "### What did I mark?"
   ]
  },
  {
   "cell_type": "code",
   "execution_count": 14,
   "metadata": {},
   "outputs": [
    {
     "data": {
      "text/html": [
       "<i>Table length=5</i>\n",
       "<table id=\"table82135467624\" class=\"table-striped table-bordered table-condensed\">\n",
       "<thead><tr><th>x</th><th>y</th><th>marker name</th><th>coord</th></tr></thead>\n",
       "<thead><tr><th></th><th></th><th></th><th>deg,deg</th></tr></thead>\n",
       "<thead><tr><th>float64</th><th>float64</th><th>str14</th><th>object</th></tr></thead>\n",
       "<tr><td>2053.317900670415</td><td>2050.133728682065</td><td>exoplanets</td><td>314.268377790162,31.66109264513685</td></tr>\n",
       "<tr><td>2071.1512340037484</td><td>2016.133728682065</td><td>not exoplanets</td><td>314.27295164047143,31.656522845253424</td></tr>\n",
       "<tr><td>2016.9845673394505</td><td>2099.8003953510192</td><td>not exoplanets</td><td>314.25985257019914,31.66741223087339</td></tr>\n",
       "<tr><td>1990.4845673394505</td><td>2062.1337286843523</td><td>not exoplanets</td><td>314.25663024385335,31.66075023057734</td></tr>\n",
       "<tr><td>2027.4845673394505</td><td>2067.3003953510192</td><td>not exoplanets</td><td>314.26305202127446,31.662817960132042</td></tr>\n",
       "</table>"
      ],
      "text/plain": [
       "<Table length=5>\n",
       "        x                  y          ...                 coord                \n",
       "                                      ...                deg,deg               \n",
       "     float64            float64       ...                 object               \n",
       "------------------ ------------------ ... -------------------------------------\n",
       " 2053.317900670415  2050.133728682065 ...    314.268377790162,31.66109264513685\n",
       "2071.1512340037484  2016.133728682065 ... 314.27295164047143,31.656522845253424\n",
       "2016.9845673394505 2099.8003953510192 ...  314.25985257019914,31.66741223087339\n",
       "1990.4845673394505 2062.1337286843523 ...  314.25663024385335,31.66075023057734\n",
       "2027.4845673394505 2067.3003953510192 ... 314.26305202127446,31.662817960132042"
      ]
     },
     "execution_count": 14,
     "metadata": {},
     "output_type": "execute_result"
    }
   ],
   "source": [
    "image.get_markers(marker_name='all')"
   ]
  },
  {
   "cell_type": "markdown",
   "metadata": {},
   "source": [
    "# How about some controls?\n",
    "\n",
    "## Audience pick, clap when I say your favorite: \n",
    "\n",
    "### Stretch method (linear, log, etc)? 👏\n",
    "### Colormaps (viridis, inferno, etc) 👏"
   ]
  },
  {
   "cell_type": "markdown",
   "metadata": {},
   "source": []
  },
  {
   "cell_type": "markdown",
   "metadata": {},
   "source": []
  },
  {
   "cell_type": "markdown",
   "metadata": {},
   "source": []
  },
  {
   "cell_type": "markdown",
   "metadata": {},
   "source": []
  },
  {
   "cell_type": "markdown",
   "metadata": {},
   "source": []
  },
  {
   "cell_type": "markdown",
   "metadata": {},
   "source": []
  },
  {
   "cell_type": "markdown",
   "metadata": {},
   "source": []
  },
  {
   "cell_type": "markdown",
   "metadata": {},
   "source": []
  },
  {
   "cell_type": "markdown",
   "metadata": {},
   "source": []
  },
  {
   "cell_type": "markdown",
   "metadata": {},
   "source": []
  },
  {
   "cell_type": "markdown",
   "metadata": {},
   "source": []
  },
  {
   "cell_type": "markdown",
   "metadata": {},
   "source": []
  },
  {
   "cell_type": "markdown",
   "metadata": {},
   "source": []
  },
  {
   "cell_type": "markdown",
   "metadata": {},
   "source": [
    "\n",
    "\n",
    "\n",
    "\n",
    "\n",
    "\n",
    "\n",
    "\n"
   ]
  },
  {
   "cell_type": "markdown",
   "metadata": {},
   "source": [
    "## ~One more question: what kind of control?~\n",
    "\n",
    "### Dropdown 👏\n",
    "### Toggle buttons 👏"
   ]
  },
  {
   "cell_type": "code",
   "execution_count": 16,
   "metadata": {},
   "outputs": [
    {
     "data": {
      "application/vnd.jupyter.widget-view+json": {
       "model_id": "1fc6b560a2a4465d8773388d590ae408",
       "version_major": 2,
       "version_minor": 0
      },
      "text/plain": [
       "VBox(children=(ToggleButtons(options=('linear', 'log', 'power', 'sqrt', 'squared', 'asinh', 'sinh', 'histeq'),…"
      ]
     },
     "metadata": {},
     "output_type": "display_data"
    }
   ],
   "source": [
    "stretches = image.stretch_options\n",
    "\n",
    "stretch_buttons = widgets.ToggleButtons(options=stretches,\n",
    "                                        style=widgets.ToggleButtonsStyle(button_width='40px'))\n",
    "\n",
    "def update_stretch(change):\n",
    "    image.stretch = change['new']\n",
    "    \n",
    "stretch_buttons.observe(update_stretch, names='value')\n",
    "\n",
    "stretch_box = widgets.VBox(children=[stretch_buttons, image])\n",
    "stretch_box"
   ]
  },
  {
   "cell_type": "code",
   "execution_count": 17,
   "metadata": {},
   "outputs": [
    {
     "data": {
      "application/vnd.jupyter.widget-view+json": {
       "model_id": "86777231710b439a974f0431ddabccd9",
       "version_major": 2,
       "version_minor": 0
      },
      "text/plain": [
       "VBox(children=(Dropdown(options=('Accent', 'Accent_r', 'afmhot', 'afmhot_r', 'aips0', 'autumn', 'autumn_r', 'b…"
      ]
     },
     "metadata": {},
     "output_type": "display_data"
    }
   ],
   "source": [
    "maps = image.colormap_options\n",
    "\n",
    "choose_map = widgets.Dropdown(options=maps)\n",
    "\n",
    "def update_colormap(change):\n",
    "    image.set_colormap(change['new'])\n",
    "    \n",
    "choose_map.observe(update_colormap, names='value')\n",
    "\n",
    "color_box = widgets.VBox(children=[choose_map, image])\n",
    "color_box"
   ]
  },
  {
   "cell_type": "markdown",
   "metadata": {},
   "source": [
    "## Can I have both?"
   ]
  },
  {
   "cell_type": "code",
   "execution_count": 18,
   "metadata": {},
   "outputs": [
    {
     "data": {
      "application/vnd.jupyter.widget-view+json": {
       "model_id": "a78319779540470a81efc05b7f97e55f",
       "version_major": 2,
       "version_minor": 0
      },
      "text/plain": [
       "VBox(children=(ToggleButtons(options=('linear', 'log', 'power', 'sqrt', 'squared', 'asinh', 'sinh', 'histeq'),…"
      ]
     },
     "metadata": {},
     "output_type": "display_data"
    }
   ],
   "source": [
    "all_box = widgets.VBox(children=[stretch_buttons, choose_map, image])\n",
    "all_box"
   ]
  },
  {
   "cell_type": "code",
   "execution_count": null,
   "metadata": {},
   "outputs": [],
   "source": []
  }
 ],
 "metadata": {
  "kernelspec": {
   "display_name": "Python 3",
   "language": "python",
   "name": "python3"
  },
  "language_info": {
   "codemirror_mode": {
    "name": "ipython",
    "version": 3
   },
   "file_extension": ".py",
   "mimetype": "text/x-python",
   "name": "python",
   "nbconvert_exporter": "python",
   "pygments_lexer": "ipython3",
   "version": "3.6.7"
  }
 },
 "nbformat": 4,
 "nbformat_minor": 4
}
