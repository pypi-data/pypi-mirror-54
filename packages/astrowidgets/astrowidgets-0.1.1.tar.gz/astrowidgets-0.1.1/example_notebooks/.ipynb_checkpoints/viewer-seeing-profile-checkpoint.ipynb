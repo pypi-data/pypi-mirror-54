{
 "cells": [
  {
   "cell_type": "markdown",
   "metadata": {},
   "source": [
    "# Run all cells in this notebook\n",
    "\n",
    "Once they run, follow the instructions near the bottom for using the viewer/setting the image that is loaded"
   ]
  },
  {
   "cell_type": "code",
   "execution_count": 1,
   "metadata": {},
   "outputs": [
    {
     "name": "stderr",
     "output_type": "stream",
     "text": [
      "WARNING: AstropyDeprecationWarning: Composition of model classes will be removed in 4.0 (but composition of model instances is not affected) [astropy.modeling.core]\n",
      "WARNING: AstropyDeprecationWarning: astropy.extern.six will be removed in 4.0, use the six module directly if it is still needed [astropy.extern.six]\n"
     ]
    }
   ],
   "source": [
    "import numpy as np\n",
    "from astrowidgets import ImageWidget\n",
    "from photutils import centroid_com\n",
    "import ipywidgets as ipw\n",
    "from astropy.stats import sigma_clipped_stats\n",
    "from astropy.table import Table\n",
    "%matplotlib inline\n",
    "import matplotlib.pyplot as plt\n",
    "from notebook_functions import *"
   ]
  },
  {
   "cell_type": "code",
   "execution_count": 2,
   "metadata": {},
   "outputs": [],
   "source": [
    "iw = ImageWidget(image_width=500, image_height=500, use_opencv=True)"
   ]
  },
  {
   "cell_type": "code",
   "execution_count": 3,
   "metadata": {},
   "outputs": [
    {
     "name": "stderr",
     "output_type": "stream",
     "text": [
      "WARNING: FITSFixedWarning: RADECSYS= 'FK5 ' \n",
      "the RADECSYS keyword is deprecated, use RADESYSa. [astropy.wcs.wcs]\n"
     ]
    },
    {
     "data": {
      "application/vnd.jupyter.widget-view+json": {
       "model_id": "3707cbc6893c4ea39765856c88d6b944",
       "version_major": 2,
       "version_minor": 0
      },
      "text/plain": [
       "ImageWidget(children=(Image(value=b'\\xff\\xd8\\xff\\xe0\\x00\\x10JFIF\\x00\\x01\\x01\\x00\\x00\\x01\\x00\\x01\\x00\\x00\\xff\\x…"
      ]
     },
     "metadata": {},
     "output_type": "display_data"
    }
   ],
   "source": [
    "iw.load_fits('/Users/mcraig/Documents/Research/ccd-reduction-photometry/notebooks/2018-07-23/kelt-16-S001-R001-C052-r.fit')\n",
    "iw"
   ]
  },
  {
   "cell_type": "code",
   "execution_count": 4,
   "metadata": {},
   "outputs": [
    {
     "data": {
      "text/plain": [
       "{'divide': 'ignore', 'over': 'ignore', 'under': 'ignore', 'invalid': 'ignore'}"
      ]
     },
     "execution_count": 4,
     "metadata": {},
     "output_type": "execute_result"
    }
   ],
   "source": [
    "np.seterr(all='ignore')"
   ]
  },
  {
   "cell_type": "code",
   "execution_count": null,
   "metadata": {},
   "outputs": [],
   "source": [
    "def show_event(viewer, event, datax, datay):\n",
    "    \n",
    "    i = viewer._viewer.get_image()\n",
    "    data = i.get_data()\n",
    "    pad = 15\n",
    "    x = int(np.floor(event.data_x))\n",
    "    y = int(np.floor(event.data_y))\n",
    "    cnt = 0\n",
    "    sub_data = data[y - pad:y + pad, x - pad:x + pad] #- med\n",
    "    _, sub_med, _ = sigma_clipped_stats(sub_data)\n",
    "    #sub_med = 0\n",
    "    foo, moo = centroid_com(sub_data - sub_med)\n",
    "    cenx = foo + x - pad\n",
    "    ceny = moo + y - pad\n",
    "    cen = np.array([foo + x - pad, moo + y - pad])\n",
    "    ceno = np.array([-100, -100])\n",
    "    while cnt <= 10 and (np.abs(np.array([foo, moo]) - pad).max() >3 or np.abs(cen - ceno).max() > 0.1):\n",
    "       # print(cnt, foo, moo)\n",
    "        x = int(np.floor(foo)) + x - pad\n",
    "        y = int(np.floor(moo)) + y - pad\n",
    "        sub_data = data[y - pad:y + pad, x - pad:x + pad] #- med\n",
    "        _, sub_med, _ = sigma_clipped_stats(sub_data)\n",
    "        #sub_med = 0\n",
    "        mask = (sub_data - sub_med) < 0\n",
    "        foo, moo = centroid_com(sub_data - sub_med, mask=mask)\n",
    "        ceno = cen\n",
    "        cen = np.array([foo + x - pad, moo + y - pad])\n",
    "#             print(cen)\n",
    "#             print(cen - ceno)\n",
    "        cnt += 1\n",
    "\n",
    "    viewer.add_markers(Table(data=[[cen[0]], [cen[1]]], names=['x', 'y']))\n",
    "    #print(foo, moo)\n",
    "    yd, xd = np.indices((sub_data.shape))\n",
    "    r = np.sqrt((xd - foo)**2 + (yd - moo)**2)\n",
    "    r_exact = r.copy()\n",
    "    r = r.astype(np.int)\n",
    "    tbin = np.bincount(r.ravel(), sub_data.ravel())\n",
    "    rbin = np.bincount(r.ravel(), r_exact.ravel())\n",
    "    nr = np.bincount(r.ravel())\n",
    "    radialprofile = tbin / nr\n",
    "    ravg = rbin / nr\n",
    "    adjust_max = radialprofile.max() - sub_med\n",
    "    scaled_profile = (radialprofile - sub_med) / adjust_max\n",
    "    scaled_exact_counts = (sub_data - sub_med) / adjust_max\n",
    "    out.clear_output(wait=True)\n",
    "    with out:\n",
    "       # print(dir(event))\n",
    "        #print(event.data_x, event.data_y)\n",
    "        plt.clf()\n",
    "        #sub_med += med\n",
    "        seeing_plot(r_exact, scaled_exact_counts, ravg, scaled_profile, 4.5,\n",
    "                'Some Image Name', file_name='some_name', gap=6, annulus_width=13)\n",
    "        plt.show()\n",
    "    out2.clear_output(wait=True)\n",
    "    with out2:\n",
    "        tbin2 = np.bincount(r.ravel(), (sub_data - sub_med).ravel())\n",
    "        counts = np.cumsum(tbin2)\n",
    "        mag_diff = -2.5 * np.log10(counts/counts.max())\n",
    "        plt.plot(range(len(radialprofile)), counts)\n",
    "        plt.xlim(0, 20)\n",
    "        #plt.ylim(0.2, 0)\n",
    "        plt.grid()\n",
    "        sub_blot = sub_data.copy()\n",
    "        sub_blot[10:30, 10:30] = np.nan\n",
    "        sub_std = np.nanstd(sub_blot)\n",
    "        plt.title('Net counts in aperture std {:.2f} med {:.2f}'.format(sub_std, sub_med))\n",
    "        sub_pois = (sub_data - sub_med)\n",
    "        e_sky = np.sqrt(sub_med)\n",
    "        rn = 10\n",
    "        sub_noise_sq = np.sqrt(sub_pois ** 2 + sub_std ** 2) ** 2\n",
    "        nbin = np.sqrt(np.bincount(r.ravel(), (sub_noise_sq).ravel()))\n",
    "        plt.xlabel('Aperture radius')\n",
    "        plt.show()\n",
    "    out3.clear_output(wait=True)\n",
    "    with out3:\n",
    "        poisson = np.sqrt(np.cumsum(tbin2))\n",
    "        error = np.sqrt(poisson ** 2 + np.cumsum(nr) * (e_sky ** 2 + rn ** 2))\n",
    "        snr = np.cumsum(tbin2) / error\n",
    "        snr_max = snr[:20].max()\n",
    "        plt.plot(range(len(radialprofile)), snr)\n",
    "        plt.title('Signal to noise ratio {}'.format(snr.max()))\n",
    "        plt.xlim(0, 20)\n",
    "        #plt.ylim(0, 2)\n",
    "        plt.xlabel('Aperture radius')\n",
    "        plt.grid()\n",
    "        plt.show()"
   ]
  },
  {
   "cell_type": "code",
   "execution_count": 5,
   "metadata": {},
   "outputs": [],
   "source": [
    "big_box = box(iw)\n",
    "build(iw)\n",
    "bind_map = iw._viewer.get_bindmap()\n",
    "\n",
    "# Displays the event map...\n",
    "#bind_map.eventmap\n",
    "\n",
    "\n",
    "gvc = iw._viewer.get_canvas()\n",
    "#gvc.add_callback('ms_left-my_custom_event-down', show_event)\n",
    "#bind_map.map_event(None, ('shift',), 'ms_left', 'cursor')\n",
    "gvc.add_callback('cursor-down', make_show_event(iw))"
   ]
  },
  {
   "cell_type": "code",
   "execution_count": null,
   "metadata": {},
   "outputs": [],
   "source": [
    "bind_map.eventmap"
   ]
  },
  {
   "cell_type": "markdown",
   "metadata": {},
   "source": [
    "## The cell below displays the viewer\n",
    "\n",
    "### Left-click and drag to pan\n",
    "### Scroll or use the +/- keys to zoom in/out\n",
    "### Ctrl-left-click to display seeing profiles for stars"
   ]
  },
  {
   "cell_type": "code",
   "execution_count": 6,
   "metadata": {},
   "outputs": [
    {
     "data": {
      "application/vnd.jupyter.widget-view+json": {
       "model_id": "f4abade7adc44106914548f00bb28f1e",
       "version_major": 2,
       "version_minor": 0
      },
      "text/plain": [
       "HBox(children=(ImageWidget(children=(Image(value=b'\\xff\\xd8\\xff\\xe0\\x00\\x10JFIF\\x00\\x01\\x01\\x00\\x00\\x01\\x00\\x0…"
      ]
     },
     "metadata": {},
     "output_type": "display_data"
    }
   ],
   "source": [
    "big_box"
   ]
  },
  {
   "cell_type": "markdown",
   "metadata": {},
   "source": [
    "## Run cell below to load/change image"
   ]
  },
  {
   "cell_type": "code",
   "execution_count": null,
   "metadata": {},
   "outputs": [],
   "source": [
    "iw.load_fits('/Volumes/My Passport for Mac/Strong 2019/all-18-7-23/2018-07-23-reduced/kelt-16-S001-R001-C052-r.fit')"
   ]
  },
  {
   "cell_type": "code",
   "execution_count": null,
   "metadata": {},
   "outputs": [],
   "source": [
    "from astrowidgets import __version__\n",
    "print (__version__)"
   ]
  },
  {
   "cell_type": "code",
   "execution_count": null,
   "metadata": {},
   "outputs": [],
   "source": []
  }
 ],
 "metadata": {
  "kernelspec": {
   "display_name": "Python 3",
   "language": "python",
   "name": "python3"
  },
  "language_info": {
   "codemirror_mode": {
    "name": "ipython",
    "version": 3
   },
   "file_extension": ".py",
   "mimetype": "text/x-python",
   "name": "python",
   "nbconvert_exporter": "python",
   "pygments_lexer": "ipython3",
   "version": "3.7.3"
  }
 },
 "nbformat": 4,
 "nbformat_minor": 4
}
