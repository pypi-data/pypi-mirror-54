{
 "cells": [
  {
   "cell_type": "code",
   "execution_count": 1,
   "metadata": {},
   "outputs": [],
   "source": [
    "import ipywidgets as widgets\n",
    "from astrowidgets import ImageWidget\n",
    "from astropy.nddata import CCDData"
   ]
  },
  {
   "cell_type": "code",
   "execution_count": 2,
   "metadata": {},
   "outputs": [
    {
     "name": "stderr",
     "output_type": "stream",
     "text": [
      "WARNING: FITSFixedWarning: RADECSYS= 'FK5 ' / Equatorial coordinate system \n",
      "the RADECSYS keyword is deprecated, use RADESYSa. [astropy.wcs.wcs]\n"
     ]
    }
   ],
   "source": [
    "f1 = '/Users/mcraig/Documents/Research/find-file-links-ccd-redu-phot/ccd-reduction-and-photometry-guide/notebooks/example-thermo-electric/kelt-16-b-S001-R001-C084-r.fit'\n",
    "ccd1 = CCDData.read(f1)\n",
    "f2 = '/Users/mcraig/Documents/Research/find-file-links-ccd-redu-phot/ccd-reduction-and-photometry-guide/notebooks/example-thermo-electric/kelt-16-b-S001-R001-C125-r.fit'\n",
    "ccd2 = CCDData.read(f2)                "
   ]
  },
  {
   "cell_type": "code",
   "execution_count": 3,
   "metadata": {},
   "outputs": [
    {
     "data": {
      "application/vnd.jupyter.widget-view+json": {
       "model_id": "0fcc01a716644e28b892e6bf62aeeac3",
       "version_major": 2,
       "version_minor": 0
      },
      "text/plain": [
       "VBox(children=(ToggleButton(value=False, description='Blink'), ImageWidget(children=(Image(value=b'', format='…"
      ]
     },
     "metadata": {},
     "output_type": "display_data"
    }
   ],
   "source": [
    "iw = ImageWidget()\n",
    "blinker = widgets.ToggleButton(description='Blink')\n",
    "\n",
    "vb = widgets.VBox(children=[blinker, iw])\n",
    "vb"
   ]
  },
  {
   "cell_type": "code",
   "execution_count": 4,
   "metadata": {},
   "outputs": [
    {
     "name": "stderr",
     "output_type": "stream",
     "text": [
      "/Users/mcraig/conda-main/envs/awid-dev/lib/python3.6/site-packages/ginga/AstroImage.py:183: FutureWarning: Using a non-tuple sequence for multidimensional indexing is deprecated; use `arr[tuple(seq)]` instead of `arr[seq]`. In the future this will be interpreted as an array index, `arr[np.array(seq)]`, which will result either in an error or a different result.\n",
      "  data = self.get_mddata()[view]\n",
      "WARNING: FITSFixedWarning: RADECSYS= 'FK5 ' \n",
      "the RADECSYS keyword is deprecated, use RADESYSa. [astropy.wcs.wcs]\n"
     ]
    }
   ],
   "source": [
    "iw.load_fits(f1)"
   ]
  },
  {
   "cell_type": "code",
   "execution_count": 5,
   "metadata": {},
   "outputs": [],
   "source": [
    "def handle_blink_file(change):\n",
    "    if change['new']:\n",
    "        iw.load_fits(f2)\n",
    "    else:\n",
    "        iw.load_fits(f1)\n",
    "        \n",
    "blinker.observe(handle_blink_file, names='value')"
   ]
  },
  {
   "cell_type": "code",
   "execution_count": null,
   "metadata": {},
   "outputs": [],
   "source": [
    "iw.load_nddata(ccd1)"
   ]
  },
  {
   "cell_type": "code",
   "execution_count": null,
   "metadata": {},
   "outputs": [],
   "source": [
    "def handle_blink_memory(change):\n",
    "    if change['new']:\n",
    "        iw.load_nddata(ccd2)\n",
    "    else:\n",
    "        iw.load_nddata(ccd1)\n",
    "        \n",
    "blinker.observe(handle_blink_memory, names='value')"
   ]
  },
  {
   "cell_type": "code",
   "execution_count": null,
   "metadata": {},
   "outputs": [],
   "source": [
    "from skimage.filters import median"
   ]
  },
  {
   "cell_type": "code",
   "execution_count": null,
   "metadata": {},
   "outputs": [],
   "source": [
    "median(ccd1.data)"
   ]
  },
  {
   "cell_type": "code",
   "execution_count": null,
   "metadata": {},
   "outputs": [],
   "source": [
    "player = widgets.Play()\n",
    "player"
   ]
  },
  {
   "cell_type": "code",
   "execution_count": 6,
   "metadata": {},
   "outputs": [],
   "source": [
    "images = [\n",
    "    '/Users/mcraig/Downloads/2018-08-22/wasp-10-b-S001-R001-C006-r.fit',\n",
    "    '/Users/mcraig/Downloads/2018-08-22/wasp-10-b-S001-R001-C014-r.fit',\n",
    "    '/Users/mcraig/Downloads/2018-08-22/wasp-10-b-S001-R001-C028-r.fit',\n",
    "    '/Users/mcraig/Downloads/2018-08-22/wasp-10-b-S001-R001-C040-r.fit',\n",
    "    '/Users/mcraig/Downloads/2018-08-22/wasp-10-b-S001-R001-C053-r.fit'\n",
    "]"
   ]
  },
  {
   "cell_type": "code",
   "execution_count": 7,
   "metadata": {},
   "outputs": [
    {
     "data": {
      "application/vnd.jupyter.widget-view+json": {
       "model_id": "d3282bc8a1fa414a8c2912ca890ffa78",
       "version_major": 2,
       "version_minor": 0
      },
      "text/plain": [
       "VBox(children=(ToggleButtons(options=(0, 1, 2, 3, 4), style=ToggleButtonsStyle(button_width='10px'), value=0),…"
      ]
     },
     "metadata": {},
     "output_type": "display_data"
    }
   ],
   "source": [
    "toggles = widgets.ToggleButtons(options=range(len(images)),\n",
    "                                style=widgets.ToggleButtonsStyle(button_width='10px'))\n",
    "\n",
    "iw2 = ImageWidget()\n",
    "iw2.load_fits(images[0])\n",
    "\n",
    "def update_displayed_image(change):\n",
    "    zoom = iw2.zoom_level\n",
    "    center = iw2._viewer.get_pan()\n",
    "    iw2._viewer.enable_autozoom('off')\n",
    "    iw2._viewer.enable_autocenter('off')\n",
    "    iw2.load_fits(images[change['new']])\n",
    "    # iw2.zoom_level = zoom\n",
    "    # iw2.center_on(center)\n",
    "    \n",
    "toggles.observe(update_displayed_image, names='value')\n",
    "\n",
    "moops = widgets.VBox(children=[toggles, iw2])\n",
    "moops"
   ]
  },
  {
   "cell_type": "code",
   "execution_count": null,
   "metadata": {},
   "outputs": [],
   "source": [
    "iw2.zoom_level"
   ]
  },
  {
   "cell_type": "code",
   "execution_count": null,
   "metadata": {},
   "outputs": [],
   "source": [
    "gv = iw2._viewer"
   ]
  },
  {
   "cell_type": "code",
   "execution_count": null,
   "metadata": {},
   "outputs": [],
   "source": [
    "gv.get_pan()"
   ]
  },
  {
   "cell_type": "code",
   "execution_count": null,
   "metadata": {},
   "outputs": [],
   "source": [
    "gv.enable_autocenter()"
   ]
  },
  {
   "cell_type": "code",
   "execution_count": 8,
   "metadata": {},
   "outputs": [
    {
     "name": "stderr",
     "output_type": "stream",
     "text": [
      "WARNING: AstropyDeprecationWarning: astropy.extern.six will be removed in 4.0, use the six module directly if it is still needed [astropy.extern.six]\n"
     ]
    }
   ],
   "source": [
    "import reproject"
   ]
  },
  {
   "cell_type": "code",
   "execution_count": 9,
   "metadata": {},
   "outputs": [
    {
     "name": "stderr",
     "output_type": "stream",
     "text": [
      "WARNING: FITSFixedWarning: RADECSYS= 'FK5 ' / Equatorial coordinate system \n",
      "the RADECSYS keyword is deprecated, use RADESYSa. [astropy.wcs.wcs]\n"
     ]
    }
   ],
   "source": [
    "ccd_ref = CCDData.read(images[0])"
   ]
  },
  {
   "cell_type": "code",
   "execution_count": 15,
   "metadata": {},
   "outputs": [
    {
     "name": "stdout",
     "output_type": "stream",
     "text": [
      "CPU times: user 1min 14s, sys: 19.5 s, total: 1min 34s\n",
      "Wall time: 1min 34s\n"
     ]
    }
   ],
   "source": [
    "%%time\n",
    "\n",
    "reprojs = [reproject.reproject_interp(i, ccd_ref.to_hdu()[0].header, order='nearest-neighbor') for i in images]"
   ]
  },
  {
   "cell_type": "code",
   "execution_count": null,
   "metadata": {},
   "outputs": [],
   "source": [
    "foo = reproject.reproject_interp(images[-1], ccd_ref.to_hdu()[0].header, order='nearest-neighbor')"
   ]
  },
  {
   "cell_type": "code",
   "execution_count": 14,
   "metadata": {},
   "outputs": [
    {
     "data": {
      "text/plain": [
       "(array([[  nan,   nan,   nan, ...,   nan,   nan,   nan],\n",
       "        [  nan,   nan,   nan, ...,   nan,   nan,   nan],\n",
       "        [  nan,   nan,   nan, ...,   nan,   nan,   nan],\n",
       "        ...,\n",
       "        [1162., 1169., 1175., ...,   nan,   nan,   nan],\n",
       "        [1154., 1175., 1166., ...,   nan,   nan,   nan],\n",
       "        [1155., 1157., 1189., ...,   nan,   nan,   nan]]),\n",
       " array([[0., 0., 0., ..., 0., 0., 0.],\n",
       "        [0., 0., 0., ..., 0., 0., 0.],\n",
       "        [0., 0., 0., ..., 0., 0., 0.],\n",
       "        ...,\n",
       "        [1., 1., 1., ..., 0., 0., 0.],\n",
       "        [1., 1., 1., ..., 0., 0., 0.],\n",
       "        [1., 1., 1., ..., 0., 0., 0.]]))"
      ]
     },
     "execution_count": 14,
     "metadata": {},
     "output_type": "execute_result"
    }
   ],
   "source": [
    "foo"
   ]
  },
  {
   "cell_type": "code",
   "execution_count": null,
   "metadata": {},
   "outputs": [],
   "source": [
    "def ccd_from_stuff(data, header, wcs):\n",
    "    return CCDData(data=data, header=header, wcs=wcs)\n",
    "\n",
    "ccds = "
   ]
  },
  {
   "cell_type": "code",
   "execution_count": null,
   "metadata": {},
   "outputs": [],
   "source": [
    "toggles3 = widgets.ToggleButtons(options=range(len(images)),\n",
    "                                style=widgets.ToggleButtonsStyle(button_width='10px'))\n",
    "\n",
    "iw3 = ImageWidget()\n",
    "iw3.load_fits(images[0])\n",
    "\n",
    "def update_displayed_image(change):\n",
    "#     zoom = iw2.zoom_level\n",
    "#     center = iw2._viewer.get_pan()\n",
    "    iw3._viewer.enable_autozoom('off')\n",
    "    iw3._viewer.enable_autocenter('off')\n",
    "    iw3.load_fits(images[change['new']])\n",
    "    # iw2.zoom_level = zoom\n",
    "    # iw2.center_on(center)\n",
    "    \n",
    "toggles3.observe(update_displayed_image, names='value')\n",
    "\n",
    "moops = widgets.VBox(children=[toggles3, iw3a])\n",
    "moops"
   ]
  }
 ],
 "metadata": {
  "kernelspec": {
   "display_name": "Python 3",
   "language": "python",
   "name": "python3"
  },
  "language_info": {
   "codemirror_mode": {
    "name": "ipython",
    "version": 3
   },
   "file_extension": ".py",
   "mimetype": "text/x-python",
   "name": "python",
   "nbconvert_exporter": "python",
   "pygments_lexer": "ipython3",
   "version": "3.6.7"
  }
 },
 "nbformat": 4,
 "nbformat_minor": 4
}
