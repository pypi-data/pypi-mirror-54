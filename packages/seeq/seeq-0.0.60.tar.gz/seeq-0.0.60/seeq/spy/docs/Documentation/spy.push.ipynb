{
 "cells": [
  {
   "cell_type": "code",
   "execution_count": 1,
   "metadata": {},
   "outputs": [],
   "source": [
    "from seeq import spy\n",
    "import pandas as pd"
   ]
  },
  {
   "cell_type": "markdown",
   "metadata": {},
   "source": [
    "# spy.push\n",
    "\n",
    "Uploads signals, conditions, scalars, and assets to the Seeq Server.\n",
    "\n",
    "There are two main types of information processed by Seeq: _Data_ and _metadata_:\n",
    "\n",
    "- **Data** is the time series and time interval information that is either collected or derived from sensor data. It consists of timestamps and values (samples), or time intervals and properties (capsules). This data can be plotted on a trend or used to train a neural network, for example.\n",
    "\n",
    "- **Metadata** is the information about the data, that is independent of a particular point in time or time interval. For example, a signal's _name_, _description_ and _unit of measure_ is classified as metadata; or the formula that is used to derive a new signal from one or more source signals; or the asset tree that is used to model similar equipment or industrial processes.\n",
    "\n",
    "The `spy.push()` command allows you to upload both types of information to Seeq Server. When you push _metadata_, you make entries in Seeq's data index, which allows you or other users to search for and find such entries. If you also push _data_, then samples or capsules or scalars will appear when the user selects those index entries for inclusion on a trend, scatter plot, scorecard or other visualization."
   ]
  },
  {
   "cell_type": "markdown",
   "metadata": {},
   "source": [
    "```\n",
    "spy.push(data=None, metadata=None, item_type=None, workbook='Data Lab >> Data Lab Analysis',\n",
    "         worksheet='From Data Lab', datasource=None, archive=False, type_mismatches='raise', errors='catalog')\n",
    "```"
   ]
  },
  {
   "cell_type": "markdown",
   "metadata": {},
   "source": [
    "Log into Seeq Server if you're not using Seeq Data Lab:"
   ]
  },
  {
   "cell_type": "code",
   "execution_count": 2,
   "metadata": {},
   "outputs": [
    {
     "data": {
      "text/html": [
       "<div style=\"background-color: #EEFFEE;text-align: left;\">Logged in to <strong>http://localhost:34216/api</strong> successfully as <strong>mark.derbecker@seeq.com (Mark Derbecker [Admin])</strong></div>"
      ],
      "text/plain": [
       "<IPython.core.display.HTML object>"
      ]
     },
     "metadata": {},
     "output_type": "display_data"
    }
   ],
   "source": [
    "spy.login(url='http://localhost:34216', credentials_file='../credentials.key')"
   ]
  },
  {
   "cell_type": "markdown",
   "metadata": {},
   "source": [
    "## Workbook scoping\n",
    "\n",
    "When you push any type of data, it is only available/discoverable within the workbook specified by the `workbook` argument. This allows you to _sandbox_ your activity by default, and only publish to your colleagues later when your experimentation is largely over."
   ]
  },
  {
   "cell_type": "markdown",
   "metadata": {},
   "source": [
    "## Pushing signal data\n",
    "\n",
    "The simplest activity you can do with the `spy.push()` command is to read in a CSV file using Pandas and push it into Seeq. It will be stored in Seeq's internal time series database."
   ]
  },
  {
   "cell_type": "code",
   "execution_count": 3,
   "metadata": {},
   "outputs": [
    {
     "data": {
      "text/html": [
       "<div>\n",
       "<style scoped>\n",
       "    .dataframe tbody tr th:only-of-type {\n",
       "        vertical-align: middle;\n",
       "    }\n",
       "\n",
       "    .dataframe tbody tr th {\n",
       "        vertical-align: top;\n",
       "    }\n",
       "\n",
       "    .dataframe thead th {\n",
       "        text-align: right;\n",
       "    }\n",
       "</style>\n",
       "<table border=\"1\" class=\"dataframe\">\n",
       "  <thead>\n",
       "    <tr style=\"text-align: right;\">\n",
       "      <th></th>\n",
       "      <th>BITDEP(ft)</th>\n",
       "      <th>BLOCKCOMP(ft)</th>\n",
       "      <th>DEP_RTN(ft)</th>\n",
       "      <th>DEPTH(ft)</th>\n",
       "      <th>FLOWIN(USgal/min)</th>\n",
       "      <th>FLOWOUTPC(%)</th>\n",
       "      <th>ROP_AVG(ft/h)</th>\n",
       "      <th>DIFP(psi)</th>\n",
       "    </tr>\n",
       "    <tr>\n",
       "      <th>TIME(unitless)</th>\n",
       "      <th></th>\n",
       "      <th></th>\n",
       "      <th></th>\n",
       "      <th></th>\n",
       "      <th></th>\n",
       "      <th></th>\n",
       "      <th></th>\n",
       "      <th></th>\n",
       "    </tr>\n",
       "  </thead>\n",
       "  <tbody>\n",
       "    <tr>\n",
       "      <th>2018-07-25 23:00:01-06:00</th>\n",
       "      <td>4630.217</td>\n",
       "      <td>74.813</td>\n",
       "      <td>4627.0</td>\n",
       "      <td>4630.217</td>\n",
       "      <td>799.857</td>\n",
       "      <td>40.799</td>\n",
       "      <td>142.698</td>\n",
       "      <td>454.214</td>\n",
       "    </tr>\n",
       "    <tr>\n",
       "      <th>2018-07-25 23:00:03-06:00</th>\n",
       "      <td>4630.354</td>\n",
       "      <td>74.735</td>\n",
       "      <td>4627.5</td>\n",
       "      <td>4630.354</td>\n",
       "      <td>799.857</td>\n",
       "      <td>40.576</td>\n",
       "      <td>142.698</td>\n",
       "      <td>481.383</td>\n",
       "    </tr>\n",
       "    <tr>\n",
       "      <th>2018-07-25 23:00:05-06:00</th>\n",
       "      <td>4630.470</td>\n",
       "      <td>74.619</td>\n",
       "      <td>4627.5</td>\n",
       "      <td>4630.470</td>\n",
       "      <td>799.857</td>\n",
       "      <td>39.929</td>\n",
       "      <td>142.698</td>\n",
       "      <td>487.502</td>\n",
       "    </tr>\n",
       "    <tr>\n",
       "      <th>2018-07-25 23:00:07-06:00</th>\n",
       "      <td>4630.588</td>\n",
       "      <td>74.501</td>\n",
       "      <td>4627.5</td>\n",
       "      <td>4630.588</td>\n",
       "      <td>799.857</td>\n",
       "      <td>40.305</td>\n",
       "      <td>210.705</td>\n",
       "      <td>561.480</td>\n",
       "    </tr>\n",
       "    <tr>\n",
       "      <th>2018-07-25 23:00:09-06:00</th>\n",
       "      <td>4630.699</td>\n",
       "      <td>74.390</td>\n",
       "      <td>4627.5</td>\n",
       "      <td>4630.699</td>\n",
       "      <td>799.292</td>\n",
       "      <td>40.245</td>\n",
       "      <td>210.705</td>\n",
       "      <td>610.968</td>\n",
       "    </tr>\n",
       "  </tbody>\n",
       "</table>\n",
       "</div>"
      ],
      "text/plain": [
       "                           BITDEP(ft)  BLOCKCOMP(ft)  DEP_RTN(ft)  DEPTH(ft)  \\\n",
       "TIME(unitless)                                                                 \n",
       "2018-07-25 23:00:01-06:00    4630.217         74.813       4627.0   4630.217   \n",
       "2018-07-25 23:00:03-06:00    4630.354         74.735       4627.5   4630.354   \n",
       "2018-07-25 23:00:05-06:00    4630.470         74.619       4627.5   4630.470   \n",
       "2018-07-25 23:00:07-06:00    4630.588         74.501       4627.5   4630.588   \n",
       "2018-07-25 23:00:09-06:00    4630.699         74.390       4627.5   4630.699   \n",
       "\n",
       "                           FLOWIN(USgal/min)  FLOWOUTPC(%)  ROP_AVG(ft/h)  \\\n",
       "TIME(unitless)                                                              \n",
       "2018-07-25 23:00:01-06:00            799.857        40.799        142.698   \n",
       "2018-07-25 23:00:03-06:00            799.857        40.576        142.698   \n",
       "2018-07-25 23:00:05-06:00            799.857        39.929        142.698   \n",
       "2018-07-25 23:00:07-06:00            799.857        40.305        210.705   \n",
       "2018-07-25 23:00:09-06:00            799.292        40.245        210.705   \n",
       "\n",
       "                           DIFP(psi)  \n",
       "TIME(unitless)                        \n",
       "2018-07-25 23:00:01-06:00    454.214  \n",
       "2018-07-25 23:00:03-06:00    481.383  \n",
       "2018-07-25 23:00:05-06:00    487.502  \n",
       "2018-07-25 23:00:07-06:00    561.480  \n",
       "2018-07-25 23:00:09-06:00    610.968  "
      ]
     },
     "execution_count": 3,
     "metadata": {},
     "output_type": "execute_result"
    }
   ],
   "source": [
    "import csv\n",
    "csv_file = pd.read_csv('csv_import_example.csv', parse_dates=['TIME(unitless)'], index_col='TIME(unitless)')\n",
    "csv_file.head()"
   ]
  },
  {
   "cell_type": "markdown",
   "metadata": {},
   "source": [
    "When you want to push data, it must have an index with a datetime data type. That's why we used the `parse_dates` and `index_col` arguments for `Pandas.read_csv()`.\n",
    "\n",
    "Now you can just push it into Seeq:"
   ]
  },
  {
   "cell_type": "code",
   "execution_count": null,
   "metadata": {},
   "outputs": [
    {
     "data": {
      "text/html": [
       "<div style=\"background-color: #EEEEFF;text-align: left;\">Pushing data to datasource <strong>Seeq Data Lab [Seeq Data Lab]</strong> scoped to workbook ID <strong>501218AB-66C3-45A5-A921-7399B80C1EEF</strong></div><table><tr><td style=\"background-color: #EEEEFF;\"></td><td style=\"background-color: #EEEEFF;\">Count</td><td style=\"background-color: #EEEEFF;\">Time</td><td style=\"background-color: #EEEEFF;\">Result</td></tr><tr style=\"background-color: #EEEEFF;\"><td>BITDEP(ft)</td><td>11485</td><td>00:00:02.79</td><td>Success</td></tr><tr style=\"background-color: #EEEEFF;\"><td>BLOCKCOMP(ft)</td><td>11485</td><td>00:00:03.46</td><td>Success</td></tr><tr style=\"background-color: #EEEEFF;\"><td>DEP_RTN(ft)</td><td>11485</td><td>00:00:03.97</td><td>Success</td></tr></table>"
      ],
      "text/plain": [
       "<IPython.core.display.HTML object>"
      ]
     },
     "metadata": {},
     "output_type": "display_data"
    }
   ],
   "source": [
    "push_results = spy.push(data=csv_file)\n",
    "push_results"
   ]
  },
  {
   "cell_type": "markdown",
   "metadata": {},
   "source": [
    "NOTE: Pushing data can be relatively slow. This is an area that Seeq will be optimizing in future versions.\n",
    "\n",
    "You can push multiple times, and as long as the names are the same and the workbook hasn't changed, you'll just add to the existing signal."
   ]
  },
  {
   "cell_type": "markdown",
   "metadata": {},
   "source": [
    "## Pushing metadata"
   ]
  },
  {
   "cell_type": "markdown",
   "metadata": {},
   "source": [
    "Now let's try pushing just metadata. You can see that the column names from the CSV file contain the unit of measure in parentheses. Let's use Pandas to extract the name and the unit of measure as separate columns."
   ]
  },
  {
   "cell_type": "code",
   "execution_count": null,
   "metadata": {},
   "outputs": [],
   "source": [
    "better_metadata = push_results.copy()\n",
    "better_metadata['Original Name'] = better_metadata.index\n",
    "better_metadata['Name'] = better_metadata['Original Name'].str.extract(r'(.*)\\(')\n",
    "better_metadata['Value Unit Of Measure'] = better_metadata['Original Name'].str.extract(r'.*\\((.*)\\)')\n",
    "better_metadata"
   ]
  },
  {
   "cell_type": "code",
   "execution_count": null,
   "metadata": {},
   "outputs": [],
   "source": [
    "spy.push(metadata=better_metadata)"
   ]
  },
  {
   "cell_type": "markdown",
   "metadata": {},
   "source": [
    "## Pushing condition and capsule data"
   ]
  },
  {
   "cell_type": "markdown",
   "metadata": {},
   "source": [
    "You can also push capsules, which are time intervals of interest, to Seeq by supplying a DataFrame with `Capsule Start` and `Capsule End` columns. Any additional columns will be added as properties of the capsule."
   ]
  },
  {
   "cell_type": "code",
   "execution_count": null,
   "metadata": {},
   "outputs": [],
   "source": [
    "capsule_data = pd.DataFrame([{\n",
    "    'Capsule Start':    pd.to_datetime('2019-01-10T09:00:00.000Z'),\n",
    "    'Capsule End':      pd.to_datetime('2019-01-10T17:00:00.000Z'),\n",
    "    'Operator On Duty': 'Mark'\n",
    "}, {\n",
    "    'Capsule Start':    pd.to_datetime('2019-01-11T09:00:00.000Z'),\n",
    "    'Capsule End':      pd.to_datetime('2019-01-11T17:00:00.000Z'),\n",
    "    'Operator On Duty': 'Hedwig'\n",
    "}])\n",
    "\n",
    "capsule_data"
   ]
  },
  {
   "cell_type": "markdown",
   "metadata": {},
   "source": [
    "When you push capsule data, you must supply a `metadata` DataFrame that is exactly 1 row and contains, at minimum, the `Name`, `Type` and `Maximum Duration` columns like so:"
   ]
  },
  {
   "cell_type": "code",
   "execution_count": null,
   "metadata": {},
   "outputs": [],
   "source": [
    "spy.push(data=capsule_data,\n",
    "         metadata=pd.DataFrame([{\n",
    "             'Name': 'Operator Shifts',\n",
    "             'Type': 'Condition',\n",
    "             'Maximum Duration': '2d'\n",
    "         }]))"
   ]
  },
  {
   "cell_type": "code",
   "execution_count": null,
   "metadata": {},
   "outputs": [],
   "source": []
  }
 ],
 "metadata": {
  "kernelspec": {
   "display_name": "Python 3",
   "language": "python",
   "name": "python3"
  },
  "language_info": {
   "codemirror_mode": {
    "name": "ipython",
    "version": 3
   },
   "file_extension": ".py",
   "mimetype": "text/x-python",
   "name": "python",
   "nbconvert_exporter": "python",
   "pygments_lexer": "ipython3",
   "version": "3.7.3"
  }
 },
 "nbformat": 4,
 "nbformat_minor": 2
}
