{
 "cells": [
  {
   "cell_type": "markdown",
   "metadata": {},
   "source": [
    "# Simulating Clifford randomized benchmarking using a generic noise model\n",
    "\n",
    "This tutorial demonstrates shows how to simulate Clifford RB sequences using arbitrary $n$-qubit process matrices.  In this example $n=2$."
   ]
  },
  {
   "cell_type": "code",
   "execution_count": 1,
   "metadata": {},
   "outputs": [],
   "source": [
    "from __future__ import print_function #python 2 & 3 compatibility\n",
    "\n",
    "import pygsti\n",
    "from pygsti.extras import rb"
   ]
  },
  {
   "cell_type": "markdown",
   "metadata": {},
   "source": [
    "## Get some CRB circuits\n",
    "\n",
    "First, we follow the [Clifford RB](../CliffordRB.ipynb) tutorial to generate a set of sequences.  If you want to perform Direct RB instead, just replace this cell with the contents of the [Direct RB](../DirectRB.ipynb) tutorial up until the point where it creates `circuitlist`:"
   ]
  },
  {
   "cell_type": "code",
   "execution_count": 2,
   "metadata": {},
   "outputs": [
    {
     "name": "stdout",
     "output_type": "stream",
     "text": [
      "- Sampling 10 circuits at CRB length 0 (1 of 6 lengths)\n",
      "  - Number of circuits sampled = 1,2,3,4,5,6,7,8,9,10,\n",
      "- Sampling 10 circuits at CRB length 1 (2 of 6 lengths)\n",
      "  - Number of circuits sampled = 1,2,3,4,5,6,7,8,9,10,\n",
      "- Sampling 10 circuits at CRB length 2 (3 of 6 lengths)\n",
      "  - Number of circuits sampled = 1,2,3,4,5,6,7,8,9,10,\n",
      "- Sampling 10 circuits at CRB length 4 (4 of 6 lengths)\n",
      "  - Number of circuits sampled = 1,2,3,4,5,6,7,8,9,10,\n",
      "- Sampling 10 circuits at CRB length 8 (5 of 6 lengths)\n",
      "  - Number of circuits sampled = 1,2,3,4,5,6,7,8,9,10,\n",
      "- Sampling 10 circuits at CRB length 16 (6 of 6 lengths)\n",
      "  - Number of circuits sampled = 1,2,3,4,5,6,7,8,9,10,\n"
     ]
    }
   ],
   "source": [
    "#Specify the device to be benchmarked - in this case 2 qubits\n",
    "nQubits = 2\n",
    "qubit_labels = [0,1] \n",
    "gate_names = ['Gx', 'Gy','Gcphase'] \n",
    "availability = {'Gcphase':[(0,1)]}\n",
    "pspec = pygsti.obj.ProcessorSpec(nQubits, gate_names, availability=availability, \n",
    "                                 qubit_labels=qubit_labels)\n",
    "\n",
    "#Specify RB parameters (k = number of repetitions at each length)\n",
    "lengths = [0,1,2,4,8,16]\n",
    "k = 10\n",
    "subsetQs = [0,1]\n",
    "randomizeout = False # ==> all circuits have the *same* ideal outcome (the all-zeros bitstring)\n",
    "\n",
    "#Generate clifford RB circuits\n",
    "exp_dict = rb.sample.clifford_rb_experiment(pspec, lengths, k, subsetQs=subsetQs, randomizeout=randomizeout)\n",
    "\n",
    "#Collect all the circuits into one list:\n",
    "circuitlist = [exp_dict['circuits'][m,i] for m in lengths for i in range(k)]"
   ]
  },
  {
   "cell_type": "markdown",
   "metadata": {},
   "source": [
    "## Create a model to simulate these circuits\n",
    "Now we need to create a model that can simulate circuits like this.  Two things to note:\n",
    "\n",
    "1. RB circuits use our \"multi-qubit\" gate naming, so you have gates like `Gx:0` and `Gcphase:0:1`.\n",
    "2. RB circuits do gates in parallel (this only matters for >1 qubits), so you have layers like `[Gy:0Gy:1]`\n",
    "\n",
    "In this example, we'll make a model with $n$-qubit process matrices, so this will be practically limited to small $n$.  We construct a model based on our standard 2-qubit X, Y, and CPHASE model, since this \n",
    "has all the appropriate gates.  To get a model with the multi-qubit labels, we'll morph our \"standard\"\n",
    "module into a \"standard multi-qubit\" module, which has the same stuff in it but uses the multi-qubit\n",
    "naming conventions, to match point 1. above.  If you can't start with a standard model, then you'll need to create an `ExplicitOpModel` object of the appropriate dimension (see the [explicit models tutorial](../../objects/ExplicitModel.ipynb)) and assign to it gates with are, for instance `('Gx',0)` rather than just `'Gx'`.\n",
    "\n",
    "Here's how we do the morphing:"
   ]
  },
  {
   "cell_type": "code",
   "execution_count": 3,
   "metadata": {},
   "outputs": [],
   "source": [
    "import numpy as np\n",
    "from pygsti.construction import std2Q_XYCPHASE\n",
    "smq2Q_XYCPHASE = pygsti.construction.stdmodule_to_smqmodule(std2Q_XYCPHASE)"
   ]
  },
  {
   "cell_type": "markdown",
   "metadata": {},
   "source": [
    "Now the `smq2Q_XYCPHASE` module acts just like the usual `std2Q_XYCPHASE` one but with multi-qubit conventions.  We'll depolarize the target model and set one of the process matrices to a custom value as a demonstration.  Here is where you can set any 2-qubit process matrices you want to any of the gates:"
   ]
  },
  {
   "cell_type": "code",
   "execution_count": 4,
   "metadata": {},
   "outputs": [
    {
     "data": {
      "text/plain": [
       "odict_keys([Label[Gx:1], Label[Gy:1], Label[Gx:0], Label[Gy:0], Label[Gcphase:0:1]])"
      ]
     },
     "execution_count": 4,
     "metadata": {},
     "output_type": "execute_result"
    }
   ],
   "source": [
    "myModel = smq2Q_XYCPHASE.target_model().depolarize(op_noise=0.01, spam_noise=0.01)\n",
    "myModel[('Gx',0)] = np.kron( \n",
    "    np.array([[1, 0, 0, 0],\n",
    "              [0, 0.85, 0, 0],\n",
    "              [0, 0, 0, -0.85],\n",
    "              [0, 0, 0.85, 0]], 'd'),\n",
    "    np.array([[1, 0, 0, 0],\n",
    "              [0, 0.95, 0, 0],\n",
    "              [0, 0, 0.95, 0],\n",
    "              [0, 0, 0, 0.95]], 'd'))\n",
    "#print(myModel[('Gx',0)])\n",
    "myModel.operations.keys() #voila! you have gates like \"Gx:0\" rather than \"Gxi\""
   ]
  },
  {
   "cell_type": "markdown",
   "metadata": {},
   "source": [
    "Since, `ExplicitOpModel` don't know how to automatically simulate multiple gates in parallel (you'd need to add an operation for each layer explicitly), we'll just *serialize* the circuits so they don't contain any parallel gates.  This addresses point 2) above.  Then we can simulate our circuits using our `ExplicitOpModel`, creating a `DataSet`."
   ]
  },
  {
   "cell_type": "code",
   "execution_count": 5,
   "metadata": {},
   "outputs": [
    {
     "name": "stdout",
     "output_type": "stream",
     "text": [
      "Qubit 0 ---|Gy|-|  |-|  |-|  |-|C1|-|  |-|Gy|---\n",
      "Qubit 1 ---|  |-|Gx|-|Gy|-|Gy|-|C0|-|Gy|-|  |---\n",
      "\n",
      "Qubit 0 ---|Gy|-|  |-|  |-|C1|-|Gy|---\n",
      "Qubit 1 ---|Gx|-|Gy|-|Gy|-|C0|-|Gy|---\n",
      "\n"
     ]
    }
   ],
   "source": [
    "serial_circuits = [c.serialize() for c in circuitlist]\n",
    "ds = pygsti.construction.generate_fake_data(myModel, serial_circuits, 100, seed=1234)\n",
    "\n",
    "#See how the DataSet contains serialized circuits (just printing the first several layers for clarity)\n",
    "print(ds.keys()[10][0:7])\n",
    "print(circuitlist[10][0:5])"
   ]
  },
  {
   "cell_type": "markdown",
   "metadata": {},
   "source": [
    "## Running RB on the simulated `DataSet`\n",
    "To run an RB analysis, we need to collect the \"success\" outcome counts for each circuit.  We just build up parallel lists as show below, using the `'idealout'` key (even though it's always the same in this case) of `exp_dict` to determine what outcome we were supposed to get.  These parallel lists can be used to initialize a `RBSummaryDataSet` object."
   ]
  },
  {
   "cell_type": "code",
   "execution_count": 6,
   "metadata": {},
   "outputs": [],
   "source": [
    "lengthslist = []\n",
    "counts = []\n",
    "scounts = []\n",
    "cdepths = []\n",
    "c2Qgatecnts = []\n",
    "\n",
    "for m in lengths:\n",
    "    for i in range(k):\n",
    "        c = exp_dict['circuits'][m,i]\n",
    "        ideal_outcome = ''.join(map(str,exp_dict['idealout'][m,i]))\n",
    "        serial_c = c.serialize()\n",
    "        datarow = ds[serial_c]\n",
    "        lengthslist.append(m)\n",
    "        counts.append(datarow.total)\n",
    "        scounts.append(datarow[ideal_outcome])\n",
    "        cdepths.append(c.depth())\n",
    "        c2Qgatecnts.append(c.twoQgate_count())\n",
    "\n",
    "#Then we can create a RBSummaryDataset object, which contains all the info needed to perform \n",
    "# our standard RB analyses:\n",
    "data = rb.results.RBSummaryDataset(nQubits, lengthslist, success_counts=scounts, total_counts=counts,\n",
    "                             circuit_depths=cdepths, circuit_twoQgate_counts=c2Qgatecnts)"
   ]
  },
  {
   "cell_type": "markdown",
   "metadata": {},
   "source": [
    "One we have a `RBSummaryDataSet`, we can just follow the final steps of the [RB analysis tutorial](../RBAnalysis.ipynb) to perform a standard RB analysis and plot the results."
   ]
  },
  {
   "cell_type": "code",
   "execution_count": 7,
   "metadata": {},
   "outputs": [],
   "source": [
    "#Do a standard RB analysis\n",
    "rbresults = rb.analysis.std_practice_analysis(data)"
   ]
  },
  {
   "cell_type": "code",
   "execution_count": 8,
   "metadata": {},
   "outputs": [
    {
     "data": {
      "image/png": "[encoded data removed]",
      "text/plain": [
       "<Figure size 576x360 with 1 Axes>"
      ]
     },
     "metadata": {
      "needs_background": "light"
     },
     "output_type": "display_data"
    }
   ],
   "source": [
    "#Plot some stuff, etc - see the RBAnalysis.ipynb for more on this.\n",
    "%matplotlib inline\n",
    "rbresults.plot()"
   ]
  }
 ],
 "metadata": {
  "kernelspec": {
   "display_name": "Python 3",
   "language": "python",
   "name": "python3"
  },
  "language_info": {
   "codemirror_mode": {
    "name": "ipython",
    "version": 3
   },
   "file_extension": ".py",
   "mimetype": "text/x-python",
   "name": "python",
   "nbconvert_exporter": "python",
   "pygments_lexer": "ipython3",
   "version": "3.7.0"
  }
 },
 "nbformat": 4,
 "nbformat_minor": 1
}
