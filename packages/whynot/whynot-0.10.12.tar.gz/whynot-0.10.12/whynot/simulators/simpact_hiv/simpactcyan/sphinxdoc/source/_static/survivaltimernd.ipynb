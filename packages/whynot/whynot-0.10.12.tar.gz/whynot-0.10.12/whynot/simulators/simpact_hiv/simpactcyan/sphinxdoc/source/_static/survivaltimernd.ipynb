{
 "metadata": {
  "name": "",
  "signature": "sha256:cd5fbd17f6be582111edbdaafa3c2d0ac6ba7258d9e776d8ed974cb5802acfab"
 },
 "nbformat": 3,
 "nbformat_minor": 0,
 "worksheets": [
  {
   "cells": [
    {
     "cell_type": "markdown",
     "metadata": {},
     "source": [
      "Variation in survival time after HIV infection\n",
      "==============================================\n",
      "\n",
      "In this example, the `person.survtime.logoffset.dist.type` configuration setting is used\n",
      "to add some randomness to the survival time after infection by HIV. This survival time\n",
      "is given by\n",
      "\n",
      "$$ t_{\\rm surv} = \\frac{C}{V_{\\rm sp}^{-k}} \\times 10^x $$\n",
      "\n",
      "By default, the $x$ parameter is zero, causing a very strict relationship between the\n",
      "survival time and the set-point viral load $V_{\\rm sp}$. Using the aforementioned\n",
      "configuration option, one can set the value of $x$ on a per-person basis. This allows\n",
      "for variability in the survival time."
     ]
    },
    {
     "cell_type": "code",
     "collapsed": false,
     "input": [
      "# First we'll load the nesessary modules\n",
      "%matplotlib inline\n",
      "import pysimpactcyan\n",
      "import pandas as pd\n",
      "import matplotlib.pyplot as plt\n",
      "import math\n",
      "import numpy as np"
     ],
     "language": "python",
     "metadata": {},
     "outputs": [],
     "prompt_number": 1
    },
    {
     "cell_type": "code",
     "collapsed": false,
     "input": [
      "# Create an instance of PySimpactCyan, with which we can run simulations\n",
      "simpact = pysimpactcyan.PySimpactCyan()"
     ],
     "language": "python",
     "metadata": {},
     "outputs": [
      {
       "output_type": "stream",
       "stream": "stdout",
       "text": [
        "Setting data directory to /usr/local/share/simpact-cyan/\n"
       ]
      }
     ],
     "prompt_number": 2
    },
    {
     "cell_type": "code",
     "collapsed": false,
     "input": [
      "# We'll run a simulation with 1000 men and 1000 women. To make the relation\n",
      "# above easy to see, we're going to disable treatment by setting the acceptance\n",
      "# threshold to zero\n",
      "cfg = { }\n",
      "cfg[\"population.simtime\"] = 100\n",
      "cfg[\"population.nummen\"] = 1000\n",
      "cfg[\"population.numwomen\"] = 1000\n",
      "cfg[\"person.art.accept.threshold.dist.type\"] = \"fixed\"\n",
      "cfg[\"person.art.accept.threshold.dist.fixed.value\"] = 0 # Make sure a person never accepts treatment\n",
      "r = simpact.run(cfg, \"/tmp/simptest\")"
     ],
     "language": "python",
     "metadata": {},
     "outputs": [
      {
       "output_type": "stream",
       "stream": "stdout",
       "text": [
        "Using identifier 'simpact-cyan-2015-08-25-09-15-57_13290_SSRY4y3k-'\n",
        "Results will be stored in directory '/tmp/simptest'\n",
        "Running simpact executable...\n",
        "Done."
       ]
      },
      {
       "output_type": "stream",
       "stream": "stdout",
       "text": [
        "\n",
        "\n",
        "# read seed from /dev/urandom\n",
        "# Using seed 525772461\n",
        "# Performing extra check on read configuration parameters\n",
        "# WARNING: ignoring consistency check for config key population.agedistfile (config value is '/usr/local/share/simpact-cyan/sa_2003.csv')\n",
        "# mNRM: using advanced algorithm\n",
        "# Release version\n",
        "# Simpact version is: 0.19.0testing3\n",
        "# Number of events executed is 109022\n",
        "# Started with 2000 people, ending with 889 (difference is -1111)\n"
       ]
      }
     ],
     "prompt_number": 3
    },
    {
     "cell_type": "code",
     "collapsed": false,
     "input": [
      "# Get a value for 'infinity'\n",
      "inf = float(\"inf\")\n",
      "\n",
      "# This is the line with t_surv = C/Vsp^(-k), on a log-log plot\n",
      "C = 1325.0\n",
      "k = -0.49\n",
      "logVL = np.linspace(2, 6, 2)\n",
      "logTS = np.log10(C) + k*logVL"
     ],
     "language": "python",
     "metadata": {},
     "outputs": [],
     "prompt_number": 4
    },
    {
     "cell_type": "code",
     "collapsed": false,
     "input": [
      "# Read the person log from the simulation output\n",
      "persons = pd.read_csv(r[\"logpersons\"])\n",
      "\n",
      "# We're only interested in people that got infected by transmission, not by\n",
      "# the HIV seeding event (InfectType == 1), in persons who actually have died\n",
      "# (TOD < inf) and who did not receive treatment (TreatTime == inf, which is\n",
      "# actually always the case since no person will accept treatment)\n",
      "filteredPersons = persons[(persons[\"InfectType\"] == 1) & \n",
      "                          (persons[\"TOD\"].astype(float) < inf) & \n",
      "                          (persons[\"TreatTime\"].astype(float) == inf)]\n",
      "\n",
      "# The survival time is the difference between the time of death and the time\n",
      "# infection took place. We're going to take the logarithm of this.\n",
      "survTime = np.log10(filteredPersons[\"TOD\"].astype(float) - filteredPersons[\"InfectTime\"].astype(float))\n",
      "# We're going to plot this logarithm of the survival time against the logarithm\n",
      "# of the set-point viral load\n",
      "SPVL = filteredPersons[\"log10SPVL\"].astype(float)\n",
      "\n",
      "plt.plot(SPVL, survTime, 'o')\n",
      "plt.plot(logVL, logTS); # The green reference line"
     ],
     "language": "python",
     "metadata": {},
     "outputs": [
      {
       "metadata": {},
       "output_type": "pyout",
       "prompt_number": 5,
       "text": [
        "[<matplotlib.lines.Line2D at 0x7fd35f773290>]"
       ]
      },
      {
       "metadata": {},
       "output_type": "display_data",
       "png": "[encoded data removed]",
       "text": [
        "<matplotlib.figure.Figure at 0x7fd35f773090>"
       ]
      }
     ],
     "prompt_number": 5
    },
    {
     "cell_type": "code",
     "collapsed": false,
     "input": [
      "# In the plot above, you can see that there are several points below the reference line.\n",
      "# This is because we didn't specify that we're only interested in people who actually died\n",
      "# by AIDS related causes: each person also has a regular mortality event scheduled, so it's\n",
      "# possible that a person dies sooner than from AIDS"
     ],
     "language": "python",
     "metadata": {},
     "outputs": [],
     "prompt_number": 6
    },
    {
     "cell_type": "code",
     "collapsed": false,
     "input": [
      "# Here, we'll repeat the procedure from above, but we're also going to specify that\n",
      "# we only want to plot the survival time for people who died from AIDS (AIDSDeath == 1)\n",
      "filteredPersons = persons[(persons[\"InfectType\"] == 1) & \n",
      "                          (persons[\"TOD\"].astype(float) < inf) &  \n",
      "                          (persons[\"TreatTime\"].astype(float) == inf) &\n",
      "                          (persons[\"AIDSDeath\"] == 1)\n",
      "                          ]\n",
      "\n",
      "survTime = np.log10(filteredPersons[\"TOD\"].astype(float) - filteredPersons[\"InfectTime\"].astype(float))\n",
      "SPVL = filteredPersons[\"log10SPVL\"].astype(float)\n",
      "\n",
      "plt.plot(SPVL, survTime, 'o')\n",
      "plt.plot(logVL, logTS) # The green reference line"
     ],
     "language": "python",
     "metadata": {},
     "outputs": [
      {
       "metadata": {},
       "output_type": "pyout",
       "prompt_number": 7,
       "text": [
        "[<matplotlib.lines.Line2D at 0x7fd35f417e90>]"
       ]
      },
      {
       "metadata": {},
       "output_type": "display_data",
       "png": "[encoded data removed]",
       "text": [
        "<matplotlib.figure.Figure at 0x7fd35f773190>"
       ]
      }
     ],
     "prompt_number": 7
    },
    {
     "cell_type": "code",
     "collapsed": false,
     "input": [
      "# In the plot above, all survival times lie precisely on the curve that was used to\n",
      "# generate them, as expected."
     ],
     "language": "python",
     "metadata": {},
     "outputs": [],
     "prompt_number": 8
    },
    {
     "cell_type": "code",
     "collapsed": false,
     "input": [
      "# In the following simulation, we're going to specify that for a specific person\n",
      "# the 'x' parameter in the formula at the top should be picked from a normal\n",
      "# distribution with a width of 0.1. \n",
      "cfg = { }\n",
      "cfg[\"population.simtime\"] = 100\n",
      "cfg[\"population.nummen\"] = 1000\n",
      "cfg[\"population.numwomen\"] = 1000\n",
      "cfg[\"person.survtime.logoffset.dist.type\"] = \"normal\"\n",
      "cfg[\"person.survtime.logoffset.dist.normal.mu\"] = 0\n",
      "cfg[\"person.survtime.logoffset.dist.normal.sigma\"] = 0.1\n",
      "cfg[\"person.art.accept.threshold.dist.type\"] = \"fixed\"\n",
      "cfg[\"person.art.accept.threshold.dist.fixed.value\"] = 0 # Make sure a person never accepts treatment\n",
      "r = simpact.run(cfg, \"/tmp/simptest\")"
     ],
     "language": "python",
     "metadata": {},
     "outputs": [
      {
       "output_type": "stream",
       "stream": "stdout",
       "text": [
        "Using identifier 'simpact-cyan-2015-08-25-09-16-58_13290_CxUIxfvE-'\n",
        "Results will be stored in directory '/tmp/simptest'\n",
        "Running simpact executable...\n",
        "Done."
       ]
      },
      {
       "output_type": "stream",
       "stream": "stdout",
       "text": [
        "\n",
        "\n",
        "# read seed from /dev/urandom\n",
        "# Using seed 236962080\n",
        "# Performing extra check on read configuration parameters\n",
        "# WARNING: ignoring consistency check for config key population.agedistfile (config value is '/usr/local/share/simpact-cyan/sa_2003.csv')\n",
        "# mNRM: using advanced algorithm\n",
        "# Release version\n",
        "# Simpact version is: 0.19.0testing3\n",
        "# Number of events executed is 107569\n",
        "# Started with 2000 people, ending with 893 (difference is -1107)\n"
       ]
      }
     ],
     "prompt_number": 9
    },
    {
     "cell_type": "code",
     "collapsed": false,
     "input": [
      "# If we now create the same plot as before, the survival times will no\n",
      "# longer lie precisely on a line (in the log-log plot), but will show\n",
      "# some variation\n",
      "\n",
      "persons = pd.read_csv(r[\"logpersons\"])\n",
      "filteredPersons = persons[(persons[\"InfectType\"] == 1) & \n",
      "                          (persons[\"TOD\"].astype(float) < inf) & \n",
      "                          (persons[\"TreatTime\"].astype(float) == inf) &\n",
      "                          (persons[\"AIDSDeath\"] == 1)\n",
      "                          ]\n",
      "\n",
      "survTime = np.log10(filteredPersons[\"TOD\"].astype(float) - filteredPersons[\"InfectTime\"].astype(float))\n",
      "SPVL = filteredPersons[\"log10SPVL\"].astype(float)\n",
      "\n",
      "plt.plot(SPVL, survTime, 'o')\n",
      "plt.plot(logVL, logTS); # The green reference line"
     ],
     "language": "python",
     "metadata": {},
     "outputs": [
      {
       "metadata": {},
       "output_type": "pyout",
       "prompt_number": 10,
       "text": [
        "[<matplotlib.lines.Line2D at 0x7fd35f4a4990>]"
       ]
      },
      {
       "metadata": {},
       "output_type": "display_data",
       "png": "[encoded data removed]",
       "text": [
        "<matplotlib.figure.Figure at 0x7fd35f773150>"
       ]
      }
     ],
     "prompt_number": 10
    },
    {
     "cell_type": "code",
     "collapsed": false,
     "input": [],
     "language": "python",
     "metadata": {},
     "outputs": []
    }
   ],
   "metadata": {}
  }
 ]
}