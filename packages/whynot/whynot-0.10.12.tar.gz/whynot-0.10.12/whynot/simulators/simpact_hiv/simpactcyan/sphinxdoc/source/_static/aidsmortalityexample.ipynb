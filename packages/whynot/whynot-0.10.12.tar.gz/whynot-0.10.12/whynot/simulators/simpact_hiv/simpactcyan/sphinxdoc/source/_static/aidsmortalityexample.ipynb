{
 "metadata": {
  "name": "",
  "signature": "sha256:05dd748a63772b798b0aa74434886c010befbba872c0d795a656c705da7ac500"
 },
 "nbformat": 3,
 "nbformat_minor": 0,
 "worksheets": [
  {
   "cells": [
    {
     "cell_type": "markdown",
     "metadata": {},
     "source": [
      "AIDS Mortality example\n",
      "======================\n",
      "This notebook illustrates an example present in the Simpact Cyan documentation.\n",
      "There, it is explained that upon infection with HIV the survival time is calculated\n",
      "as\n",
      "$$ t_{\\rm survival} = \\frac{C}{V_{\\rm sp}^{-k}} $$\n",
      "Because of the start of antiretroviral treatment, or because of dropping out of\n",
      "treatment, the set-point viral load $V_{\\rm sp}$\n",
      "of a person can go down or up again, and the simulations below show what happens\n",
      "to the AIDS based time of death.\n",
      "\n",
      "This is a very artificial example, meant to illustrate the reasoning in the\n",
      "[reference documentation](http://research.edm.uhasselt.be/~jori/simpact/current/simpact_cyan.html#aidsmortality)"
     ]
    },
    {
     "cell_type": "code",
     "collapsed": false,
     "input": [
      "# First, we'll load the Python interface to Simpact Cyan, as well as the 'math' library\n",
      "import pysimpactcyan\n",
      "import math"
     ],
     "language": "python",
     "metadata": {},
     "outputs": [],
     "prompt_number": 1
    },
    {
     "cell_type": "code",
     "collapsed": false,
     "input": [
      "# Create an instance of the PySimpactCyan class, with which we can run Simpact Cyan simulations\n",
      "simpact = pysimpactcyan.PySimpactCyan()"
     ],
     "language": "python",
     "metadata": {},
     "outputs": [
      {
       "output_type": "stream",
       "stream": "stdout",
       "text": [
        "Setting data directory to /usr/local/share/simpact-cyan/\n"
       ]
      }
     ],
     "prompt_number": 2
    },
    {
     "cell_type": "markdown",
     "metadata": {},
     "source": [
      "In the example from the documentation, survival times of 10 or 50 years are used, depending on treatment. The function below calculates which viral load corresponds to this for a fixed value of $C$ and $k$:\n",
      "$$V_{\\rm sp} = \\left(\\frac{C}{t}\\right)^\\left(-\\frac{1}{k}\\right) $$"
     ]
    },
    {
     "cell_type": "code",
     "collapsed": false,
     "input": [
      "def solveForVsp(t, C, k):\n",
      "    return (float(C)/t)**(-1.0/k)"
     ],
     "language": "python",
     "metadata": {},
     "outputs": [],
     "prompt_number": 3
    },
    {
     "cell_type": "markdown",
     "metadata": {},
     "source": [
      "We then set some values for $C$ and $k$, set the time to live before treatment to 10 years, the time to live because of treatment to 50 years, and we calculate the corresponding $V_{\\rm sp}$ values"
     ]
    },
    {
     "cell_type": "code",
     "collapsed": false,
     "input": [
      "t_before = 10.0\n",
      "t_after = 50.0\n",
      "C = 1000\n",
      "k = -0.5\n",
      "Vsp_before = solveForVsp(t_before, C, k)\n",
      "Vsp_after = solveForVsp(t_after, C, k);"
     ],
     "language": "python",
     "metadata": {},
     "outputs": [],
     "prompt_number": 4
    },
    {
     "cell_type": "markdown",
     "metadata": {},
     "source": [
      "Infection only\n",
      "--------------\n",
      "\n",
      "For the first simulation we'll infect a population consisting of a single person\n",
      "when the simulation starts. We'll make sure that treatment is not used, so if\n",
      "everything works correctly, the person should die at a simulation time of 10 years.\n"
     ]
    },
    {
     "cell_type": "code",
     "collapsed": false,
     "input": [
      "cfg = { \n",
      "    # To focus on the AIDS mortality event we'll just use a population that consists\n",
      "    # of one man\n",
      "    \"population.nummen\": 1,\n",
      "    \"population.numwomen\": 0,\n",
      "    # By default, at the start of the simulation a number of people will be infected\n",
      "    # with HIV. We set the fraction to 100%, so that the only member of our population\n",
      "    # will certainly get infected when the simulation starts.\n",
      "    \"hivseed.fraction\": 1,\n",
      "    # By setting the age scale for the normal (non-AIDS) mortality event to something\n",
      "    # very large and by setting the simulation time to something large as well, we can\n",
      "    # be sure that the simulation will only stop when the one person in it dies from\n",
      "    # AIDS\n",
      "    \"mortality.normal.weibull.scale\": 1000, \n",
      "    \"population.simtime\": 1000,\n",
      "    # Here, we set the values of the C and k parameters that we defined earlier\n",
      "    \"mortality.aids.survtime.C\": C,\n",
      "    \"mortality.aids.survtime.k\": k,\n",
      "    # To make sure that upon infection the person gets the value of Vsp that we want,\n",
      "    # we use the 'usealternativeseeddist' setting which can be used to specify a distribution\n",
      "    # for Vsp that can is used when seeding. This distribution should provide the Vsp value\n",
      "    # on a log10 scale. Since we want one specific value, we'll use the 'fixed' distribution.\n",
      "    \"person.vsp.model.logdist2d.usealternativeseeddist\": \"yes\",\n",
      "    \"person.vsp.model.logdist2d.alternativeseed.dist.type\": \"fixed\",\n",
      "    \"person.vsp.model.logdist2d.alternativeseed.dist.fixed.value\": math.log10(Vsp_before),\n",
      "    \n",
      "    # Because we don't want treatment in this example, we could in principle just give\n",
      "    # the diagnosis event a very low hazard. But to make it easier for the following\n",
      "    # examples we'll actually use a very high hazard for diagnosis so it will happen\n",
      "    # very shortly after infection\n",
      "    \"diagnosis.baseline\": 100,\n",
      "    # To make sure that no treatment is performed, we'll set the threshold for treatment\n",
      "    # to zero\n",
      "    \"monitoring.cd4.threshold\": 0,\n",
      "    # On the other hand, thinking ahead again, when a person does get offered treatment\n",
      "    # we'd like to make sure that he accepts it. This is done by setting the ART\n",
      "    # accept threshold to 100%, using a 'fixed' distribution again.\n",
      "    \"person.art.accept.threshold.dist.type\": \"fixed\",\n",
      "    \"person.art.accept.threshold.dist.fixed.value\": 1,\n",
      "    # Here we set the interval for the monitoring event to one year.\n",
      "    \"monitoring.interval.piecewise.left\": 1,\n",
      "    \"monitoring.interval.piecewise.right\": 1,\n",
      "    \"monitoring.interval.piecewise.cd4s\": 500,\n",
      "    \"monitoring.interval.piecewise.times\": 1,\n",
      "    # When a monitoring event is triggered and the person's CD4 count is below the\n",
      "    # threshold, he will be offered treatment. We've already made sure that the person\n",
      "    # will accept the treatment, and here we specify that treatment should alter the\n",
      "    # Vsp value to Vsp_after. This is not actually used in this first example, but\n",
      "    # will be in the next two.\n",
      "    \"monitoring.fraction.log_viralload\": math.log10(Vsp_after)/math.log10(Vsp_before),\n",
      "}\n"
     ],
     "language": "python",
     "metadata": {},
     "outputs": [],
     "prompt_number": 5
    },
    {
     "cell_type": "code",
     "collapsed": false,
     "input": [
      "# Now we'll execute the Simpact Cyan simulation with these settings. The `run` function returns\n",
      "# an object which contains paths to the output files.\n",
      "r = simpact.run(cfg, \"/tmp/simptest\")\n",
      "r"
     ],
     "language": "python",
     "metadata": {},
     "outputs": [
      {
       "output_type": "stream",
       "stream": "stdout",
       "text": [
        "Using identifier 'simpact-cyan-2015-05-27-09-57-55_27582_MI9gYIY1-'\n",
        "Results will be stored in directory '/tmp/simptest'\n",
        "Running simpact executable...\n",
        "Done.\n",
        "\n",
        "# read seed from /dev/urandom\n",
        "# Using seed 127474114\n",
        "# Performing extra check on read configuration parameters\n",
        "# WARNING: ignoring consistency check for config key population.agedistfile (config value is '/usr/local/share/simpact-cyan/sa_2003.csv')\n",
        "# mNRM: using advanced algorithm\n",
        "# Release version\n",
        "# Simpact version is: 0.18.0\n",
        "# Error running simulation: No next scheduled event found: No event found\n",
        "# Current simulation time is 10\n",
        "# Number of events executed is 16\n",
        "# Started with 1 people, ending with 0 (difference is -1)\n"
       ]
      },
      {
       "metadata": {},
       "output_type": "pyout",
       "prompt_number": 7,
       "text": [
        "{'agedistfile': u'/usr/local/share/simpact-cyan/sa_2003.csv',\n",
        " 'configfile': '/tmp/simptest/simpact-cyan-2015-05-27-09-57-55_27582_MI9gYIY1-config.txt',\n",
        " 'id': 'simpact-cyan-2015-05-27-09-57-55_27582_MI9gYIY1-',\n",
        " u'logevents': u'/tmp/simptest/simpact-cyan-2015-05-27-09-57-55_27582_MI9gYIY1-eventlog.csv',\n",
        " u'logperiodic': u'/tmp/simptest/simpact-cyan-2015-05-27-09-57-55_27582_MI9gYIY1-periodiclog.csv',\n",
        " u'logpersons': u'/tmp/simptest/simpact-cyan-2015-05-27-09-57-55_27582_MI9gYIY1-personlog.csv',\n",
        " u'logrelations': u'/tmp/simptest/simpact-cyan-2015-05-27-09-57-55_27582_MI9gYIY1-relationlog.csv',\n",
        " u'logtreatments': u'/tmp/simptest/simpact-cyan-2015-05-27-09-57-55_27582_MI9gYIY1-treatmentlog.csv',\n",
        " 'outputfile': '/tmp/simptest/simpact-cyan-2015-05-27-09-57-55_27582_MI9gYIY1-output.txt'}"
       ]
      }
     ],
     "prompt_number": 7
    },
    {
     "cell_type": "code",
     "collapsed": false,
     "input": [
      "# We'll display the log of all events which is stored in the file specified by `logevents`.\n",
      "print(open(r[\"logevents\"]).read())"
     ],
     "language": "python",
     "metadata": {},
     "outputs": [
      {
       "output_type": "stream",
       "stream": "stdout",
       "text": [
        "0.0000000000,HIV seeding,(none),-1,-1,-1.0000000000,(none),-1,-1,-1.0000000000\n",
        "0.0000000000,diagnosis,man_1,1,0,42.2343919168,(none),-1,-1,-1.0000000000\n",
        "0.0000436102,monitoring,man_1,1,0,42.2344355270,(none),-1,-1,-1.0000000000,CD4,1223.91\n",
        "0.2518972274,chronicstage,man_1,1,0,42.4862891441,(none),-1,-1,-1.0000000000\n",
        "1.0000436102,monitoring,man_1,1,0,43.2344355270,(none),-1,-1,-1.0000000000,CD4,1101.56\n",
        "2.0000436102,monitoring,man_1,1,0,44.2344355270,(none),-1,-1,-1.0000000000,CD4,979.218\n",
        "3.0000436102,monitoring,man_1,1,0,45.2344355270,(none),-1,-1,-1.0000000000,CD4,856.872\n",
        "4.0000436102,monitoring,man_1,1,0,46.2344355270,(none),-1,-1,-1.0000000000,CD4,734.527\n",
        "5.0000436102,monitoring,man_1,1,0,47.2344355270,(none),-1,-1,-1.0000000000,CD4,612.181\n",
        "6.0000436102,monitoring,man_1,1,0,48.2344355270,(none),-1,-1,-1.0000000000,CD4,489.835\n",
        "7.0000436102,monitoring,man_1,1,0,49.2344355270,(none),-1,-1,-1.0000000000,CD4,367.489\n",
        "8.0000436102,monitoring,man_1,1,0,50.2344355270,(none),-1,-1,-1.0000000000,CD4,245.143\n",
        "8.7500000000,aidsstage,man_1,1,0,50.9843919168,(none),-1,-1,-1.0000000000\n",
        "9.0000436102,monitoring,man_1,1,0,51.2344355270,(none),-1,-1,-1.0000000000,CD4,122.797\n",
        "9.5000000000,finalaidsstage,man_1,1,0,51.7343919168,(none),-1,-1,-1.0000000000\n",
        "10.0000000000,aidsmortality,man_1,1,0,52.2343919168,(none),-1,-1,-1.0000000000,intreatment,0\n",
        "\n"
       ]
      }
     ],
     "prompt_number": 8
    },
    {
     "cell_type": "markdown",
     "metadata": {},
     "source": [
      "Each line starts with the time an event took place, followed by the name of the event and\n",
      "some additional information. An overview:\n",
      "\n",
      " - At the start of the simulation, the HIV seeding event is executed which causes the only\n",
      "   person in the population to get infected.\n",
      " - Because of the high baseline value for the diagnosis hazard, this man will get diagnosed\n",
      "   immediately afterwards. At this point, a monitoring event is also scheduled a very short\n",
      "   time later.\n",
      " - When the monitoring event is triggered, no treatment will be offered because we set the\n",
      "   CD4 threshold to a very low value. But we keep track of the disease progression by\n",
      "   scheduling monitoring events on a yearly basis.\n",
      " - Slightly later than three months after the infection (some randomness is added), the\n",
      "   chronic stage event will take place.\n",
      " - One year and three months before the AIDS based time of death, the person advances to\n",
      "   the AIDS stage, and six months before the AIDS related death to the final AIDS stage.\n",
      " - Finally, 10 years after the infection was started, the person dies from AIDS"
     ]
    },
    {
     "cell_type": "markdown",
     "metadata": {},
     "source": [
      "Treatment\n",
      "---------\n",
      "\n",
      "In the second example, we'll make sure the person is treated after one year. To do so,\n",
      "we make use of the simulation intervention, by which we can change parameters of the\n",
      "previous simulation at certain times.\n",
      "\n",
      "In the previous simulation, no treatment occurred because the CD4 threshold was set to zero.\n",
      "To make sure that the person will get treated during the monitoring event that occurs \n",
      "after the first simulation year has passed, we'll trigger a simulation intervention just\n",
      "before that time and set the CD4 threshold to a very high value (so the person's CD4 will\n",
      "be below that value)"
     ]
    },
    {
     "cell_type": "code",
     "collapsed": false,
     "input": [
      "intCfg = {\n",
      "    # This change in configuration will take place one year into the simulation\n",
      "    \"time\": 0.99, \n",
      "    # At that time the CD4 threshold is set to a very large value, so that during\n",
      "    # the next monitoring event the person will receive treatment\n",
      "    \"monitoring.cd4.threshold\": 100000,\n",
      "    # We're not interested in any more monitoring events, so we'll set the interval\n",
      "    # to 1000 years\n",
      "    \"monitoring.interval.piecewise.left\": 1000,\n",
      "    \"monitoring.interval.piecewise.right\": 1000,\n",
      "    \"monitoring.interval.piecewise.times\": 1000,\n",
      "    # In this example we do not want the person to drop out of treatment, so the\n",
      "    # dropout interval is set to the fixed value of 1000 years\n",
      "    \"dropout.interval.dist.type\": \"fixed\",\n",
      "    \"dropout.interval.dist.fixed.value\": 1000,\n",
      "}\n",
      "\n",
      "# Then we run the simulation with the existing configuration and with the intervention\n",
      "# configuration above\n",
      "r = simpact.run(cfg, \"/tmp/simptest\", interventionConfig=[intCfg])"
     ],
     "language": "python",
     "metadata": {},
     "outputs": [
      {
       "output_type": "stream",
       "stream": "stdout",
       "text": [
        "Using identifier 'simpact-cyan-2015-05-27-09-57-58_27582_w3jF9ObQ-'\n",
        "Results will be stored in directory '/tmp/simptest'\n",
        "Running simpact executable...\n",
        "Done.\n",
        "\n",
        "# read seed from /dev/urandom\n",
        "# Using seed 743695429\n",
        "# Performing extra check on read configuration parameters\n",
        "# WARNING: ignoring consistency check for config key intervention.baseconfigname (config value is 'simpact-cyan-2015-05-27-09-57-58_27582_w3jF9ObQ-interventionconfig_%.txt')\n",
        "# WARNING: ignoring consistency check for config key intervention.fileids (config value is '1')\n",
        "# WARNING: ignoring consistency check for config key population.agedistfile (config value is '/usr/local/share/simpact-cyan/sa_2003.csv')\n",
        "# mNRM: using advanced algorithm\n",
        "# Release version\n",
        "# Simpact version is: 0.18.0\n",
        "# Error running simulation: No next scheduled event found: No event found\n",
        "# Current simulation time is 46\n",
        "# Number of events executed is 9\n",
        "# Started with 1 people, ending with 0 (difference is -1)\n"
       ]
      }
     ],
     "prompt_number": 9
    },
    {
     "cell_type": "code",
     "collapsed": false,
     "input": [
      "# Let's show the event log again\n",
      "print open(r[\"logevents\"]).read()"
     ],
     "language": "python",
     "metadata": {},
     "outputs": [
      {
       "output_type": "stream",
       "stream": "stdout",
       "text": [
        "0.0000000000,HIV seeding,(none),-1,-1,-1.0000000000,(none),-1,-1,-1.0000000000\n",
        "0.0000000000,diagnosis,man_1,1,0,29.8100951390,(none),-1,-1,-1.0000000000\n",
        "0.0000065722,monitoring,man_1,1,0,29.8101017112,(none),-1,-1,-1.0000000000,CD4,1080.9\n",
        "0.2519573432,chronicstage,man_1,1,0,30.0620524822,(none),-1,-1,-1.0000000000\n",
        "0.9900000000,intervention,(none),-1,-1,-1.0000000000,(none),-1,-1,-1.0000000000\n",
        "1.0000065722,monitoring,man_1,1,0,30.8101017112,(none),-1,-1,-1.0000000000,CD4,982.282\n",
        "1.0000065722,(treatment),man_1,1,0,30.8101017112,(none),-1,-1,-1.0000000000\n",
        "44.7499737111,aidsstage,man_1,1,0,74.5600688501,(none),-1,-1,-1.0000000000\n",
        "45.4999737111,finalaidsstage,man_1,1,0,75.3100688501,(none),-1,-1,-1.0000000000\n",
        "45.9999737111,aidsmortality,man_1,1,0,75.8100688501,(none),-1,-1,-1.0000000000,intreatment,1\n",
        "\n"
       ]
      }
     ],
     "prompt_number": 10
    },
    {
     "cell_type": "markdown",
     "metadata": {},
     "source": [
      "When the monitoring event is triggered at the simulation time of one year, the CD4 count is now\n",
      "below the (very high) threshold that we installed in the simulation intervention that happened\n",
      "right before. This causes the man to receive treatment, which in turn lowers his Vsp value.\n",
      "\n",
      "As you can see, because of this the man now continues to live for 45 more years. Also note that\n",
      "again one year and three months before dying, the AIDS stage event is triggered, and six months\n",
      "before dying, the final AIDS stage."
     ]
    },
    {
     "cell_type": "markdown",
     "metadata": {},
     "source": [
      "Treatment and dropout\n",
      "---------------------\n",
      "This final simulation corresponds to the example that was given in the documentation.\n",
      "As in the previous one, the person will get treated after one year, but now he will\n",
      "drop out of treatment ten years later again."
     ]
    },
    {
     "cell_type": "code",
     "collapsed": false,
     "input": [
      "intCfg = { \n",
      "    # This change in configuration will take place one year into the simulation\n",
      "    \"time\": 0.99,\n",
      "    # At that time the CD4 threshold is set to a very large value, so that during\n",
      "    # the next monitoring event the person will receive treatment\n",
      "    \"monitoring.cd4.threshold\": 100000,\n",
      "    # To make sure that the person drops out of treatment 10 years later, we \n",
      "    # fix this value\n",
      "    \"dropout.interval.dist.type\": \"fixed\",\n",
      "    \"dropout.interval.dist.fixed.value\": 10,\n",
      "    # To prevent a person from being re-diagnoses after dropout, we'll set the\n",
      "    # baselline value for this hazard to a very negative value (causes a very low\n",
      "    # hazard)\n",
      "    \"diagnosis.baseline\": -100,\n",
      "    # We're not interested in any more monitoring events, so we'll set the interval\n",
      "    # to 1000 years\n",
      "    \"monitoring.interval.piecewise.left\": 1000,\n",
      "    \"monitoring.interval.piecewise.right\": 1000,\n",
      "    \"monitoring.interval.piecewise.times\": 1000,\n",
      "}\n",
      "\n",
      "r = simpact.run(cfg, \"/tmp/simptest\", interventionConfig=[intCfg])"
     ],
     "language": "python",
     "metadata": {},
     "outputs": [
      {
       "output_type": "stream",
       "stream": "stdout",
       "text": [
        "Using identifier 'simpact-cyan-2015-05-27-09-58-01_27582_HPt1Qo6a-'\n",
        "Results will be stored in directory '/tmp/simptest'\n",
        "Running simpact executable...\n",
        "Done.\n",
        "\n",
        "# read seed from /dev/urandom\n",
        "# Using seed 513573549\n",
        "# Performing extra check on read configuration parameters\n",
        "# WARNING: ignoring consistency check for config key intervention.baseconfigname (config value is 'simpact-cyan-2015-05-27-09-58-01_27582_HPt1Qo6a-interventionconfig_%.txt')\n",
        "# WARNING: ignoring consistency check for config key intervention.fileids (config value is '1')\n",
        "# WARNING: ignoring consistency check for config key population.agedistfile (config value is '/usr/local/share/simpact-cyan/sa_2003.csv')\n",
        "# mNRM: using advanced algorithm\n",
        "# Release version\n",
        "# Simpact version is: 0.18.0\n",
        "# Error running simulation: No next scheduled event found: No event found\n",
        "# Current simulation time is 18\n",
        "# Number of events executed is 10\n",
        "# Started with 1 people, ending with 0 (difference is -1)\n"
       ]
      }
     ],
     "prompt_number": 11
    },
    {
     "cell_type": "code",
     "collapsed": false,
     "input": [
      "# Let's show the event log again\n",
      "print open(r[\"logevents\"]).read()"
     ],
     "language": "python",
     "metadata": {},
     "outputs": [
      {
       "output_type": "stream",
       "stream": "stdout",
       "text": [
        "0.0000000000,HIV seeding,(none),-1,-1,-1.0000000000,(none),-1,-1,-1.0000000000\n",
        "0.0000000000,diagnosis,man_1,1,0,32.8931507538,(none),-1,-1,-1.0000000000\n",
        "0.0000075811,monitoring,man_1,1,0,32.8931583349,(none),-1,-1,-1.0000000000,CD4,1102.89\n",
        "0.2521192669,chronicstage,man_1,1,0,33.1452700207,(none),-1,-1,-1.0000000000\n",
        "0.9900000000,intervention,(none),-1,-1,-1.0000000000,(none),-1,-1,-1.0000000000\n",
        "1.0000075811,monitoring,man_1,1,0,33.8931583349,(none),-1,-1,-1.0000000000,CD4,1002.41\n",
        "1.0000075811,(treatment),man_1,1,0,33.8931583349,(none),-1,-1,-1.0000000000\n",
        "11.0000075811,dropout,man_1,1,0,43.8931583349,(none),-1,-1,-1.0000000000\n",
        "16.7500000000,aidsstage,man_1,1,0,49.6431507538,(none),-1,-1,-1.0000000000\n",
        "17.5000000000,finalaidsstage,man_1,1,0,50.3931507538,(none),-1,-1,-1.0000000000\n",
        "18.0000000000,aidsmortality,man_1,1,0,50.8931507538,(none),-1,-1,-1.0000000000,intreatment,0\n",
        "\n"
       ]
      }
     ],
     "prompt_number": 12
    },
    {
     "cell_type": "markdown",
     "metadata": {},
     "source": [
      "The start of the simulation is the same as before and one year after getting infected,\n",
      "the man receives treatment. But now, ten years after that time, the man decides to\n",
      "drop out of treatment which causes his $V_{\\rm sp}$ value to go up again. Instead of\n",
      "living for tens of years afterwards, after dropping out only seven more years remain\n",
      "until the person dies of AIDS."
     ]
    }
   ],
   "metadata": {}
  }
 ]
}