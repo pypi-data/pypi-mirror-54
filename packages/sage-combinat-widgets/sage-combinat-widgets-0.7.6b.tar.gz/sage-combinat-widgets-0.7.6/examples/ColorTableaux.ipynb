{
 "cells": [
  {
   "cell_type": "code",
   "execution_count": null,
   "metadata": {},
   "outputs": [],
   "source": [
    "from sage.combinat.tableau import Tableau\n",
    "t = Tableau([[1,1,1,1,1],[1,1,1,1],[1,1,1],[1,1],[1]])"
   ]
  },
  {
   "cell_type": "code",
   "execution_count": null,
   "metadata": {},
   "outputs": [],
   "source": [
    "from sage_widget_adapters.combinat.tableau_grid_view_adapter import TableauGridViewAdapter\n",
    "class ColorTableauGVAdapter(TableauGridViewAdapter):\n",
    "    @staticmethod\n",
    "    def cell_to_display(cell_content, display_type):\n",
    "        if cell_content:\n",
    "            return False\n",
    "        return True\n",
    "    def display_to_cell(self, display_value, display_type):\n",
    "        if display_value == True:\n",
    "            return 0\n",
    "        return 1\n",
    "    @staticmethod\n",
    "    def addable_cells(obj):\n",
    "        return []\n",
    "    @classmethod\n",
    "    def remove_cell(cls, obj, pos):\n",
    "        # We pop all corners from pos to the right end\n",
    "        tl = super(ColorTableauGVAdapter, cls).remove_cell(obj, pos).to_list()\n",
    "        for c in cls.removable_cells(obj):\n",
    "            if c[1] > pos[1]:\n",
    "                tl[c[0]].pop()\n",
    "        try:\n",
    "            return cls.objclass(tl)\n",
    "        except:\n",
    "            print(\"Cell (%s,%s) cannot be removed from this object!\" % pos)\n",
    "            return obj\n",
    "        \n",
    "cta = ColorTableauGVAdapter()"
   ]
  },
  {
   "cell_type": "code",
   "execution_count": null,
   "metadata": {},
   "outputs": [],
   "source": [
    "%%html\n",
    "<style>.first {background-color: red}\n",
    ".second {background-color: yellow}\n",
    ".third {background-color: green}\n",
    ".blank {background-color: white}\n",
    "</style>"
   ]
  },
  {
   "cell_type": "code",
   "execution_count": null,
   "metadata": {},
   "outputs": [],
   "source": [
    "from sage_combinat_widgets.grid_view_widget import GridViewWidget, ButtonCell, BlankButton\n",
    "from ipywidgets import Layout\n",
    "blyt = Layout(width='25px',height='25px', margin='0', padding='0')\n",
    "class FirstButton(ButtonCell):\n",
    "    def __init__(self, content, position, layout, **kws):\n",
    "        super(FirstButton, self).__init__(False, position, **kws)\n",
    "        self.layout = blyt\n",
    "        self.add_class('first')\n",
    "class SecondButton(ButtonCell):\n",
    "    def __init__(self, content, position, layout, **kws):\n",
    "        super(SecondButton, self).__init__(False, position, **kws)\n",
    "        self.layout = blyt\n",
    "        self.add_class('second')\n",
    "class ThirdButton(ButtonCell):\n",
    "    def __init__(self, content, position, layout, **kws):\n",
    "        super(ThirdButton, self).__init__(False, position, **kws)\n",
    "        self.layout = blyt\n",
    "        self.add_class('third')\n",
    "class Blank(BlankButton):\n",
    "    def __init__(self, layout, **kws):\n",
    "        super(Blank, self).__init__(**kws)\n",
    "        self.layout = blyt\n",
    "        self.add_class('blank')\n",
    "w = GridViewWidget(t, cta, cell_layout=blyt, cell_widget_classes=[FirstButton], \n",
    "                   blank_widget_class=Blank,\n",
    "                   display_convention='fr')\n",
    "w"
   ]
  }
 ],
 "metadata": {
  "kernelspec": {
   "display_name": "SageMath 8.3",
   "language": "",
   "name": "sagemath"
  },
  "language_info": {
   "codemirror_mode": {
    "name": "ipython",
    "version": 2
   },
   "file_extension": ".py",
   "mimetype": "text/x-python",
   "name": "python",
   "nbconvert_exporter": "python",
   "pygments_lexer": "ipython2",
   "version": "2.7.15"
  }
 },
 "nbformat": 4,
 "nbformat_minor": 2
}
