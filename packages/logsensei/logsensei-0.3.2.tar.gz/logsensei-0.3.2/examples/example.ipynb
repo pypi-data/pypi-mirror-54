{
 "cells": [
  {
   "cell_type": "code",
   "execution_count": 1,
   "metadata": {},
   "outputs": [
    {
     "name": "stdout",
     "output_type": "stream",
     "text": [
      "/home/aditya/git/logsensei\n"
     ]
    }
   ],
   "source": [
    "%cd /home/aditya/git/logsensei"
   ]
  },
  {
   "cell_type": "code",
   "execution_count": 2,
   "metadata": {},
   "outputs": [],
   "source": [
    "import logsensei\n",
    "from logsensei import logger\n",
    "import pandas as pd\n",
    "import numpy as np"
   ]
  },
  {
   "cell_type": "code",
   "execution_count": 3,
   "metadata": {},
   "outputs": [
    {
     "name": "stderr",
     "output_type": "stream",
     "text": [
      "2019-10-27 13:25:30 | INFO | __main__:<module>:1 | Hello World\n",
      "2019-10-27 13:25:30 | WARNING | __main__:<module>:3 | Hello World\n",
      "2019-10-27 13:25:30 | ERROR | __main__:<module>:4 | Hello World\n",
      "2019-10-27 13:25:30 | CRITICAL | __main__:<module>:5 | Hello World\n"
     ]
    }
   ],
   "source": [
    "logger.info(\"Hello World\")\n",
    "logger.debug(\"Hello World\")\n",
    "logger.warning(\"Hello World\")\n",
    "logger.error(\"Hello World\")\n",
    "logger.critical(\"Hello World\")"
   ]
  },
  {
   "cell_type": "code",
   "execution_count": 4,
   "metadata": {},
   "outputs": [],
   "source": [
    "logger.setup('notebook', './examples/log', logsensei.DEBUG)"
   ]
  },
  {
   "cell_type": "code",
   "execution_count": 5,
   "metadata": {},
   "outputs": [
    {
     "name": "stderr",
     "output_type": "stream",
     "text": [
      "2019-10-27 13:25:30 | INFO | __main__:<module>:1 | Hello World\n",
      "2019-10-27 13:25:30 | WARNING | __main__:<module>:3 | Hello World\n",
      "2019-10-27 13:25:30 | ERROR | __main__:<module>:4 | Hello World\n",
      "2019-10-27 13:25:30 | CRITICAL | __main__:<module>:5 | Hello World\n"
     ]
    }
   ],
   "source": [
    "logger.info(\"Hello World\")\n",
    "logger.debug(\"Hello World\")\n",
    "logger.warning(\"Hello World\")\n",
    "logger.error(\"Hello World\")\n",
    "logger.critical(\"Hello World\")"
   ]
  },
  {
   "cell_type": "code",
   "execution_count": 6,
   "metadata": {},
   "outputs": [
    {
     "name": "stderr",
     "output_type": "stream",
     "text": [
      "2019-10-27 13:25:30 | INFO | __main__:<module>:2 | Hello Aditya\n"
     ]
    }
   ],
   "source": [
    "logger.create(\"template1\", \"Hello {}\")\n",
    "logger.apply(\"template1\", 'Aditya')"
   ]
  },
  {
   "cell_type": "code",
   "execution_count": 7,
   "metadata": {},
   "outputs": [],
   "source": [
    "df = pd.DataFrame({\n",
    "    'a': [1,2,3,4,np.nan],\n",
    "    'b': ['foo', 'bar', 'baz', np.nan, np.nan],\n",
    "    'c': [True, True, False, np.nan, np.nan],\n",
    "    'd': [1.0, 2.0, 3.0, 4.0, np.nan]\n",
    "})"
   ]
  },
  {
   "cell_type": "code",
   "execution_count": 8,
   "metadata": {},
   "outputs": [
    {
     "name": "stderr",
     "output_type": "stream",
     "text": [
      "2019-10-27 13:25:30 | INFO | __main__:<module>:1 | DataFrame sample_df shape : (5, 4)\n",
      "2019-10-27 13:25:30 | INFO | __main__:<module>:1 | DataFrame sample_df info:\n",
      "2019-10-27 13:25:30 | INFO | __main__:<module>:1 | a    4 non-null float64\n",
      "b    3 non-null object\n",
      "c    3 non-null object\n",
      "d    4 non-null float64\n"
     ]
    }
   ],
   "source": [
    "logger.df(df, \"sample_df\")"
   ]
  },
  {
   "cell_type": "code",
   "execution_count": 9,
   "metadata": {},
   "outputs": [
    {
     "name": "stderr",
     "output_type": "stream",
     "text": [
      "2019-10-27 13:25:30 | INFO | __main__:<module>:2 | Array d_array shape : (6,)\n",
      "2019-10-27 13:25:30 | INFO | __main__:<module>:2 | Array d_array unique values : {nan, 1.0, 2.0, 3.0}\n",
      "2019-10-27 13:25:30 | INFO | __main__:<module>:2 | Array d_array cardinality : 4\n",
      "2019-10-27 13:25:30 | INFO | __main__:<module>:2 | Array d_array missing values : 1 (16.67%)\n",
      "2019-10-27 13:25:30 | INFO | __main__:<module>:2 | Array d_array info : MEAN=2.2 | STD=0.7483314773547882 | MIN=1.0 | 25TH=2.0 | MEDIAN=2.0 | 75TH=3.0 | MAX=3.0\n"
     ]
    }
   ],
   "source": [
    "array = np.array([1, 2, 3, np.nan, 3, 2])\n",
    "logger.array(array, 'd_array')"
   ]
  },
  {
   "cell_type": "code",
   "execution_count": 12,
   "metadata": {},
   "outputs": [],
   "source": [
    "target_binary = np.random.choice([0,1], 100, True)\n",
    "pred_binary = np.random.choice([0,1], 100, True)"
   ]
  },
  {
   "cell_type": "code",
   "execution_count": 14,
   "metadata": {},
   "outputs": [
    {
     "name": "stderr",
     "output_type": "stream",
     "text": [
      "2019-10-27 13:26:36 | INFO | __main__:<module>:1 | Cancer Detection Classification Score\n",
      "2019-10-27 13:26:36 | INFO | __main__:<module>:1 | ====================\n",
      "2019-10-27 13:26:36 | INFO | __main__:<module>:1 | Accuracy Score : 0.46\n",
      "2019-10-27 13:26:36 | INFO | __main__:<module>:1 | Precision Score : 0.5111111111111111\n",
      "2019-10-27 13:26:36 | INFO | __main__:<module>:1 | Recall Score : 0.41818181818181815\n",
      "2019-10-27 13:26:36 | INFO | __main__:<module>:1 | F1 Score : 0.4599999999999999\n",
      "2019-10-27 13:26:36 | INFO | __main__:<module>:1 | ROC AUC Score : 0.46464646464646464\n"
     ]
    }
   ],
   "source": [
    "logger.classification(target_binary, pred_binary, \"Cancer Detection\")"
   ]
  },
  {
   "cell_type": "code",
   "execution_count": null,
   "metadata": {},
   "outputs": [],
   "source": []
  }
 ],
 "metadata": {
  "kernelspec": {
   "display_name": "Python 3",
   "language": "python",
   "name": "python3"
  },
  "language_info": {
   "codemirror_mode": {
    "name": "ipython",
    "version": 3
   },
   "file_extension": ".py",
   "mimetype": "text/x-python",
   "name": "python",
   "nbconvert_exporter": "python",
   "pygments_lexer": "ipython3",
   "version": "3.7.3"
  },
  "toc": {
   "base_numbering": 1,
   "nav_menu": {},
   "number_sections": true,
   "sideBar": true,
   "skip_h1_title": false,
   "title_cell": "Table of Contents",
   "title_sidebar": "Contents",
   "toc_cell": false,
   "toc_position": {},
   "toc_section_display": true,
   "toc_window_display": false
  }
 },
 "nbformat": 4,
 "nbformat_minor": 2
}
