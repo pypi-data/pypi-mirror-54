{
 "cells": [
  {
   "cell_type": "code",
   "execution_count": 1,
   "metadata": {},
   "outputs": [
    {
     "name": "stdout",
     "output_type": "stream",
     "text": [
      "/home/aditya/git/logsensei\n"
     ]
    }
   ],
   "source": [
    "%cd /home/aditya/git/logsensei"
   ]
  },
  {
   "cell_type": "code",
   "execution_count": 10,
   "metadata": {},
   "outputs": [],
   "source": [
    "from logsensei import logger\n",
    "import pandas as pd\n",
    "import numpy as np"
   ]
  },
  {
   "cell_type": "code",
   "execution_count": 6,
   "metadata": {},
   "outputs": [
    {
     "name": "stderr",
     "output_type": "stream",
     "text": [
      "2019-10-26 12:45:17 | INFO | __main__:<module>:1 | Hello World\n",
      "2019-10-26 12:45:17 | WARNING | __main__:<module>:3 | Hello World\n",
      "2019-10-26 12:45:17 | ERROR | __main__:<module>:4 | Hello World\n",
      "2019-10-26 12:45:17 | CRITICAL | __main__:<module>:5 | Hello World\n"
     ]
    }
   ],
   "source": [
    "logger.info(\"Hello World\")\n",
    "logger.debug(\"Hello World\")\n",
    "logger.warning(\"Hello World\")\n",
    "logger.error(\"Hello World\")\n",
    "logger.critical(\"Hello World\")"
   ]
  },
  {
   "cell_type": "code",
   "execution_count": 7,
   "metadata": {},
   "outputs": [
    {
     "name": "stderr",
     "output_type": "stream",
     "text": [
      "2019-10-26 12:45:46 | INFO | __main__:<module>:2 | Hello Aditya\n"
     ]
    }
   ],
   "source": [
    "logger.create(\"template1\", \"Hello {}\")\n",
    "logger.apply(\"template1\", 'Aditya')"
   ]
  },
  {
   "cell_type": "code",
   "execution_count": 11,
   "metadata": {},
   "outputs": [],
   "source": [
    "df = pd.DataFrame({\n",
    "    'a': [1,2,3,4,np.nan],\n",
    "    'b': ['foo', 'bar', 'baz', np.nan, np.nan],\n",
    "    'c': [True, True, False, np.nan, np.nan],\n",
    "    'd': [1.0, 2.0, 3.0, 4.0, np.nan]\n",
    "})"
   ]
  },
  {
   "cell_type": "code",
   "execution_count": 12,
   "metadata": {},
   "outputs": [
    {
     "name": "stderr",
     "output_type": "stream",
     "text": [
      "2019-10-26 12:46:36 | INFO | __main__:<module>:1 | DataFrame sample_df shape : (5, 4)\n",
      "2019-10-26 12:46:36 | INFO | __main__:<module>:1 | DataFrame sample_df info:\n",
      "2019-10-26 12:46:36 | INFO | __main__:<module>:1 | Data columns (total 4 columns):\n",
      "a    4 non-null float64\n",
      "b    3 non-null object\n",
      "c    3 non-null object\n",
      "d    4 non-null float64\n",
      "dtypes: float64(2), object(2)\n",
      "memory usage: 288.0+ bytes\n",
      "\n"
     ]
    }
   ],
   "source": [
    "logger.df(df, \"sample_df\")"
   ]
  },
  {
   "cell_type": "code",
   "execution_count": 13,
   "metadata": {},
   "outputs": [
    {
     "name": "stderr",
     "output_type": "stream",
     "text": [
      "2019-10-26 12:53:11 | INFO | __main__:<module>:1 | Array d_array shape : (5,)\n",
      "2019-10-26 12:53:11 | INFO | __main__:<module>:1 | Array d_array unique values : {nan, 1.0, 2.0, 3.0, 4.0}\n",
      "2019-10-26 12:53:11 | INFO | __main__:<module>:1 | Array d_array cardinality : 5\n",
      "2019-10-26 12:53:11 | INFO | __main__:<module>:1 | Array d_array missing values : 1 (20.00%)\n",
      "2019-10-26 12:53:11 | INFO | __main__:<module>:1 | Array d_array info : MEAN=2.5 | STD=1.118033988749895 | MIN=1.0 | 25TH=1.75 | MEDIAN=2.5 | 75TH=3.25 | MAX=4.0\n"
     ]
    }
   ],
   "source": [
    "logger.array(df.d.values, 'd_array')"
   ]
  },
  {
   "cell_type": "code",
   "execution_count": 17,
   "metadata": {},
   "outputs": [],
   "source": [
    "import io"
   ]
  },
  {
   "cell_type": "code",
   "execution_count": 34,
   "metadata": {},
   "outputs": [],
   "source": [
    "buf = io.StringIO()\n",
    "df.info(buf=buf)\n",
    "s = buf.getvalue()\n",
    "info = '\\n'.join(s.split('\\n')[3:-2])"
   ]
  },
  {
   "cell_type": "code",
   "execution_count": 35,
   "metadata": {},
   "outputs": [
    {
     "data": {
      "text/plain": [
       "'a    4 non-null float64\\nb    3 non-null object\\nc    3 non-null object\\nd    4 non-null float64\\ndtypes: float64(2), object(2)'"
      ]
     },
     "execution_count": 35,
     "metadata": {},
     "output_type": "execute_result"
    }
   ],
   "source": [
    "info"
   ]
  },
  {
   "cell_type": "code",
   "execution_count": null,
   "metadata": {},
   "outputs": [],
   "source": []
  }
 ],
 "metadata": {
  "kernelspec": {
   "display_name": "Python 3",
   "language": "python",
   "name": "python3"
  },
  "language_info": {
   "codemirror_mode": {
    "name": "ipython",
    "version": 3
   },
   "file_extension": ".py",
   "mimetype": "text/x-python",
   "name": "python",
   "nbconvert_exporter": "python",
   "pygments_lexer": "ipython3",
   "version": "3.7.4"
  },
  "toc": {
   "base_numbering": 1,
   "nav_menu": {},
   "number_sections": true,
   "sideBar": true,
   "skip_h1_title": false,
   "title_cell": "Table of Contents",
   "title_sidebar": "Contents",
   "toc_cell": false,
   "toc_position": {},
   "toc_section_display": true,
   "toc_window_display": false
  }
 },
 "nbformat": 4,
 "nbformat_minor": 2
}
