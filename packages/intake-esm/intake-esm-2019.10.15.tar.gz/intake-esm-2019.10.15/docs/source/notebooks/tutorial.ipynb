{
 "cells": [
  {
   "cell_type": "markdown",
   "metadata": {},
   "source": [
    "# Tutorial\n",
    "\n",
    "## Motivation\n",
    "\n",
    "\n",
    "Project efforts such as the [Coupled Model Intercomparison Project (CMIP)](https://www.wcrp-climate.org/wgcm-cmip) and the [Community Earth System Model (CESM) Large Ensemble Project](http://www.cesm.ucar.edu/projects/community-projects/LENS/) produce a huge of amount climate data persisted on tape, disk storage, object storage components across multiple (in the order of ~ 300,000) data assets. These data assets are stored in netCDF and more recently [Zarr](https://zarr.readthedocs.io/en/stable/) formats. Finding, investigating, loading these assets into data array containers such as xarray can be a daunting task due to the large number of files a user may be interested in. Intake-esm aims to address these issues by providing necessary functionality for searching, discovering, data access/loading. \n",
    "\n",
    "## Overview \n",
    "\n",
    "`intake-esm` is a data cataloging utility built on top of [intake](https://github.com/intake/intake), [pandas](https://pandas.pydata.org/), and [xarray](https://xarray.pydata.org/en/stable/), and it's pretty awesome! \n"
   ]
  },
  {
   "cell_type": "markdown",
   "metadata": {},
   "source": [
    "## Opening a collection\n",
    "\n",
    "First step is to point ``intake-esm`` to an ESM (Earth System Model) collection definition file, which is a JSON file that conforms to the [ESM Collection Specification](https://github.com/NCAR/esm-collection-spec). The collection JSON file can be stored on a local filesystem or can be hosted on a remote server. When provided a link/path to an esm collection file, `intake-esm` establishes a link to a database (CSV file) that contains assets (e.g. file) locations and associated metadata (i.e., which experiement, model, the come from). \n",
    "\n",
    "\n",
    "For demonstration purposes, we will be using the CMIP6 data hosted in Pangeo's Google Storage. For this data collection, we will be using the Pangeo cloud collection file stored [here](https://raw.githubusercontent.com/NCAR/intake-esm-datastore/master/catalogs/pangeo-cmip6.json).\n",
    "\n",
    "\n",
    "<div class=\"alert alert-info\">\n",
    "\n",
    "**Note:** \n",
    "    \n",
    "\n",
    "More collection examples are available in [intake-esm-datastore](https://github.com/NCAR/intake-esm-datastore) GitHub repository. \n",
    "    \n",
    "    \n",
    "</div>\n"
   ]
  },
  {
   "cell_type": "markdown",
   "metadata": {},
   "source": [
    "Because `intake-esm` is an `intake` plugin, the plugin automatically appears in the set of known\n",
    "plugins in the intake registry, and an associated ``intake.open_esm_datastore`` function is created at import time."
   ]
  },
  {
   "cell_type": "code",
   "execution_count": 1,
   "metadata": {},
   "outputs": [],
   "source": [
    "import intake"
   ]
  },
  {
   "cell_type": "code",
   "execution_count": 2,
   "metadata": {},
   "outputs": [
    {
     "data": {
      "text/plain": [
       "{'yaml_file_cat': intake.catalog.local.YAMLFileCatalog,\n",
       " 'yaml_files_cat': intake.catalog.local.YAMLFilesCatalog,\n",
       " 'remote-xarray': intake_xarray.xarray_container.RemoteXarray,\n",
       " 'netcdf': intake_xarray.netcdf.NetCDFSource,\n",
       " 'opendap': intake_xarray.opendap.OpenDapSource,\n",
       " 'rasterio': intake_xarray.raster.RasterIOSource,\n",
       " 'xarray_image': intake_xarray.image.ImageSource,\n",
       " 'zarr': intake_xarray.xzarr.ZarrSource,\n",
       " 'catalog': intake.catalog.base.Catalog,\n",
       " 'csv': intake.source.csv.CSVSource,\n",
       " 'intake_remote': intake.catalog.base.RemoteCatalog,\n",
       " 'ndzarr': intake.source.zarr.ZarrArraySource,\n",
       " 'numpy': intake.source.npy.NPySource,\n",
       " 'textfiles': intake.source.textfiles.TextFilesSource,\n",
       " 'esm_datastore': intake_esm.core.esm_datastore}"
      ]
     },
     "execution_count": 2,
     "metadata": {},
     "output_type": "execute_result"
    }
   ],
   "source": [
    "intake.registry"
   ]
  },
  {
   "cell_type": "markdown",
   "metadata": {},
   "source": [
    "Let's now open a collection catalog for CMIP6 data residing in Pangeo's Google storage. "
   ]
  },
  {
   "cell_type": "code",
   "execution_count": 3,
   "metadata": {},
   "outputs": [
    {
     "data": {
      "text/plain": [
       "pangeo-cmip6-ESM Collection with 28335 entries:\n",
       "\t> 10 activity_id(s)\n",
       "\n",
       "\t> 23 institution_id(s)\n",
       "\n",
       "\t> 48 source_id(s)\n",
       "\n",
       "\t> 29 experiment_id(s)\n",
       "\n",
       "\t> 86 member_id(s)\n",
       "\n",
       "\t> 22 table_id(s)\n",
       "\n",
       "\t> 189 variable_id(s)\n",
       "\n",
       "\t> 7 grid_label(s)\n",
       "\n",
       "\t> 28335 zstore(s)\n",
       "\n",
       "\t> 59 dcpp_init_year(s)"
      ]
     },
     "execution_count": 3,
     "metadata": {},
     "output_type": "execute_result"
    }
   ],
   "source": [
    "url = \"https://raw.githubusercontent.com/NCAR/intake-esm-datastore/master/catalogs/pangeo-cmip6.json\"\n",
    "col = intake.open_esm_datastore(url)\n",
    "col"
   ]
  },
  {
   "cell_type": "markdown",
   "metadata": {},
   "source": [
    "Since `intake-esm` is build on top of [pandas](https://pandas.pydata.org/pandas-docs/stable), it is possible to view the `pandas.DataFrame` as follows."
   ]
  },
  {
   "cell_type": "code",
   "execution_count": 4,
   "metadata": {},
   "outputs": [
    {
     "data": {
      "text/html": [
       "<div>\n",
       "<style scoped>\n",
       "    .dataframe tbody tr th:only-of-type {\n",
       "        vertical-align: middle;\n",
       "    }\n",
       "\n",
       "    .dataframe tbody tr th {\n",
       "        vertical-align: top;\n",
       "    }\n",
       "\n",
       "    .dataframe thead th {\n",
       "        text-align: right;\n",
       "    }\n",
       "</style>\n",
       "<table border=\"1\" class=\"dataframe\">\n",
       "  <thead>\n",
       "    <tr style=\"text-align: right;\">\n",
       "      <th></th>\n",
       "      <th>activity_id</th>\n",
       "      <th>institution_id</th>\n",
       "      <th>source_id</th>\n",
       "      <th>experiment_id</th>\n",
       "      <th>member_id</th>\n",
       "      <th>table_id</th>\n",
       "      <th>variable_id</th>\n",
       "      <th>grid_label</th>\n",
       "      <th>zstore</th>\n",
       "      <th>dcpp_init_year</th>\n",
       "    </tr>\n",
       "  </thead>\n",
       "  <tbody>\n",
       "    <tr>\n",
       "      <td>0</td>\n",
       "      <td>AerChemMIP</td>\n",
       "      <td>BCC</td>\n",
       "      <td>BCC-ESM1</td>\n",
       "      <td>ssp370</td>\n",
       "      <td>r1i1p1f1</td>\n",
       "      <td>Amon</td>\n",
       "      <td>pr</td>\n",
       "      <td>gn</td>\n",
       "      <td>gs://cmip6/AerChemMIP/BCC/BCC-ESM1/ssp370/r1i1...</td>\n",
       "      <td>NaN</td>\n",
       "    </tr>\n",
       "    <tr>\n",
       "      <td>1</td>\n",
       "      <td>AerChemMIP</td>\n",
       "      <td>BCC</td>\n",
       "      <td>BCC-ESM1</td>\n",
       "      <td>ssp370</td>\n",
       "      <td>r1i1p1f1</td>\n",
       "      <td>Amon</td>\n",
       "      <td>prsn</td>\n",
       "      <td>gn</td>\n",
       "      <td>gs://cmip6/AerChemMIP/BCC/BCC-ESM1/ssp370/r1i1...</td>\n",
       "      <td>NaN</td>\n",
       "    </tr>\n",
       "    <tr>\n",
       "      <td>2</td>\n",
       "      <td>AerChemMIP</td>\n",
       "      <td>BCC</td>\n",
       "      <td>BCC-ESM1</td>\n",
       "      <td>ssp370</td>\n",
       "      <td>r1i1p1f1</td>\n",
       "      <td>Amon</td>\n",
       "      <td>tas</td>\n",
       "      <td>gn</td>\n",
       "      <td>gs://cmip6/AerChemMIP/BCC/BCC-ESM1/ssp370/r1i1...</td>\n",
       "      <td>NaN</td>\n",
       "    </tr>\n",
       "    <tr>\n",
       "      <td>3</td>\n",
       "      <td>AerChemMIP</td>\n",
       "      <td>BCC</td>\n",
       "      <td>BCC-ESM1</td>\n",
       "      <td>ssp370</td>\n",
       "      <td>r1i1p1f1</td>\n",
       "      <td>Amon</td>\n",
       "      <td>tasmax</td>\n",
       "      <td>gn</td>\n",
       "      <td>gs://cmip6/AerChemMIP/BCC/BCC-ESM1/ssp370/r1i1...</td>\n",
       "      <td>NaN</td>\n",
       "    </tr>\n",
       "    <tr>\n",
       "      <td>4</td>\n",
       "      <td>AerChemMIP</td>\n",
       "      <td>BCC</td>\n",
       "      <td>BCC-ESM1</td>\n",
       "      <td>ssp370</td>\n",
       "      <td>r1i1p1f1</td>\n",
       "      <td>Amon</td>\n",
       "      <td>tasmin</td>\n",
       "      <td>gn</td>\n",
       "      <td>gs://cmip6/AerChemMIP/BCC/BCC-ESM1/ssp370/r1i1...</td>\n",
       "      <td>NaN</td>\n",
       "    </tr>\n",
       "  </tbody>\n",
       "</table>\n",
       "</div>"
      ],
      "text/plain": [
       "  activity_id institution_id source_id experiment_id member_id table_id  \\\n",
       "0  AerChemMIP            BCC  BCC-ESM1        ssp370  r1i1p1f1     Amon   \n",
       "1  AerChemMIP            BCC  BCC-ESM1        ssp370  r1i1p1f1     Amon   \n",
       "2  AerChemMIP            BCC  BCC-ESM1        ssp370  r1i1p1f1     Amon   \n",
       "3  AerChemMIP            BCC  BCC-ESM1        ssp370  r1i1p1f1     Amon   \n",
       "4  AerChemMIP            BCC  BCC-ESM1        ssp370  r1i1p1f1     Amon   \n",
       "\n",
       "  variable_id grid_label                                             zstore  \\\n",
       "0          pr         gn  gs://cmip6/AerChemMIP/BCC/BCC-ESM1/ssp370/r1i1...   \n",
       "1        prsn         gn  gs://cmip6/AerChemMIP/BCC/BCC-ESM1/ssp370/r1i1...   \n",
       "2         tas         gn  gs://cmip6/AerChemMIP/BCC/BCC-ESM1/ssp370/r1i1...   \n",
       "3      tasmax         gn  gs://cmip6/AerChemMIP/BCC/BCC-ESM1/ssp370/r1i1...   \n",
       "4      tasmin         gn  gs://cmip6/AerChemMIP/BCC/BCC-ESM1/ssp370/r1i1...   \n",
       "\n",
       "   dcpp_init_year  \n",
       "0             NaN  \n",
       "1             NaN  \n",
       "2             NaN  \n",
       "3             NaN  \n",
       "4             NaN  "
      ]
     },
     "execution_count": 4,
     "metadata": {},
     "output_type": "execute_result"
    }
   ],
   "source": [
    "col.df.head()"
   ]
  },
  {
   "cell_type": "markdown",
   "metadata": {},
   "source": [
    "It is possible to interact with the `DataFrame`; for instance, we can see what the \"attributes\" of the datasets are by printing the columns."
   ]
  },
  {
   "cell_type": "code",
   "execution_count": 5,
   "metadata": {},
   "outputs": [
    {
     "data": {
      "text/plain": [
       "Index(['activity_id', 'institution_id', 'source_id', 'experiment_id',\n",
       "       'member_id', 'table_id', 'variable_id', 'grid_label', 'zstore',\n",
       "       'dcpp_init_year'],\n",
       "      dtype='object')"
      ]
     },
     "execution_count": 5,
     "metadata": {},
     "output_type": "execute_result"
    }
   ],
   "source": [
    "col.df.columns"
   ]
  },
  {
   "cell_type": "markdown",
   "metadata": {},
   "source": [
    "## Search and discovery\n",
    "\n",
    "### Finding unique entries\n",
    "Let's query the data to see what models (\"source_id\"), experiments (\"experiment_id\") and temporal frequencies (\"table_id\") are available."
   ]
  },
  {
   "cell_type": "code",
   "execution_count": 6,
   "metadata": {},
   "outputs": [
    {
     "name": "stdout",
     "output_type": "stream",
     "text": [
      "{'experiment_id': {'count': 29,\n",
      "                   'values': ['ssp370', 'esm-ssp585', '1pctCO2-bgc', 'hist-bgc',\n",
      "                              '1pctCO2', 'abrupt-4xCO2', 'historical',\n",
      "                              'piControl', 'amip', 'esm-hist', 'esm-piControl',\n",
      "                              'hist-GHG', 'hist-aer', 'hist-nat', 'dcppA-assim',\n",
      "                              'dcppA-hindcast', 'dcppC-hindcast-noAgung',\n",
      "                              'dcppC-hindcast-noElChichon',\n",
      "                              'dcppC-hindcast-noPinatubo', 'highresSST-present',\n",
      "                              'control-1950', 'hist-1950', 'deforest-globe',\n",
      "                              'esm-ssp585-ssp126Lu', 'omip1', 'lgm', 'ssp126',\n",
      "                              'ssp245', 'ssp585']},\n",
      " 'source_id': {'count': 48,\n",
      "               'values': ['BCC-ESM1', 'BCC-CSM2-MR', 'CanESM5', 'UKESM1-0-LL',\n",
      "                          'CESM2', 'GFDL-ESM4', 'AWI-CM-1-1-MR', 'CAMS-CSM1-0',\n",
      "                          'FGOALS-f3-L', 'FGOALS-g3', 'CNRM-CM6-1',\n",
      "                          'CNRM-ESM2-1', 'E3SM-1-0', 'EC-Earth3-LR',\n",
      "                          'EC-Earth3-Veg', 'EC-Earth3', 'FIO-ESM-2-0',\n",
      "                          'IPSL-CM6A-LR', 'MIROC-ES2L', 'MIROC6',\n",
      "                          'HadGEM3-GC31-LL', 'HadGEM3-GC31-MM', 'MRI-ESM2-0',\n",
      "                          'GISS-E2-1-G-CC', 'GISS-E2-1-G', 'GISS-E2-1-H',\n",
      "                          'CESM2-WACCM', 'NorCPM1', 'GFDL-AM4', 'GFDL-CM4',\n",
      "                          'NESM3', 'SAM0-UNICON', 'MCM-UA-1-0', 'CMCC-CM2-HR4',\n",
      "                          'CMCC-CM2-VHR4', 'CNRM-CM6-1-HR', 'ECMWF-IFS-HR',\n",
      "                          'ECMWF-IFS-LR', 'IPSL-CM6A-ATM-HR', 'NICAM16-7S',\n",
      "                          'NICAM16-8S', 'NICAM16-9S', 'HadGEM3-GC31-HM',\n",
      "                          'HadGEM3-GC31-LM', 'MRI-AGCM3-2-H', 'MRI-AGCM3-2-S',\n",
      "                          'GFDL-CM4C192', 'MPI-ESM1-2-HR']},\n",
      " 'table_id': {'count': 22,\n",
      "              'values': ['Amon', 'Lmon', 'Oyr', 'Omon', 'SImon', 'day', '3hr',\n",
      "                         '6hrLev', 'LImon', 'Aclim', 'Ofx', 'fx', 'Emon',\n",
      "                         '6hrPlev', 'SIclim', 'Oclim', 'Eclim', 'AERmon',\n",
      "                         'ImonGre', '6hrPlevPt', 'CF3hr', 'E3hr']}}\n"
     ]
    }
   ],
   "source": [
    "import pprint \n",
    "uni_dict = col.unique(['source_id', 'experiment_id', 'table_id'])\n",
    "pprint.pprint(uni_dict, compact=True)"
   ]
  },
  {
   "cell_type": "markdown",
   "metadata": {},
   "source": [
    "### Searching for specific datasets\n",
    "\n",
    "\n",
    "One of the features supported in ``intake-esm`` is querying the collection catalog.\n",
    "This feature is provided via the ``search()`` method. The ``search()`` method allows the user to\n",
    "specify a query by using keyword arguments. This method returns a subset of the collection catalog\n",
    "with all the entries that match the provided query.\n",
    "\n",
    "Let's find all the dissolved oxygen data at annual frequency from the ocean for the `historical` and `ssp585` experiments."
   ]
  },
  {
   "cell_type": "code",
   "execution_count": 7,
   "metadata": {},
   "outputs": [
    {
     "name": "stdout",
     "output_type": "stream",
     "text": [
      "CPU times: user 116 ms, sys: 16 ms, total: 132 ms\n",
      "Wall time: 463 ms\n"
     ]
    },
    {
     "data": {
      "text/html": [
       "<div>\n",
       "<style scoped>\n",
       "    .dataframe tbody tr th:only-of-type {\n",
       "        vertical-align: middle;\n",
       "    }\n",
       "\n",
       "    .dataframe tbody tr th {\n",
       "        vertical-align: top;\n",
       "    }\n",
       "\n",
       "    .dataframe thead th {\n",
       "        text-align: right;\n",
       "    }\n",
       "</style>\n",
       "<table border=\"1\" class=\"dataframe\">\n",
       "  <thead>\n",
       "    <tr style=\"text-align: right;\">\n",
       "      <th></th>\n",
       "      <th>activity_id</th>\n",
       "      <th>institution_id</th>\n",
       "      <th>source_id</th>\n",
       "      <th>experiment_id</th>\n",
       "      <th>member_id</th>\n",
       "      <th>table_id</th>\n",
       "      <th>variable_id</th>\n",
       "      <th>grid_label</th>\n",
       "      <th>zstore</th>\n",
       "      <th>dcpp_init_year</th>\n",
       "    </tr>\n",
       "  </thead>\n",
       "  <tbody>\n",
       "    <tr>\n",
       "      <td>1456</td>\n",
       "      <td>CMIP</td>\n",
       "      <td>CCCma</td>\n",
       "      <td>CanESM5</td>\n",
       "      <td>historical</td>\n",
       "      <td>r10i1p1f1</td>\n",
       "      <td>Oyr</td>\n",
       "      <td>o2</td>\n",
       "      <td>gn</td>\n",
       "      <td>gs://cmip6/CMIP/CCCma/CanESM5/historical/r10i1...</td>\n",
       "      <td>NaN</td>\n",
       "    </tr>\n",
       "    <tr>\n",
       "      <td>1525</td>\n",
       "      <td>CMIP</td>\n",
       "      <td>CCCma</td>\n",
       "      <td>CanESM5</td>\n",
       "      <td>historical</td>\n",
       "      <td>r10i1p2f1</td>\n",
       "      <td>Oyr</td>\n",
       "      <td>o2</td>\n",
       "      <td>gn</td>\n",
       "      <td>gs://cmip6/CMIP/CCCma/CanESM5/historical/r10i1...</td>\n",
       "      <td>NaN</td>\n",
       "    </tr>\n",
       "    <tr>\n",
       "      <td>1595</td>\n",
       "      <td>CMIP</td>\n",
       "      <td>CCCma</td>\n",
       "      <td>CanESM5</td>\n",
       "      <td>historical</td>\n",
       "      <td>r11i1p1f1</td>\n",
       "      <td>Oyr</td>\n",
       "      <td>o2</td>\n",
       "      <td>gn</td>\n",
       "      <td>gs://cmip6/CMIP/CCCma/CanESM5/historical/r11i1...</td>\n",
       "      <td>NaN</td>\n",
       "    </tr>\n",
       "    <tr>\n",
       "      <td>1690</td>\n",
       "      <td>CMIP</td>\n",
       "      <td>CCCma</td>\n",
       "      <td>CanESM5</td>\n",
       "      <td>historical</td>\n",
       "      <td>r12i1p1f1</td>\n",
       "      <td>Oyr</td>\n",
       "      <td>o2</td>\n",
       "      <td>gn</td>\n",
       "      <td>gs://cmip6/CMIP/CCCma/CanESM5/historical/r12i1...</td>\n",
       "      <td>NaN</td>\n",
       "    </tr>\n",
       "    <tr>\n",
       "      <td>1785</td>\n",
       "      <td>CMIP</td>\n",
       "      <td>CCCma</td>\n",
       "      <td>CanESM5</td>\n",
       "      <td>historical</td>\n",
       "      <td>r13i1p1f1</td>\n",
       "      <td>Oyr</td>\n",
       "      <td>o2</td>\n",
       "      <td>gn</td>\n",
       "      <td>gs://cmip6/CMIP/CCCma/CanESM5/historical/r13i1...</td>\n",
       "      <td>NaN</td>\n",
       "    </tr>\n",
       "    <tr>\n",
       "      <td>...</td>\n",
       "      <td>...</td>\n",
       "      <td>...</td>\n",
       "      <td>...</td>\n",
       "      <td>...</td>\n",
       "      <td>...</td>\n",
       "      <td>...</td>\n",
       "      <td>...</td>\n",
       "      <td>...</td>\n",
       "      <td>...</td>\n",
       "      <td>...</td>\n",
       "    </tr>\n",
       "    <tr>\n",
       "      <td>23722</td>\n",
       "      <td>ScenarioMIP</td>\n",
       "      <td>CCCma</td>\n",
       "      <td>CanESM5</td>\n",
       "      <td>ssp585</td>\n",
       "      <td>r9i1p2f1</td>\n",
       "      <td>Oyr</td>\n",
       "      <td>o2</td>\n",
       "      <td>gn</td>\n",
       "      <td>gs://cmip6/ScenarioMIP/CCCma/CanESM5/ssp585/r9...</td>\n",
       "      <td>NaN</td>\n",
       "    </tr>\n",
       "    <tr>\n",
       "      <td>25402</td>\n",
       "      <td>ScenarioMIP</td>\n",
       "      <td>DKRZ</td>\n",
       "      <td>MPI-ESM1-2-HR</td>\n",
       "      <td>ssp585</td>\n",
       "      <td>r1i1p1f1</td>\n",
       "      <td>Oyr</td>\n",
       "      <td>o2</td>\n",
       "      <td>gn</td>\n",
       "      <td>gs://cmip6/ScenarioMIP/DKRZ/MPI-ESM1-2-HR/ssp5...</td>\n",
       "      <td>NaN</td>\n",
       "    </tr>\n",
       "    <tr>\n",
       "      <td>25876</td>\n",
       "      <td>ScenarioMIP</td>\n",
       "      <td>IPSL</td>\n",
       "      <td>IPSL-CM6A-LR</td>\n",
       "      <td>ssp585</td>\n",
       "      <td>r1i1p1f1</td>\n",
       "      <td>Oyr</td>\n",
       "      <td>o2</td>\n",
       "      <td>gn</td>\n",
       "      <td>gs://cmip6/ScenarioMIP/IPSL/IPSL-CM6A-LR/ssp58...</td>\n",
       "      <td>NaN</td>\n",
       "    </tr>\n",
       "    <tr>\n",
       "      <td>26052</td>\n",
       "      <td>ScenarioMIP</td>\n",
       "      <td>MIROC</td>\n",
       "      <td>MIROC-ES2L</td>\n",
       "      <td>ssp585</td>\n",
       "      <td>r1i1p1f2</td>\n",
       "      <td>Oyr</td>\n",
       "      <td>o2</td>\n",
       "      <td>gn</td>\n",
       "      <td>gs://cmip6/ScenarioMIP/MIROC/MIROC-ES2L/ssp585...</td>\n",
       "      <td>NaN</td>\n",
       "    </tr>\n",
       "    <tr>\n",
       "      <td>28055</td>\n",
       "      <td>ScenarioMIP</td>\n",
       "      <td>NCAR</td>\n",
       "      <td>CESM2</td>\n",
       "      <td>ssp585</td>\n",
       "      <td>r2i1p1f1</td>\n",
       "      <td>Oyr</td>\n",
       "      <td>o2</td>\n",
       "      <td>gn</td>\n",
       "      <td>gs://cmip6/ScenarioMIP/NCAR/CESM2/ssp585/r2i1p...</td>\n",
       "      <td>NaN</td>\n",
       "    </tr>\n",
       "  </tbody>\n",
       "</table>\n",
       "<p>97 rows × 10 columns</p>\n",
       "</div>"
      ],
      "text/plain": [
       "       activity_id institution_id      source_id experiment_id  member_id  \\\n",
       "1456          CMIP          CCCma        CanESM5    historical  r10i1p1f1   \n",
       "1525          CMIP          CCCma        CanESM5    historical  r10i1p2f1   \n",
       "1595          CMIP          CCCma        CanESM5    historical  r11i1p1f1   \n",
       "1690          CMIP          CCCma        CanESM5    historical  r12i1p1f1   \n",
       "1785          CMIP          CCCma        CanESM5    historical  r13i1p1f1   \n",
       "...            ...            ...            ...           ...        ...   \n",
       "23722  ScenarioMIP          CCCma        CanESM5        ssp585   r9i1p2f1   \n",
       "25402  ScenarioMIP           DKRZ  MPI-ESM1-2-HR        ssp585   r1i1p1f1   \n",
       "25876  ScenarioMIP           IPSL   IPSL-CM6A-LR        ssp585   r1i1p1f1   \n",
       "26052  ScenarioMIP          MIROC     MIROC-ES2L        ssp585   r1i1p1f2   \n",
       "28055  ScenarioMIP           NCAR          CESM2        ssp585   r2i1p1f1   \n",
       "\n",
       "      table_id variable_id grid_label  \\\n",
       "1456       Oyr          o2         gn   \n",
       "1525       Oyr          o2         gn   \n",
       "1595       Oyr          o2         gn   \n",
       "1690       Oyr          o2         gn   \n",
       "1785       Oyr          o2         gn   \n",
       "...        ...         ...        ...   \n",
       "23722      Oyr          o2         gn   \n",
       "25402      Oyr          o2         gn   \n",
       "25876      Oyr          o2         gn   \n",
       "26052      Oyr          o2         gn   \n",
       "28055      Oyr          o2         gn   \n",
       "\n",
       "                                                  zstore  dcpp_init_year  \n",
       "1456   gs://cmip6/CMIP/CCCma/CanESM5/historical/r10i1...             NaN  \n",
       "1525   gs://cmip6/CMIP/CCCma/CanESM5/historical/r10i1...             NaN  \n",
       "1595   gs://cmip6/CMIP/CCCma/CanESM5/historical/r11i1...             NaN  \n",
       "1690   gs://cmip6/CMIP/CCCma/CanESM5/historical/r12i1...             NaN  \n",
       "1785   gs://cmip6/CMIP/CCCma/CanESM5/historical/r13i1...             NaN  \n",
       "...                                                  ...             ...  \n",
       "23722  gs://cmip6/ScenarioMIP/CCCma/CanESM5/ssp585/r9...             NaN  \n",
       "25402  gs://cmip6/ScenarioMIP/DKRZ/MPI-ESM1-2-HR/ssp5...             NaN  \n",
       "25876  gs://cmip6/ScenarioMIP/IPSL/IPSL-CM6A-LR/ssp58...             NaN  \n",
       "26052  gs://cmip6/ScenarioMIP/MIROC/MIROC-ES2L/ssp585...             NaN  \n",
       "28055  gs://cmip6/ScenarioMIP/NCAR/CESM2/ssp585/r2i1p...             NaN  \n",
       "\n",
       "[97 rows x 10 columns]"
      ]
     },
     "execution_count": 7,
     "metadata": {},
     "output_type": "execute_result"
    }
   ],
   "source": [
    "%%time\n",
    "cat = col.search(experiment_id=['historical', 'ssp585'], table_id='Oyr', variable_id='o2', \n",
    "                 grid_label='gn')\n",
    "cat.df"
   ]
  },
  {
   "cell_type": "code",
   "execution_count": 8,
   "metadata": {},
   "outputs": [
    {
     "data": {
      "text/plain": [
       "(97, 28335)"
      ]
     },
     "execution_count": 8,
     "metadata": {},
     "output_type": "execute_result"
    }
   ],
   "source": [
    "len(cat.df), len(col.df)"
   ]
  },
  {
   "cell_type": "markdown",
   "metadata": {},
   "source": [
    "You can get summary information by using `.nunique()` and `.unique()` methods:"
   ]
  },
  {
   "cell_type": "code",
   "execution_count": 9,
   "metadata": {},
   "outputs": [
    {
     "name": "stdout",
     "output_type": "stream",
     "text": [
      "{   'activity_id': {'count': 2, 'values': ['CMIP', 'ScenarioMIP']},\n",
      "    'source_id': {   'count': 6,\n",
      "                     'values': [   'CanESM5',\n",
      "                                   'IPSL-CM6A-LR',\n",
      "                                   'MIROC-ES2L',\n",
      "                                   'CESM2-WACCM',\n",
      "                                   'MPI-ESM1-2-HR',\n",
      "                                   'CESM2']}}\n"
     ]
    }
   ],
   "source": [
    "pprint.pprint(cat.unique(columns=[\"source_id\", \"activity_id\"]), indent=4)"
   ]
  },
  {
   "cell_type": "code",
   "execution_count": 10,
   "metadata": {},
   "outputs": [
    {
     "data": {
      "text/plain": [
       "activity_id        2\n",
       "institution_id     5\n",
       "source_id          6\n",
       "experiment_id      2\n",
       "member_id         45\n",
       "table_id           1\n",
       "variable_id        1\n",
       "grid_label         1\n",
       "zstore            97\n",
       "dcpp_init_year     0\n",
       "dtype: int64"
      ]
     },
     "execution_count": 10,
     "metadata": {},
     "output_type": "execute_result"
    }
   ],
   "source": [
    "cat.nunique()"
   ]
  },
  {
   "cell_type": "markdown",
   "metadata": {},
   "source": [
    "## Loading data\n",
    "\n",
    "The best part about `intake-esm` is that it enables loading data directly into an [xarray.Dataset](http://xarray.pydata.org/en/stable/api.html#dataset).\n",
    "\n",
    "Note that data on the cloud are in \n",
    "[zarr](https://zarr.readthedocs.io/en/stable/) and data on \n",
    "[glade](https://www2.cisl.ucar.edu/resources/storage-and-file-systems/glade-file-spaces) are stored as \n",
    "[netCDF](https://www.unidata.ucar.edu/software/netcdf/) files. This is opaque to the user!\n",
    "\n",
    "`intake-esm` has rules for aggegating datasets; these rules are defined in the collection-specification file."
   ]
  },
  {
   "cell_type": "code",
   "execution_count": 11,
   "metadata": {},
   "outputs": [
    {
     "name": "stdout",
     "output_type": "stream",
     "text": [
      "--> The keys in the returned dictionary of datasets are constructed as follows:\n",
      "\t'activity_id.institution_id.source_id.experiment_id.table_id.grid_label'\n",
      "\n",
      "--> There will be 9 group(s)\n"
     ]
    }
   ],
   "source": [
    "dset_dict = cat.to_dataset_dict(zarr_kwargs={'consolidated': True, 'decode_times': False}, \n",
    "                                cdf_kwargs={'chunks': {}, 'decode_times': False})"
   ]
  },
  {
   "cell_type": "markdown",
   "metadata": {},
   "source": [
    "`dset_dict` is a dictionary of `xarray.Dataset`'s; its keys are constructed to refer to compatible groups."
   ]
  },
  {
   "cell_type": "code",
   "execution_count": 12,
   "metadata": {},
   "outputs": [
    {
     "data": {
      "text/plain": [
       "dict_keys(['CMIP.CCCma.CanESM5.historical.Oyr.gn', 'CMIP.IPSL.IPSL-CM6A-LR.historical.Oyr.gn', 'CMIP.MIROC.MIROC-ES2L.historical.Oyr.gn', 'CMIP.NCAR.CESM2-WACCM.historical.Oyr.gn', 'ScenarioMIP.CCCma.CanESM5.ssp585.Oyr.gn', 'ScenarioMIP.DKRZ.MPI-ESM1-2-HR.ssp585.Oyr.gn', 'ScenarioMIP.IPSL.IPSL-CM6A-LR.ssp585.Oyr.gn', 'ScenarioMIP.MIROC.MIROC-ES2L.ssp585.Oyr.gn', 'ScenarioMIP.NCAR.CESM2.ssp585.Oyr.gn'])"
      ]
     },
     "execution_count": 12,
     "metadata": {},
     "output_type": "execute_result"
    }
   ],
   "source": [
    "dset_dict.keys()"
   ]
  },
  {
   "cell_type": "markdown",
   "metadata": {},
   "source": [
    "We can access a particular dataset as follows:"
   ]
  },
  {
   "cell_type": "code",
   "execution_count": 13,
   "metadata": {},
   "outputs": [
    {
     "data": {
      "text/plain": [
       "<xarray.Dataset>\n",
       "Dimensions:             (bnds: 2, i: 360, j: 291, lev: 45, member_id: 35, time: 165, vertices: 4)\n",
       "Coordinates:\n",
       "  * i                   (i) int32 0 1 2 3 4 5 6 ... 353 354 355 356 357 358 359\n",
       "  * j                   (j) int32 0 1 2 3 4 5 6 ... 284 285 286 287 288 289 290\n",
       "  * lev                 (lev) float64 3.047 9.454 16.36 ... 5.375e+03 5.625e+03\n",
       "  * time                (time) float64 182.5 547.5 912.5 ... 5.968e+04 6.004e+04\n",
       "  * member_id           (member_id) <U9 'r10i1p1f1' 'r10i1p2f1' ... 'r9i1p2f1'\n",
       "Dimensions without coordinates: bnds, vertices\n",
       "Data variables:\n",
       "    time_bnds           (time, bnds) float64 dask.array<chunksize=(165, 2), meta=np.ndarray>\n",
       "    vertices_longitude  (j, i, vertices) float64 dask.array<chunksize=(291, 360, 4), meta=np.ndarray>\n",
       "    latitude            (j, i) float64 dask.array<chunksize=(291, 360), meta=np.ndarray>\n",
       "    longitude           (j, i) float64 dask.array<chunksize=(291, 360), meta=np.ndarray>\n",
       "    lev_bnds            (lev, bnds) float64 dask.array<chunksize=(45, 2), meta=np.ndarray>\n",
       "    vertices_latitude   (j, i, vertices) float64 dask.array<chunksize=(291, 360, 4), meta=np.ndarray>\n",
       "    o2                  (member_id, time, lev, j, i) float32 dask.array<chunksize=(1, 12, 45, 291, 360), meta=np.ndarray>\n",
       "Attributes:\n",
       "    parent_time_units:           days since 1850-01-01 0:0:0.0\n",
       "    grid:                        ORCA1 tripolar grid, 1 deg with refinement t...\n",
       "    nominal_resolution:          100 km\n",
       "    activity_id:                 CMIP\n",
       "    sub_experiment_id:           none\n",
       "    parent_experiment_id:        piControl\n",
       "    institution:                 Canadian Centre for Climate Modelling and An...\n",
       "    variable_id:                 o2\n",
       "    table_id:                    Oyr\n",
       "    frequency:                   yr\n",
       "    cmor_version:                3.4.0\n",
       "    branch_method:               Spin-up documentation\n",
       "    grid_label:                  gn\n",
       "    forcing_index:               1\n",
       "    YMDH_branch_time_in_child:   1850:01:01:00\n",
       "    realm:                       ocnBgchem\n",
       "    title:                       CanESM5 output prepared for CMIP6\n",
       "    tracking_id:                 hdl:21.14100/41426118-701c-482b-ae16-82932e4...\n",
       "    version:                     v20190429\n",
       "    references:                  Geophysical Model Development Special issue ...\n",
       "    table_info:                  Creation Date:(20 February 2019) MD5:374fbe5...\n",
       "    institution_id:              CCCma\n",
       "    Conventions:                 CF-1.7 CMIP-6.2\n",
       "    license:                     CMIP6 model data produced by The Government ...\n",
       "    branch_time_in_parent:       1496500.0\n",
       "    mip_era:                     CMIP6\n",
       "    parent_mip_era:              CMIP6\n",
       "    parent_activity_id:          CMIP\n",
       "    sub_experiment:              none\n",
       "    CCCma_parent_runid:          p2-pictrl\n",
       "    product:                     model-output\n",
       "    external_variables:          areacello volcello\n",
       "    branch_time_in_child:        0.0\n",
       "    source:                      CanESM5 (2019): \\naerosol: interactive\\natmo...\n",
       "    experiment:                  all-forcing simulation of the recent past\n",
       "    CCCma_runid:                 p2-his09\n",
       "    data_specs_version:          01.00.29\n",
       "    contact:                     ec.cccma.info-info.ccmac.ec@canada.ca\n",
       "    further_info_url:            https://furtherinfo.es-doc.org/CMIP6.CCCma.C...\n",
       "    history:                     2019-05-02T13:53:53Z ;rewrote data to be con...\n",
       "    CCCma_model_hash:            Unknown\n",
       "    parent_source_id:            CanESM5\n",
       "    variant_label:               r9i1p2f1\n",
       "    realization_index:           9\n",
       "    YMDH_branch_time_in_parent:  5950:01:01:00\n",
       "    creation_date:               2019-05-30T08:58:45Z\n",
       "    initialization_index:        1\n",
       "    source_id:                   CanESM5\n",
       "    experiment_id:               historical\n",
       "    source_type:                 AOGCM"
      ]
     },
     "execution_count": 13,
     "metadata": {},
     "output_type": "execute_result"
    }
   ],
   "source": [
    "ds = dset_dict['CMIP.CCCma.CanESM5.historical.Oyr.gn']\n",
    "ds"
   ]
  },
  {
   "cell_type": "markdown",
   "metadata": {},
   "source": [
    "Let's create a quick plot for a slice of the data:"
   ]
  },
  {
   "cell_type": "code",
   "execution_count": 14,
   "metadata": {},
   "outputs": [
    {
     "data": {
      "text/plain": [
       "<matplotlib.collections.QuadMesh at 0x1286d8080>"
      ]
     },
     "execution_count": 14,
     "metadata": {},
     "output_type": "execute_result"
    },
    {
     "data": {
      "image/png": "[encoded data removed]",
      "text/plain": [
       "<Figure size 432x288 with 2 Axes>"
      ]
     },
     "metadata": {
      "needs_background": "light"
     },
     "output_type": "display_data"
    }
   ],
   "source": [
    "%matplotlib inline\n",
    "ds.o2.isel(time=0, lev=0, member_id=5).plot()"
   ]
  },
  {
   "cell_type": "markdown",
   "metadata": {},
   "source": [
    "We can execute more searches against the original catalog and/or against a subset of the original catalog:"
   ]
  },
  {
   "cell_type": "code",
   "execution_count": 15,
   "metadata": {},
   "outputs": [
    {
     "name": "stdout",
     "output_type": "stream",
     "text": [
      "CPU times: user 134 ms, sys: 26.5 ms, total: 160 ms\n",
      "Wall time: 495 ms\n"
     ]
    },
    {
     "data": {
      "text/html": [
       "<div>\n",
       "<style scoped>\n",
       "    .dataframe tbody tr th:only-of-type {\n",
       "        vertical-align: middle;\n",
       "    }\n",
       "\n",
       "    .dataframe tbody tr th {\n",
       "        vertical-align: top;\n",
       "    }\n",
       "\n",
       "    .dataframe thead th {\n",
       "        text-align: right;\n",
       "    }\n",
       "</style>\n",
       "<table border=\"1\" class=\"dataframe\">\n",
       "  <thead>\n",
       "    <tr style=\"text-align: right;\">\n",
       "      <th></th>\n",
       "      <th>activity_id</th>\n",
       "      <th>institution_id</th>\n",
       "      <th>source_id</th>\n",
       "      <th>experiment_id</th>\n",
       "      <th>member_id</th>\n",
       "      <th>table_id</th>\n",
       "      <th>variable_id</th>\n",
       "      <th>grid_label</th>\n",
       "      <th>zstore</th>\n",
       "      <th>dcpp_init_year</th>\n",
       "    </tr>\n",
       "  </thead>\n",
       "  <tbody>\n",
       "    <tr>\n",
       "      <td>13591</td>\n",
       "      <td>CMIP</td>\n",
       "      <td>NCAR</td>\n",
       "      <td>CESM2-WACCM</td>\n",
       "      <td>piControl</td>\n",
       "      <td>r1i1p1f1</td>\n",
       "      <td>Ofx</td>\n",
       "      <td>volcello</td>\n",
       "      <td>gn</td>\n",
       "      <td>gs://cmip6/CMIP/NCAR/CESM2-WACCM/piControl/r1i...</td>\n",
       "      <td>NaN</td>\n",
       "    </tr>\n",
       "    <tr>\n",
       "      <td>14061</td>\n",
       "      <td>CMIP</td>\n",
       "      <td>NCAR</td>\n",
       "      <td>CESM2</td>\n",
       "      <td>historical</td>\n",
       "      <td>r10i1p1f1</td>\n",
       "      <td>Ofx</td>\n",
       "      <td>volcello</td>\n",
       "      <td>gn</td>\n",
       "      <td>gs://cmip6/CMIP/NCAR/CESM2/historical/r10i1p1f...</td>\n",
       "      <td>NaN</td>\n",
       "    </tr>\n",
       "    <tr>\n",
       "      <td>14246</td>\n",
       "      <td>CMIP</td>\n",
       "      <td>NCAR</td>\n",
       "      <td>CESM2</td>\n",
       "      <td>historical</td>\n",
       "      <td>r11i1p1f1</td>\n",
       "      <td>Ofx</td>\n",
       "      <td>volcello</td>\n",
       "      <td>gn</td>\n",
       "      <td>gs://cmip6/CMIP/NCAR/CESM2/historical/r11i1p1f...</td>\n",
       "      <td>NaN</td>\n",
       "    </tr>\n",
       "    <tr>\n",
       "      <td>14396</td>\n",
       "      <td>CMIP</td>\n",
       "      <td>NCAR</td>\n",
       "      <td>CESM2</td>\n",
       "      <td>historical</td>\n",
       "      <td>r1i1p1f1</td>\n",
       "      <td>Ofx</td>\n",
       "      <td>volcello</td>\n",
       "      <td>gn</td>\n",
       "      <td>gs://cmip6/CMIP/NCAR/CESM2/historical/r1i1p1f1...</td>\n",
       "      <td>NaN</td>\n",
       "    </tr>\n",
       "    <tr>\n",
       "      <td>14546</td>\n",
       "      <td>CMIP</td>\n",
       "      <td>NCAR</td>\n",
       "      <td>CESM2</td>\n",
       "      <td>historical</td>\n",
       "      <td>r2i1p1f1</td>\n",
       "      <td>Ofx</td>\n",
       "      <td>volcello</td>\n",
       "      <td>gn</td>\n",
       "      <td>gs://cmip6/CMIP/NCAR/CESM2/historical/r2i1p1f1...</td>\n",
       "      <td>NaN</td>\n",
       "    </tr>\n",
       "  </tbody>\n",
       "</table>\n",
       "</div>"
      ],
      "text/plain": [
       "      activity_id institution_id    source_id experiment_id  member_id  \\\n",
       "13591        CMIP           NCAR  CESM2-WACCM     piControl   r1i1p1f1   \n",
       "14061        CMIP           NCAR        CESM2    historical  r10i1p1f1   \n",
       "14246        CMIP           NCAR        CESM2    historical  r11i1p1f1   \n",
       "14396        CMIP           NCAR        CESM2    historical   r1i1p1f1   \n",
       "14546        CMIP           NCAR        CESM2    historical   r2i1p1f1   \n",
       "\n",
       "      table_id variable_id grid_label  \\\n",
       "13591      Ofx    volcello         gn   \n",
       "14061      Ofx    volcello         gn   \n",
       "14246      Ofx    volcello         gn   \n",
       "14396      Ofx    volcello         gn   \n",
       "14546      Ofx    volcello         gn   \n",
       "\n",
       "                                                  zstore  dcpp_init_year  \n",
       "13591  gs://cmip6/CMIP/NCAR/CESM2-WACCM/piControl/r1i...             NaN  \n",
       "14061  gs://cmip6/CMIP/NCAR/CESM2/historical/r10i1p1f...             NaN  \n",
       "14246  gs://cmip6/CMIP/NCAR/CESM2/historical/r11i1p1f...             NaN  \n",
       "14396  gs://cmip6/CMIP/NCAR/CESM2/historical/r1i1p1f1...             NaN  \n",
       "14546  gs://cmip6/CMIP/NCAR/CESM2/historical/r2i1p1f1...             NaN  "
      ]
     },
     "execution_count": 15,
     "metadata": {},
     "output_type": "execute_result"
    }
   ],
   "source": [
    "%%time\n",
    "cat_fx = col.search(table_id='Ofx', grid_label='gn',\n",
    "                    variable_id='volcello')\n",
    "cat_fx.df.head()"
   ]
  },
  {
   "cell_type": "code",
   "execution_count": 16,
   "metadata": {},
   "outputs": [
    {
     "name": "stdout",
     "output_type": "stream",
     "text": [
      "CPU times: user 122 ms, sys: 19.8 ms, total: 142 ms\n",
      "Wall time: 424 ms\n"
     ]
    },
    {
     "data": {
      "text/html": [
       "<div>\n",
       "<style scoped>\n",
       "    .dataframe tbody tr th:only-of-type {\n",
       "        vertical-align: middle;\n",
       "    }\n",
       "\n",
       "    .dataframe tbody tr th {\n",
       "        vertical-align: top;\n",
       "    }\n",
       "\n",
       "    .dataframe thead th {\n",
       "        text-align: right;\n",
       "    }\n",
       "</style>\n",
       "<table border=\"1\" class=\"dataframe\">\n",
       "  <thead>\n",
       "    <tr style=\"text-align: right;\">\n",
       "      <th></th>\n",
       "      <th>activity_id</th>\n",
       "      <th>institution_id</th>\n",
       "      <th>source_id</th>\n",
       "      <th>experiment_id</th>\n",
       "      <th>member_id</th>\n",
       "      <th>table_id</th>\n",
       "      <th>variable_id</th>\n",
       "      <th>grid_label</th>\n",
       "      <th>zstore</th>\n",
       "      <th>dcpp_init_year</th>\n",
       "    </tr>\n",
       "  </thead>\n",
       "  <tbody>\n",
       "    <tr>\n",
       "      <td>14061</td>\n",
       "      <td>CMIP</td>\n",
       "      <td>NCAR</td>\n",
       "      <td>CESM2</td>\n",
       "      <td>historical</td>\n",
       "      <td>r10i1p1f1</td>\n",
       "      <td>Ofx</td>\n",
       "      <td>volcello</td>\n",
       "      <td>gn</td>\n",
       "      <td>gs://cmip6/CMIP/NCAR/CESM2/historical/r10i1p1f...</td>\n",
       "      <td>NaN</td>\n",
       "    </tr>\n",
       "    <tr>\n",
       "      <td>14246</td>\n",
       "      <td>CMIP</td>\n",
       "      <td>NCAR</td>\n",
       "      <td>CESM2</td>\n",
       "      <td>historical</td>\n",
       "      <td>r11i1p1f1</td>\n",
       "      <td>Ofx</td>\n",
       "      <td>volcello</td>\n",
       "      <td>gn</td>\n",
       "      <td>gs://cmip6/CMIP/NCAR/CESM2/historical/r11i1p1f...</td>\n",
       "      <td>NaN</td>\n",
       "    </tr>\n",
       "    <tr>\n",
       "      <td>14396</td>\n",
       "      <td>CMIP</td>\n",
       "      <td>NCAR</td>\n",
       "      <td>CESM2</td>\n",
       "      <td>historical</td>\n",
       "      <td>r1i1p1f1</td>\n",
       "      <td>Ofx</td>\n",
       "      <td>volcello</td>\n",
       "      <td>gn</td>\n",
       "      <td>gs://cmip6/CMIP/NCAR/CESM2/historical/r1i1p1f1...</td>\n",
       "      <td>NaN</td>\n",
       "    </tr>\n",
       "    <tr>\n",
       "      <td>14546</td>\n",
       "      <td>CMIP</td>\n",
       "      <td>NCAR</td>\n",
       "      <td>CESM2</td>\n",
       "      <td>historical</td>\n",
       "      <td>r2i1p1f1</td>\n",
       "      <td>Ofx</td>\n",
       "      <td>volcello</td>\n",
       "      <td>gn</td>\n",
       "      <td>gs://cmip6/CMIP/NCAR/CESM2/historical/r2i1p1f1...</td>\n",
       "      <td>NaN</td>\n",
       "    </tr>\n",
       "    <tr>\n",
       "      <td>14697</td>\n",
       "      <td>CMIP</td>\n",
       "      <td>NCAR</td>\n",
       "      <td>CESM2</td>\n",
       "      <td>historical</td>\n",
       "      <td>r3i1p1f1</td>\n",
       "      <td>Ofx</td>\n",
       "      <td>volcello</td>\n",
       "      <td>gn</td>\n",
       "      <td>gs://cmip6/CMIP/NCAR/CESM2/historical/r3i1p1f1...</td>\n",
       "      <td>NaN</td>\n",
       "    </tr>\n",
       "  </tbody>\n",
       "</table>\n",
       "</div>"
      ],
      "text/plain": [
       "      activity_id institution_id source_id experiment_id  member_id table_id  \\\n",
       "14061        CMIP           NCAR     CESM2    historical  r10i1p1f1      Ofx   \n",
       "14246        CMIP           NCAR     CESM2    historical  r11i1p1f1      Ofx   \n",
       "14396        CMIP           NCAR     CESM2    historical   r1i1p1f1      Ofx   \n",
       "14546        CMIP           NCAR     CESM2    historical   r2i1p1f1      Ofx   \n",
       "14697        CMIP           NCAR     CESM2    historical   r3i1p1f1      Ofx   \n",
       "\n",
       "      variable_id grid_label  \\\n",
       "14061    volcello         gn   \n",
       "14246    volcello         gn   \n",
       "14396    volcello         gn   \n",
       "14546    volcello         gn   \n",
       "14697    volcello         gn   \n",
       "\n",
       "                                                  zstore  dcpp_init_year  \n",
       "14061  gs://cmip6/CMIP/NCAR/CESM2/historical/r10i1p1f...             NaN  \n",
       "14246  gs://cmip6/CMIP/NCAR/CESM2/historical/r11i1p1f...             NaN  \n",
       "14396  gs://cmip6/CMIP/NCAR/CESM2/historical/r1i1p1f1...             NaN  \n",
       "14546  gs://cmip6/CMIP/NCAR/CESM2/historical/r2i1p1f1...             NaN  \n",
       "14697  gs://cmip6/CMIP/NCAR/CESM2/historical/r3i1p1f1...             NaN  "
      ]
     },
     "execution_count": 16,
     "metadata": {},
     "output_type": "execute_result"
    }
   ],
   "source": [
    "%%time\n",
    "a = cat_fx.search(source_id=\"CESM2\")\n",
    "a.df.head()"
   ]
  },
  {
   "cell_type": "code",
   "execution_count": 17,
   "metadata": {},
   "outputs": [
    {
     "data": {
      "text/plain": [
       "(29, 18)"
      ]
     },
     "execution_count": 17,
     "metadata": {},
     "output_type": "execute_result"
    }
   ],
   "source": [
    "len(cat_fx.df), len(a.df)"
   ]
  }
 ],
 "metadata": {
  "kernelspec": {
   "display_name": "Python [conda env:analysis]",
   "language": "python",
   "name": "conda-env-analysis-py"
  },
  "language_info": {
   "codemirror_mode": {
    "name": "ipython",
    "version": 3
   },
   "file_extension": ".py",
   "mimetype": "text/x-python",
   "name": "python",
   "nbconvert_exporter": "python",
   "pygments_lexer": "ipython3",
   "version": "3.7.3"
  }
 },
 "nbformat": 4,
 "nbformat_minor": 4
}
